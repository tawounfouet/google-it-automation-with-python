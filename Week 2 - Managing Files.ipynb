{
 "cells": [
  {
   "cell_type": "code",
   "execution_count": null,
   "id": "eeb65707",
   "metadata": {},
   "outputs": [],
   "source": []
  },
  {
   "cell_type": "code",
   "execution_count": 27,
   "id": "fd921eca",
   "metadata": {},
   "outputs": [
    {
     "data": {
      "text/plain": [
       "usage(total=250685575168, used=249197174784, free=1488400384)"
      ]
     },
     "execution_count": 27,
     "metadata": {},
     "output_type": "execute_result"
    }
   ],
   "source": [
    "# Disk Usage Percent\n",
    "import shutil\n",
    "\n",
    "du = shutil.disk_usage(\"/\")\n",
    "du"
   ]
  },
  {
   "cell_type": "code",
   "execution_count": 28,
   "id": "9bcb042b",
   "metadata": {},
   "outputs": [
    {
     "data": {
      "text/plain": [
       "0.5937319620415057"
      ]
     },
     "execution_count": 28,
     "metadata": {},
     "output_type": "execute_result"
    }
   ],
   "source": [
    "du.free/du.total*100"
   ]
  },
  {
   "cell_type": "code",
   "execution_count": 32,
   "id": "ffc6d499",
   "metadata": {},
   "outputs": [],
   "source": [
    "def check_disk_usage(disk):\n",
    "    du = shutil.disk_usage(disk)\n",
    "    free =  du.free / du.total *100\n",
    "    return free"
   ]
  },
  {
   "cell_type": "code",
   "execution_count": 33,
   "id": "639286a5",
   "metadata": {},
   "outputs": [
    {
     "data": {
      "text/plain": [
       "0.5996108036901021"
      ]
     },
     "execution_count": 33,
     "metadata": {},
     "output_type": "execute_result"
    }
   ],
   "source": [
    "check_disk_usage(\"/\")"
   ]
  },
  {
   "cell_type": "code",
   "execution_count": null,
   "id": "376af6dd",
   "metadata": {},
   "outputs": [],
   "source": []
  },
  {
   "cell_type": "code",
   "execution_count": 25,
   "id": "983b3128",
   "metadata": {},
   "outputs": [
    {
     "data": {
      "text/plain": [
       "47.1"
      ]
     },
     "execution_count": 25,
     "metadata": {},
     "output_type": "execute_result"
    }
   ],
   "source": [
    "import psutil\n",
    "\n",
    "psutil.cpu_percent(0.5)"
   ]
  },
  {
   "cell_type": "code",
   "execution_count": null,
   "id": "a91f0461",
   "metadata": {},
   "outputs": [],
   "source": [
    "# Setup the script to use the python interpreter with the shabang : #!/usr/bin/env python3"
   ]
  },
  {
   "cell_type": "code",
   "execution_count": null,
   "id": "52ef620f",
   "metadata": {},
   "outputs": [],
   "source": []
  },
  {
   "cell_type": "markdown",
   "id": "1ed62a44",
   "metadata": {},
   "source": [
    "## Reading and Writing Files"
   ]
  },
  {
   "cell_type": "markdown",
   "id": "efd66736",
   "metadata": {},
   "source": [
    "### Reading Files\n",
    "\n",
    "- The readline() method reads a single line from the current position, \n",
    "- the read() method reads from the current position until the end of the file."
   ]
  },
  {
   "cell_type": "code",
   "execution_count": 47,
   "id": "5409bb0c",
   "metadata": {},
   "outputs": [],
   "source": [
    "file = open(\"health_checks.py\")"
   ]
  },
  {
   "cell_type": "code",
   "execution_count": 48,
   "id": "2d4682fd",
   "metadata": {},
   "outputs": [
    {
     "name": "stdout",
     "output_type": "stream",
     "text": [
      "#!/usr/bin/env python3\n",
      "\n"
     ]
    }
   ],
   "source": [
    "print(file.readline())"
   ]
  },
  {
   "cell_type": "code",
   "execution_count": 49,
   "id": "40180282",
   "metadata": {},
   "outputs": [
    {
     "name": "stdout",
     "output_type": "stream",
     "text": [
      "# Checking disk usage script\n",
      "\n"
     ]
    }
   ],
   "source": [
    "print(file.readline())"
   ]
  },
  {
   "cell_type": "code",
   "execution_count": 50,
   "id": "273e5d88",
   "metadata": {},
   "outputs": [
    {
     "name": "stdout",
     "output_type": "stream",
     "text": [
      "import shutil\n",
      "\n"
     ]
    }
   ],
   "source": [
    "print(file.readline())"
   ]
  },
  {
   "cell_type": "code",
   "execution_count": 51,
   "id": "e3b4c7c2",
   "metadata": {},
   "outputs": [
    {
     "name": "stdout",
     "output_type": "stream",
     "text": [
      "import psutil\n",
      "\n",
      "def check_disk_usage(disk):\n",
      "    du = shutil.disk_usage(disk)\n",
      "    free =  du.free / du.total *100\n",
      "    return free > 0.20\n",
      "\n",
      "\n",
      "def check_cpu_usage():\n",
      "    usage = psutil.cpu_percent(1)\n",
      "\n",
      "    return usage < 75 \n",
      "\n",
      "\n",
      "if not check_disk_usage(\"/\") or not check_cpu_usage():\n",
      "    print(\"ERROR!\")\n",
      "else:\n",
      "    print(\"Everything is OK!\")\n"
     ]
    }
   ],
   "source": [
    "print(file.read())"
   ]
  },
  {
   "cell_type": "code",
   "execution_count": 52,
   "id": "67ad1cda",
   "metadata": {},
   "outputs": [],
   "source": [
    "# Always remember to close a file after we have done using it\n",
    "file.close()"
   ]
  },
  {
   "cell_type": "code",
   "execution_count": null,
   "id": "6487245d",
   "metadata": {},
   "outputs": [],
   "source": []
  },
  {
   "cell_type": "code",
   "execution_count": 54,
   "id": "b32c00a9",
   "metadata": {},
   "outputs": [
    {
     "name": "stdout",
     "output_type": "stream",
     "text": [
      "#!/usr/bin/env python3\n",
      "\n"
     ]
    }
   ],
   "source": [
    "# Using a with block while automatically close the file after we quit the block\n",
    "\n",
    "with open(\"health_checks.py\") as file:\n",
    "    print(file.readline())"
   ]
  },
  {
   "cell_type": "markdown",
   "id": "4cbaa13c",
   "metadata": {},
   "source": [
    "### Itirating Through files"
   ]
  },
  {
   "cell_type": "code",
   "execution_count": 57,
   "id": "73c9811f",
   "metadata": {},
   "outputs": [
    {
     "name": "stdout",
     "output_type": "stream",
     "text": [
      "#!/USR/BIN/ENV PYTHON3\n",
      "\n",
      "# CHECKING DISK USAGE SCRIPT\n",
      "\n",
      "IMPORT SHUTIL\n",
      "\n",
      "IMPORT PSUTIL\n",
      "\n",
      "\n",
      "\n",
      "DEF CHECK_DISK_USAGE(DISK):\n",
      "\n",
      "    DU = SHUTIL.DISK_USAGE(DISK)\n",
      "\n",
      "    FREE =  DU.FREE / DU.TOTAL *100\n",
      "\n",
      "    RETURN FREE > 0.20\n",
      "\n",
      "\n",
      "\n",
      "DEF CHECK_CPU_USAGE():\n",
      "\n",
      "    USAGE = PSUTIL.CPU_PERCENT(1)\n",
      "\n",
      "    RETURN USAGE < 75 \n",
      "\n",
      "\n",
      "\n",
      "IF NOT CHECK_DISK_USAGE(\"/\") OR NOT CHECK_CPU_USAGE():\n",
      "\n",
      "    PRINT(\"ERROR!\")\n",
      "\n",
      "ELSE:\n",
      "\n",
      "    PRINT(\"EVERYTHING IS OK!\")\n"
     ]
    }
   ],
   "source": [
    "with open(\"health_checks.py\") as file:\n",
    "    for line in file:\n",
    "        print(line.upper())"
   ]
  },
  {
   "cell_type": "code",
   "execution_count": 59,
   "id": "8e0f74cb",
   "metadata": {},
   "outputs": [
    {
     "name": "stdout",
     "output_type": "stream",
     "text": [
      "#!/USR/BIN/ENV PYTHON3\n",
      "# CHECKING DISK USAGE SCRIPT\n",
      "IMPORT SHUTIL\n",
      "IMPORT PSUTIL\n",
      "\n",
      "DEF CHECK_DISK_USAGE(DISK):\n",
      "DU = SHUTIL.DISK_USAGE(DISK)\n",
      "FREE =  DU.FREE / DU.TOTAL *100\n",
      "RETURN FREE > 0.20\n",
      "\n",
      "DEF CHECK_CPU_USAGE():\n",
      "USAGE = PSUTIL.CPU_PERCENT(1)\n",
      "RETURN USAGE < 75\n",
      "\n",
      "IF NOT CHECK_DISK_USAGE(\"/\") OR NOT CHECK_CPU_USAGE():\n",
      "PRINT(\"ERROR!\")\n",
      "ELSE:\n",
      "PRINT(\"EVERYTHING IS OK!\")\n"
     ]
    }
   ],
   "source": [
    "# Avoid getting the empty lines\n",
    "# Here, we are iterating line by line, and the strip() command is used to remove extra whitespace.\n",
    "\n",
    "with open(\"health_checks.py\") as file:\n",
    "    for line in file:\n",
    "        print(line.strip().upper())"
   ]
  },
  {
   "cell_type": "code",
   "execution_count": 60,
   "id": "a7c238a4",
   "metadata": {},
   "outputs": [],
   "source": [
    "# Read the file lines into a list then we can do something with the list like sort content\n",
    "\n",
    "# first open the file\n",
    "file = open(\"health_checks.py\")\n",
    "\n",
    "# then read all the lines \n",
    "lines = file.readlines()\n",
    "\n",
    "# then we close the file\n",
    "file.close()"
   ]
  },
  {
   "cell_type": "code",
   "execution_count": 62,
   "id": "2086955e",
   "metadata": {},
   "outputs": [
    {
     "data": {
      "text/plain": [
       "['#!/usr/bin/env python3\\n',\n",
       " '# Checking disk usage script\\n',\n",
       " 'import shutil\\n',\n",
       " 'import psutil\\n',\n",
       " '\\n',\n",
       " 'def check_disk_usage(disk):\\n',\n",
       " '    du = shutil.disk_usage(disk)\\n',\n",
       " '    free =  du.free / du.total *100\\n',\n",
       " '    return free > 0.20\\n',\n",
       " '\\n',\n",
       " 'def check_cpu_usage():\\n',\n",
       " '    usage = psutil.cpu_percent(1)\\n',\n",
       " '    return usage < 75 \\n',\n",
       " '\\n',\n",
       " 'if not check_disk_usage(\"/\") or not check_cpu_usage():\\n',\n",
       " '    print(\"ERROR!\")\\n',\n",
       " 'else:\\n',\n",
       " '    print(\"Everything is OK!\")']"
      ]
     },
     "execution_count": 62,
     "metadata": {},
     "output_type": "execute_result"
    }
   ],
   "source": [
    "# Even though the file object is now close, the lines variables has the list of line.\n",
    "# So we can operate on it\n",
    "lines"
   ]
  },
  {
   "cell_type": "code",
   "execution_count": 64,
   "id": "ee329cc9",
   "metadata": {},
   "outputs": [
    {
     "name": "stdout",
     "output_type": "stream",
     "text": [
      "['\\n', '\\n', '\\n', '    du = shutil.disk_usage(disk)\\n', '    free =  du.free / du.total *100\\n', '    print(\"ERROR!\")\\n', '    print(\"Everything is OK!\")', '    return free > 0.20\\n', '    return usage < 75 \\n', '    usage = psutil.cpu_percent(1)\\n', '# Checking disk usage script\\n', '#!/usr/bin/env python3\\n', 'def check_cpu_usage():\\n', 'def check_disk_usage(disk):\\n', 'else:\\n', 'if not check_disk_usage(\"/\") or not check_cpu_usage():\\n', 'import psutil\\n', 'import shutil\\n']\n"
     ]
    }
   ],
   "source": [
    "lines.sort()\n",
    "print(lines)"
   ]
  },
  {
   "cell_type": "markdown",
   "id": "6f4782c7",
   "metadata": {},
   "source": [
    "### Wriing files "
   ]
  },
  {
   "cell_type": "code",
   "execution_count": 65,
   "id": "e0894bb1",
   "metadata": {},
   "outputs": [],
   "source": [
    "!touch example.txt"
   ]
  },
  {
   "cell_type": "code",
   "execution_count": 66,
   "id": "3bb2b0f0",
   "metadata": {},
   "outputs": [
    {
     "name": "stdout",
     "output_type": "stream",
     "text": [
      "\u001b[34mDA. Python _ OCR\u001b[m\u001b[m/                   \u001b[31mhealth_checks.py\u001b[m\u001b[m*\r\n",
      "Untitled.ipynb                      \u001b[34mpython-extraction-data\u001b[m\u001b[m/\r\n",
      "\u001b[34mdossier sans titre\u001b[m\u001b[m/                 \u001b[34mweb-scraping-python_ninja-scripter\u001b[m\u001b[m/\r\n",
      "example.txt\r\n"
     ]
    }
   ],
   "source": [
    "ls"
   ]
  },
  {
   "cell_type": "code",
   "execution_count": 67,
   "id": "d2a8daef",
   "metadata": {},
   "outputs": [],
   "source": [
    "with open(\"novel.txt\", \"w\") as file:\n",
    "    file.write(\"It was a dark and stormy night\")"
   ]
  },
  {
   "cell_type": "code",
   "execution_count": 68,
   "id": "7d81656d",
   "metadata": {},
   "outputs": [
    {
     "name": "stdout",
     "output_type": "stream",
     "text": [
      "\u001b[34mDA. Python _ OCR\u001b[m\u001b[m/                   \u001b[31mhealth_checks.py\u001b[m\u001b[m*\r\n",
      "Untitled.ipynb                      novel.txt\r\n",
      "\u001b[34mdossier sans titre\u001b[m\u001b[m/                 \u001b[34mpython-extraction-data\u001b[m\u001b[m/\r\n",
      "example.txt                         \u001b[34mweb-scraping-python_ninja-scripter\u001b[m\u001b[m/\r\n"
     ]
    }
   ],
   "source": [
    "ls"
   ]
  },
  {
   "cell_type": "markdown",
   "id": "99675181",
   "metadata": {},
   "source": [
    "file objects can be open in several different modes.\n",
    "\n",
    "A mode is similar to a file permission, it governs what you can do with a fileyou just open. \n",
    "- By default the **open function** uses the **\"r\"** mode (read only)\n",
    "- **\"w\"** : write only (if the file doesn't exist, then python will create it)\n",
    "- **\"a\"** : appending content at the end of an existing file\n",
    "-  **\"r+\"** : read and write mode\n",
    "\n",
    "If you open a file for writing and the file already exists, the old contents will be deleted as soon as the file is opened."
   ]
  },
  {
   "cell_type": "code",
   "execution_count": 69,
   "id": "1bb26dcc",
   "metadata": {},
   "outputs": [
    {
     "name": "stdout",
     "output_type": "stream",
     "text": [
      "It was a dark and stormy night\n"
     ]
    }
   ],
   "source": [
    "with open(\"novel.txt\") as file:\n",
    "    print(file.read())"
   ]
  },
  {
   "attachments": {
    "image.png": {
     "image/png": "[encoded data removed]"
    }
   },
   "cell_type": "markdown",
   "id": "3fb3f900",
   "metadata": {},
   "source": [
    "**Documentation**: https://docs.python.org/3/library/functions.html#open\n",
    "\n",
    "![image.png](attachment:image.png)"
   ]
  },
  {
   "cell_type": "markdown",
   "id": "c8ecde3a",
   "metadata": {},
   "source": [
    "### Managing Files and Directories"
   ]
  },
  {
   "cell_type": "code",
   "execution_count": 70,
   "id": "d716529e",
   "metadata": {},
   "outputs": [
    {
     "name": "stdout",
     "output_type": "stream",
     "text": [
      "\u001b[34mDA. Python _ OCR\u001b[m\u001b[m/\r\n",
      "\u001b[34mUsing Python to Interact with Operating System\u001b[m\u001b[m/\r\n",
      "Week 2 - Managing Files.ipynb\r\n",
      "\u001b[34mdossier sans titre\u001b[m\u001b[m/\r\n",
      "example.txt\r\n",
      "\u001b[31mhealth_checks.py\u001b[m\u001b[m*\r\n",
      "novel.txt\r\n",
      "\u001b[34mpython-extraction-data\u001b[m\u001b[m/\r\n",
      "\u001b[34mweb-scraping-python_ninja-scripter\u001b[m\u001b[m/\r\n"
     ]
    }
   ],
   "source": [
    "ls"
   ]
  },
  {
   "cell_type": "markdown",
   "id": "186ba5ce",
   "metadata": {},
   "source": [
    "#### Working with Files"
   ]
  },
  {
   "cell_type": "code",
   "execution_count": 71,
   "id": "cd73cf2d",
   "metadata": {},
   "outputs": [],
   "source": [
    "# Detele a file\n",
    "\n",
    "import os\n",
    "os.remove(\"example.txt\")"
   ]
  },
  {
   "cell_type": "code",
   "execution_count": 72,
   "id": "50e55b8b",
   "metadata": {},
   "outputs": [
    {
     "ename": "FileNotFoundError",
     "evalue": "[Errno 2] No such file or directory: 'example.txt'",
     "output_type": "error",
     "traceback": [
      "\u001b[0;31m---------------------------------------------------------------------------\u001b[0m",
      "\u001b[0;31mFileNotFoundError\u001b[0m                         Traceback (most recent call last)",
      "Cell \u001b[0;32mIn[72], line 1\u001b[0m\n\u001b[0;32m----> 1\u001b[0m \u001b[43mos\u001b[49m\u001b[38;5;241;43m.\u001b[39;49m\u001b[43mremove\u001b[49m\u001b[43m(\u001b[49m\u001b[38;5;124;43m\"\u001b[39;49m\u001b[38;5;124;43mexample.txt\u001b[39;49m\u001b[38;5;124;43m\"\u001b[39;49m\u001b[43m)\u001b[49m\n",
      "\u001b[0;31mFileNotFoundError\u001b[0m: [Errno 2] No such file or directory: 'example.txt'"
     ]
    }
   ],
   "source": [
    "# If we try to remove a file that doesn't exist, the function will raise an error.\n",
    "os.remove(\"example.txt\")"
   ]
  },
  {
   "cell_type": "code",
   "execution_count": 75,
   "id": "bdbd197b",
   "metadata": {},
   "outputs": [],
   "source": [
    "!touch first_draft.txt"
   ]
  },
  {
   "cell_type": "code",
   "execution_count": 76,
   "id": "f3ebd8f8",
   "metadata": {},
   "outputs": [],
   "source": [
    "# We can easily rename a file \n",
    "\n",
    "os.rename(\"first_draft.txt\", \"finished_masterpiece.txt\")"
   ]
  },
  {
   "cell_type": "code",
   "execution_count": 78,
   "id": "2059d17d",
   "metadata": {},
   "outputs": [],
   "source": [
    "#ls"
   ]
  },
  {
   "cell_type": "code",
   "execution_count": 79,
   "id": "063b2113",
   "metadata": {},
   "outputs": [
    {
     "data": {
      "text/plain": [
       "True"
      ]
     },
     "execution_count": 79,
     "metadata": {},
     "output_type": "execute_result"
    }
   ],
   "source": [
    "# os.path module and the exist function to check if a file exists\n",
    "    ## The os.path.exists function will return True if the file exists, False if doesn't\n",
    "t\n",
    "os.path.exists(\"finished_masterpiece.txt\")"
   ]
  },
  {
   "cell_type": "code",
   "execution_count": 81,
   "id": "e521a552",
   "metadata": {},
   "outputs": [
    {
     "data": {
      "text/plain": [
       "False"
      ]
     },
     "execution_count": 81,
     "metadata": {},
     "output_type": "execute_result"
    }
   ],
   "source": [
    "os.path.exists(\"first_draft.txt\")"
   ]
  },
  {
   "cell_type": "markdown",
   "id": "26df148a",
   "metadata": {},
   "source": [
    "#### More file information"
   ]
  },
  {
   "cell_type": "code",
   "execution_count": 83,
   "id": "d31e21df",
   "metadata": {},
   "outputs": [
    {
     "data": {
      "text/plain": [
       "394"
      ]
     },
     "execution_count": 83,
     "metadata": {},
     "output_type": "execute_result"
    }
   ],
   "source": [
    "# Get the size of a file in bytes\n",
    "\n",
    "os.path.getsize(\"health_checks.py\")"
   ]
  },
  {
   "cell_type": "code",
   "execution_count": 84,
   "id": "22584012",
   "metadata": {},
   "outputs": [
    {
     "data": {
      "text/plain": [
       "1679939018.1004825"
      ]
     },
     "execution_count": 84,
     "metadata": {},
     "output_type": "execute_result"
    }
   ],
   "source": [
    "# Check out when last time a file was modify\n",
    "\n",
    "os.path.getmtime(\"health_checks.py\")"
   ]
  },
  {
   "cell_type": "code",
   "execution_count": 88,
   "id": "979dc112",
   "metadata": {},
   "outputs": [
    {
     "data": {
      "text/plain": [
       "datetime.datetime(2023, 3, 27, 19, 43, 38, 100482)"
      ]
     },
     "execution_count": 88,
     "metadata": {},
     "output_type": "execute_result"
    }
   ],
   "source": [
    "import datetime as dt\n",
    "timestamp = os.path.getmtime(\"health_checks.py\")\n",
    "\n",
    "dt.datetime.fromtimestamp(timestamp)"
   ]
  },
  {
   "cell_type": "markdown",
   "id": "4992ce14",
   "metadata": {},
   "source": [
    "Some more functions of the os.path module include `**getsize()**` and `**sfile()**` which get information on the file size and determine if a file exists, respectively. In the following code snippet, what do you think will print if the file does not exist?"
   ]
  },
  {
   "cell_type": "code",
   "execution_count": 89,
   "id": "f7690aef",
   "metadata": {},
   "outputs": [
    {
     "name": "stdout",
     "output_type": "stream",
     "text": [
      "False\n",
      "File not found\n"
     ]
    }
   ],
   "source": [
    "import os\n",
    "file= \"file.dat\"\n",
    "if os.path.isfile(file):\n",
    "    print(os.path.isfile(file))\n",
    "    print(os.path.getsize(file))\n",
    "else:\n",
    "    print(os.path.isfile(file))\n",
    "    print(\"File not found\")"
   ]
  },
  {
   "cell_type": "markdown",
   "id": "5a6efd63",
   "metadata": {},
   "source": [
    "#### Directories"
   ]
  },
  {
   "cell_type": "code",
   "execution_count": 93,
   "id": "eb50ba7b",
   "metadata": {},
   "outputs": [
    {
     "name": "stdout",
     "output_type": "stream",
     "text": [
      "/Users/awf/Projects/python\n"
     ]
    }
   ],
   "source": [
    "# Check with current directorie our python programm is running in\n",
    "    # .getcwd() method\n",
    "    \n",
    "print(os.getcwd())"
   ]
  },
  {
   "cell_type": "code",
   "execution_count": 94,
   "id": "1f1a66ee",
   "metadata": {},
   "outputs": [],
   "source": [
    "# Create a directorie\n",
    "\n",
    "os.mkdir(\"new_dir\")"
   ]
  },
  {
   "cell_type": "code",
   "execution_count": 95,
   "id": "ef837717",
   "metadata": {},
   "outputs": [
    {
     "name": "stdout",
     "output_type": "stream",
     "text": [
      "\u001b[34mDA. Python _ OCR\u001b[m\u001b[m/\r\n",
      "\u001b[34mUsing Python to Interact with Operating System\u001b[m\u001b[m/\r\n",
      "Week 2 - Managing Files.ipynb\r\n",
      "\u001b[34mdossier sans titre\u001b[m\u001b[m/\r\n",
      "finished_masterpiece.txt\r\n",
      "\u001b[31mhealth_checks.py\u001b[m\u001b[m*\r\n",
      "\u001b[34mnew_dir\u001b[m\u001b[m/\r\n",
      "novel.txt\r\n",
      "\u001b[34mpython-extraction-data\u001b[m\u001b[m/\r\n",
      "\u001b[34mweb-scraping-python_ninja-scripter\u001b[m\u001b[m/\r\n"
     ]
    }
   ],
   "source": [
    "ls"
   ]
  },
  {
   "cell_type": "code",
   "execution_count": null,
   "id": "1263aa14",
   "metadata": {},
   "outputs": [],
   "source": [
    "# To change directorie\n",
    "\n",
    "os.chdir(\"new_dir\")"
   ]
  },
  {
   "cell_type": "code",
   "execution_count": 99,
   "id": "02b17eda",
   "metadata": {},
   "outputs": [
    {
     "data": {
      "text/plain": [
       "'/Users/awf/Projects/python/new_dir'"
      ]
     },
     "execution_count": 99,
     "metadata": {},
     "output_type": "execute_result"
    }
   ],
   "source": [
    "os.getcwd()"
   ]
  },
  {
   "cell_type": "code",
   "execution_count": 100,
   "id": "4077ff62",
   "metadata": {},
   "outputs": [
    {
     "name": "stdout",
     "output_type": "stream",
     "text": [
      "/Users/awf/Projects/python\n"
     ]
    }
   ],
   "source": [
    "cd .."
   ]
  },
  {
   "cell_type": "code",
   "execution_count": 101,
   "id": "6aee7623",
   "metadata": {},
   "outputs": [],
   "source": [
    "# Remove directorie\n",
    "\n",
    "os.rmdir(\"new_dir\")"
   ]
  },
  {
   "cell_type": "markdown",
   "id": "67c5009f",
   "metadata": {},
   "source": [
    "Note that the **.rmdir** will only work if the file is empty"
   ]
  },
  {
   "cell_type": "code",
   "execution_count": 105,
   "id": "acffb77c",
   "metadata": {},
   "outputs": [
    {
     "data": {
      "text/plain": [
       "['home',\n",
       " 'usr',\n",
       " 'bin',\n",
       " 'sbin',\n",
       " '.file',\n",
       " 'etc',\n",
       " 'var',\n",
       " 'Library',\n",
       " 'System',\n",
       " '.VolumeIcon.icns',\n",
       " 'private',\n",
       " '.vol',\n",
       " 'Users',\n",
       " 'Applications',\n",
       " 'opt',\n",
       " 'dev',\n",
       " 'Volumes',\n",
       " 'tmp',\n",
       " 'cores']"
      ]
     },
     "execution_count": 105,
     "metadata": {},
     "output_type": "execute_result"
    }
   ],
   "source": [
    "# Listing directories and files in a given directory\n",
    "\n",
    "import os \n",
    "\n",
    "os.listdir(\"/\")"
   ]
  },
  {
   "cell_type": "code",
   "execution_count": 106,
   "id": "886b67d0",
   "metadata": {},
   "outputs": [
    {
     "data": {
      "text/plain": [
       "['finished_masterpiece.txt',\n",
       " 'Week 2 - Managing Files.ipynb',\n",
       " 'Using Python to Interact with Operating System',\n",
       " '.DS_Store',\n",
       " 'health_checks.py',\n",
       " 'dossier sans titre',\n",
       " 'python-extraction-data',\n",
       " 'web-scraping-python_ninja-scripter',\n",
       " 'DA. Python _ OCR',\n",
       " '.ipynb_checkpoints',\n",
       " '.git',\n",
       " 'novel.txt']"
      ]
     },
     "execution_count": 106,
     "metadata": {},
     "output_type": "execute_result"
    }
   ],
   "source": [
    "os.listdir(\"./\")"
   ]
  },
  {
   "cell_type": "code",
   "execution_count": 115,
   "id": "426b4527",
   "metadata": {},
   "outputs": [
    {
     "data": {
      "text/plain": [
       "[\"P1 - Utilisez python pour l'analyse de marché _ Webscraping \",\n",
       " '.DS_Store',\n",
       " 'scraping.py']"
      ]
     },
     "execution_count": 115,
     "metadata": {},
     "output_type": "execute_result"
    }
   ],
   "source": [
    "os.listdir(\"DA. Python _ OCR\")"
   ]
  },
  {
   "cell_type": "code",
   "execution_count": 114,
   "id": "51078ece",
   "metadata": {},
   "outputs": [
    {
     "name": "stdout",
     "output_type": "stream",
     "text": [
      "DA. Python _ OCR/P1 - Utilisez python pour l'analyse de marché _ Webscraping  is directory\n",
      "DA. Python _ OCR/.DS_Store is a file\n",
      "DA. Python _ OCR/scraping.py is a file\n"
     ]
    }
   ],
   "source": [
    "# To see which of the listing is a directory, we have to use os.path.join() to create the full path\n",
    "import os\n",
    "\n",
    "my_dir = \"DA. Python _ OCR\"\n",
    "for name in os.listdir(my_dir):\n",
    "    fullname = os.path.join(my_dir, name)\n",
    "    if os.path.isdir(fullname):\n",
    "        print(\"{} is directory\".format(fullname))\n",
    "    else:\n",
    "        print(\"{} is a file\".format(fullname))"
   ]
  },
  {
   "cell_type": "code",
   "execution_count": null,
   "id": "41e52198",
   "metadata": {},
   "outputs": [],
   "source": []
  },
  {
   "cell_type": "markdown",
   "id": "2ee42dfe",
   "metadata": {},
   "source": [
    "#### Reading CSV files "
   ]
  },
  {
   "cell_type": "code",
   "execution_count": 117,
   "id": "0ac9263c",
   "metadata": {},
   "outputs": [],
   "source": [
    "!touch csv_file.txt"
   ]
  },
  {
   "cell_type": "code",
   "execution_count": 120,
   "id": "491236a5",
   "metadata": {},
   "outputs": [],
   "source": [
    "#! cat > \"hello world\" csv_file.txt"
   ]
  },
  {
   "cell_type": "code",
   "execution_count": 124,
   "id": "9c657c51",
   "metadata": {},
   "outputs": [],
   "source": [
    "import csv\n",
    "\n",
    "f = open(\"csv_file.txt\")\n",
    "\n",
    "for row in csv.reader(f):\n",
    "    name, phone, role = row\n",
    "    print(\"Name: {}, Phone: {}, Role: {}\".format(name, phone, role))\n",
    "\n",
    "f.close()"
   ]
  },
  {
   "cell_type": "code",
   "execution_count": null,
   "id": "8a7b0442",
   "metadata": {},
   "outputs": [],
   "source": []
  },
  {
   "cell_type": "markdown",
   "id": "233db4f3",
   "metadata": {},
   "source": [
    "#### Generating CSV"
   ]
  },
  {
   "cell_type": "code",
   "execution_count": 125,
   "id": "1fee160e",
   "metadata": {},
   "outputs": [],
   "source": [
    "hosts = [[\"worstation.local\", \"192.168.25.46\"], [\"webserver.cloud\", \"10.2.5.6\"]]\n",
    "\n",
    "with open('hosts.csv', \"w\") as hosts_csv:\n",
    "    writer = csv.writer(hosts_csv)\n",
    "    writer.writerows(hosts)"
   ]
  },
  {
   "cell_type": "code",
   "execution_count": 126,
   "id": "ad69d6b3",
   "metadata": {},
   "outputs": [
    {
     "name": "stdout",
     "output_type": "stream",
     "text": [
      "worstation.local,192.168.25.46\r",
      "\r\n",
      "webserver.cloud,10.2.5.6\r",
      "\r\n"
     ]
    }
   ],
   "source": [
    "cat hosts.csv"
   ]
  },
  {
   "cell_type": "markdown",
   "id": "c66bd165",
   "metadata": {},
   "source": [
    "#### Reading and Writing CSV Files with Dictionaries"
   ]
  },
  {
   "cell_type": "code",
   "execution_count": 127,
   "id": "f39ec7b9",
   "metadata": {},
   "outputs": [],
   "source": [
    "!touch software.csv"
   ]
  },
  {
   "cell_type": "code",
   "execution_count": 128,
   "id": "4952a027",
   "metadata": {},
   "outputs": [],
   "source": [
    "with open('software.csv') as software:\n",
    "    reader = csv.DictReader(software)\n",
    "    for row in reader:\n",
    "        print((\"{} has users\").format(row[\"name\"], row[\"users\"]))"
   ]
  },
  {
   "cell_type": "code",
   "execution_count": 131,
   "id": "d1179e98",
   "metadata": {},
   "outputs": [],
   "source": [
    "users = [{\"name\": \"Sol Mansi\", \"username\": \"solm\", \"department\": \"IT infrastructure\"},\n",
    "         {\"name\": \"Lio Nelson\", \"username\": \"lion\", \"department\": \"User Experience Research\"},\n",
    "         {\"name\": \"Charlie Grey\", \"username\": \"greyc\", \"department\": \"Development\"}]\n",
    "\n",
    "keys = [\"name\", \"username\", \"department\"]\n",
    "\n",
    "\n",
    "with open(\"by_department.csv\", \"w\") as by_department:\n",
    "    writer = csv.DictWriter(by_department, fieldnames=keys)\n",
    "    writer.writeheader()\n",
    "    writer.writerows(users)"
   ]
  },
  {
   "cell_type": "code",
   "execution_count": 132,
   "id": "5f1a2a1d",
   "metadata": {},
   "outputs": [
    {
     "name": "stdout",
     "output_type": "stream",
     "text": [
      "name,username,department\r",
      "\r\n",
      "Sol Mansi,solm,IT infrastructure\r",
      "\r\n",
      "Lio Nelson,lion,User Experience Research\r",
      "\r\n",
      "Charlie Grey,greyc,Development\r",
      "\r\n"
     ]
    }
   ],
   "source": [
    "cat by_department.csv"
   ]
  },
  {
   "cell_type": "code",
   "execution_count": null,
   "id": "205509aa",
   "metadata": {},
   "outputs": [],
   "source": []
  }
 ],
 "metadata": {
  "kernelspec": {
   "display_name": "Python 3 (ipykernel)",
   "language": "python",
   "name": "python3"
  },
  "language_info": {
   "codemirror_mode": {
    "name": "ipython",
    "version": 3
   },
   "file_extension": ".py",
   "mimetype": "text/x-python",
   "name": "python",
   "nbconvert_exporter": "python",
   "pygments_lexer": "ipython3",
   "version": "3.10.9"
  }
 },
 "nbformat": 4,
 "nbformat_minor": 5
}
