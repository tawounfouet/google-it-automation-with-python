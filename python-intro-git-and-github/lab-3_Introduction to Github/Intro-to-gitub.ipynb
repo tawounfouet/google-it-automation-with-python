{
 "cells": [
  {
   "attachments": {},
   "cell_type": "markdown",
   "metadata": {},
   "source": [
    "# Qwiklabs Assessment: Introduction to Github\n",
    "\n",
    "## Introduction\n",
    "In this lab, you'll practice the basics of interacting with GitHub. You'll practice setting up an account, logging in, creating a repository, making changes on the local machine, and pushing changes back to the remote repository. We use these git operations to share changes from the remote repository to the local repository and vice-versa.\n",
    "\n",
    "What you'll do\n",
    "- Create a Github account\n",
    "- Create a git repository\n",
    "- Git clone to create a local copy on your local machine\n",
    "- Add a file to this repository\n",
    "- Create snapshot/snapshots of the local repository\n",
    "- Push the snapshots to the master branch"
   ]
  },
  {
   "cell_type": "code",
   "execution_count": null,
   "metadata": {},
   "outputs": [],
   "source": []
  }
 ],
 "metadata": {
  "language_info": {
   "name": "python"
  },
  "orig_nbformat": 4
 },
 "nbformat": 4,
 "nbformat_minor": 2
}
