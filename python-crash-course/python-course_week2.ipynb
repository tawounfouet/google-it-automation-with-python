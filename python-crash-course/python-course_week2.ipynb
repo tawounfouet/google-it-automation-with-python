{
 "cells": [
  {
   "attachments": {},
   "cell_type": "markdown",
   "metadata": {},
   "source": [
    "# Python Crash Course - Week 2"
   ]
  },
  {
   "attachments": {},
   "cell_type": "markdown",
   "metadata": {},
   "source": [
    "## Functions    \n",
    "### Defining a function"
   ]
  },
  {
   "cell_type": "code",
   "execution_count": 1,
   "metadata": {},
   "outputs": [],
   "source": [
    "def greetings(name):\n",
    "    print(\"Hello, \" + name + \"!\")"
   ]
  },
  {
   "cell_type": "code",
   "execution_count": 2,
   "metadata": {},
   "outputs": [
    {
     "name": "stdout",
     "output_type": "stream",
     "text": [
      "Hello, World!\n"
     ]
    }
   ],
   "source": [
    "greetings(\"World\")"
   ]
  },
  {
   "cell_type": "code",
   "execution_count": 3,
   "metadata": {},
   "outputs": [],
   "source": [
    "def greetings(name, department):\n",
    "    print(\"Hello, \" + name + \"!\")\n",
    "    print(\"You are part of \" + department + \" department.\")"
   ]
  },
  {
   "cell_type": "code",
   "execution_count": 4,
   "metadata": {},
   "outputs": [
    {
     "name": "stdout",
     "output_type": "stream",
     "text": [
      "Hello, Thomas!\n",
      "You are part of Computer Science department.\n"
     ]
    }
   ],
   "source": [
    "greetings(\"Thomas\", \"Computer Science\")"
   ]
  },
  {
   "attachments": {},
   "cell_type": "markdown",
   "metadata": {},
   "source": [
    "### Defining Functions Recap\n",
    "We looked at a few examples of built-in functions in Python, but being able to define your own functions is incredibly powerful. We start a function definition with the def keyword, followed by the name we want to give our function. After the name, we have the parameters, also called arguments, for the function enclosed in parentheses. A function can have no parameters, or it can have multiple parameters. Parameters allow us to call a function and pass it data, with the data being available inside the function as variables with the same name as the parameters. Lastly, we put a colon at the end of the line.\n",
    "\n",
    "After the colon, the function body starts. It’s important to note that in Python the function body is delimited by indentation. This means that all code indented to the right following a function definition is part of the function body. The first line that’s no longer indented is the boundary of the function body. It’s up to you how many spaces you use when indenting -- just make sure to be consistent. So if you choose to indent with four spaces, you need to use four spaces everywhere in your code."
   ]
  },
  {
   "cell_type": "markdown",
   "metadata": {},
   "source": [
    "### Returning Values from Functions"
   ]
  },
  {
   "cell_type": "code",
   "execution_count": 7,
   "metadata": {},
   "outputs": [],
   "source": [
    "def area_triangle(base, height):\n",
    "    return base * height / 2"
   ]
  },
  {
   "cell_type": "code",
   "execution_count": 8,
   "metadata": {},
   "outputs": [
    {
     "name": "stdout",
     "output_type": "stream",
     "text": [
      "The sum of both areas is: 20.5\n"
     ]
    }
   ],
   "source": [
    "area_a = area_triangle(5, 4)\n",
    "area_b = area_triangle(7, 3)\n",
    "sum = area_a + area_b\n",
    "\n",
    "print(\"The sum of both areas is: \" + str(sum))"
   ]
  },
  {
   "cell_type": "code",
   "execution_count": 9,
   "metadata": {},
   "outputs": [],
   "source": [
    "def convert_seconds(seconds):\n",
    "    hours = seconds // 3600\n",
    "    minutes = (seconds - hours * 3600) // 60\n",
    "    remaining_seconds = seconds - hours * 3600 - minutes * 60\n",
    "    return hours, minutes, remaining_seconds"
   ]
  },
  {
   "cell_type": "code",
   "execution_count": 12,
   "metadata": {},
   "outputs": [
    {
     "name": "stdout",
     "output_type": "stream",
     "text": [
      "1 23 20\n"
     ]
    }
   ],
   "source": [
    "hours, minutes, seconds = convert_seconds(5000)\n",
    "print(hours, minutes, seconds)"
   ]
  },
  {
   "cell_type": "code",
   "execution_count": 13,
   "metadata": {},
   "outputs": [
    {
     "name": "stdout",
     "output_type": "stream",
     "text": [
      "Hello, Thomas!\n"
     ]
    }
   ],
   "source": [
    "def greetings(name):\n",
    "    print(\"Hello, \" + name + \"!\")\n",
    "\n",
    "result = greetings(\"Thomas\")"
   ]
  },
  {
   "cell_type": "code",
   "execution_count": 15,
   "metadata": {},
   "outputs": [
    {
     "name": "stdout",
     "output_type": "stream",
     "text": [
      "None\n"
     ]
    }
   ],
   "source": [
    "print(result)"
   ]
  },
  {
   "attachments": {},
   "cell_type": "markdown",
   "metadata": {},
   "source": [
    "There is no return statement in the code above, so when we call the function, the line print(\"Hello, world!\") is executed, but the return value of the function is None. None is a special keyword in Python used to denote a null value.\n",
    "\n",
    "None is a special type in Python used to indicate that things are empty or that they return nothing."
   ]
  },
  {
   "attachments": {},
   "cell_type": "markdown",
   "metadata": {},
   "source": [
    "### Returning Values Using Functions\n",
    "Sometimes we don't want a function to simply run and finish. We may want a function to manipulate data we passed it and then return the result to us. This is where the concept of return values comes in handy. We use the return keyword in a function, which tells the function to pass data back. When we call the function, we can store the returned value in a variable. Return values allow our functions to be more flexible and powerful, so they can be reused and called multiple times.\n",
    "\n",
    "Functions can even return multiple values. Just don't forget to store all returned values in variables! You could also have a function return nothing, in which case the function simply exits."
   ]
  },
  {
   "attachments": {},
   "cell_type": "markdown",
   "metadata": {},
   "source": [
    "### The Principles of Code Reuse"
   ]
  },
  {
   "cell_type": "code",
   "execution_count": 16,
   "metadata": {},
   "outputs": [
    {
     "name": "stdout",
     "output_type": "stream",
     "text": [
      "Hello Thomas. Your lucky number is 54\n"
     ]
    }
   ],
   "source": [
    "name = \"Thomas\"\n",
    "number = len(name) * 9\n",
    "\n",
    "print(\"Hello \" + name + \". Your lucky number is \" + str(number))"
   ]
  },
  {
   "cell_type": "code",
   "execution_count": 17,
   "metadata": {},
   "outputs": [
    {
     "name": "stdout",
     "output_type": "stream",
     "text": [
      "Hello Cameroon. Your lucky number is 72\n"
     ]
    }
   ],
   "source": [
    "name = \"Cameroon\"\n",
    "number = len(name) * 9\n",
    "\n",
    "print(\"Hello \" + name + \". Your lucky number is \" + str(number))"
   ]
  },
  {
   "attachments": {},
   "cell_type": "markdown",
   "metadata": {},
   "source": [
    "We can use functions to make our code reusable. If we have a task that we want to perform in multiple places in our program, we don't need to type out the same code multiple times. Instead, we can just call a function we defined to perform that task. This makes our code less error prone, and makes it easier to make changes to our program.\n",
    "In the previous examples we can see that we can reuse the same code in different parts of our program. This makes our code more maintainable and less prone to errors by putting the name in a variable and then printing the variable instead of the name directly."
   ]
  },
  {
   "cell_type": "code",
   "execution_count": 19,
   "metadata": {},
   "outputs": [
    {
     "name": "stdout",
     "output_type": "stream",
     "text": [
      "Hello Kay. Your lucky number is 27\n",
      "Hello Cameron. Your lucky number is 63\n",
      "Hello Thomas. Your lucky number is 54\n"
     ]
    }
   ],
   "source": [
    "def lucky_number(name):\n",
    "    number = len(name) * 9\n",
    "    print(\"Hello \" + name + \". Your lucky number is \" + str(number))\n",
    "\n",
    "lucky_number(\"Kay\")\n",
    "lucky_number(\"Cameron\")\n",
    "lucky_number(\"Thomas\")"
   ]
  },
  {
   "attachments": {},
   "cell_type": "markdown",
   "metadata": {},
   "source": [
    "Here we're feefing information to the function through the parameters. This makes our code more flexible, since we can call the same function for different values of name and color. We can also reuse the same function in different parts of our program, which makes our code more maintainable and less prone to errors.\n",
    "\n",
    "The values of those parameters may come from different source of information, like user input, a database, or a file. "
   ]
  },
  {
   "attachments": {},
   "cell_type": "markdown",
   "metadata": {},
   "source": [
    "### Code Style"
   ]
  },
  {
   "attachments": {},
   "cell_type": "markdown",
   "metadata": {},
   "source": [
    "Take this code snippet as an example: \n",
    "```python\n",
    "def calculate(d):\n",
    "    q = 3.14\n",
    "    z = q * (d ** 2)\n",
    "    print(z)\n",
    "```\n",
    "\n",
    "This code is syntactically correct, but it's not very readable.\n",
    "- It's hard to tell what the code is supposed to do (it's purpose) by just looking at it.\n",
    "- The names of the variables are not very descriptive (it doesn't really give the reader any information about what the variable is used for).\n",
    "- The code is not well organized (it's hard to tell what the different parts of the code are supposed to do).\n",
    "- The  are no clue to what the result of the function is (it's not clear if the function is supposed to return a value or not).\n",
    "\n",
    "In programming language, when we rewrite code to make it easier to understand and be more documenting, we call it **refactoring**. Refactoring is the process of restructuring code to improve its readability and maintainability without affecting its results.\n",
    "\n",
    " We can improve the readability by adding some spaces and blank lines:\n",
    "```python\n",
    "def circle_area(radius):\n",
    "    pi = 3.14\n",
    "    area = pi * (radius ** 2)\n",
    "    print(area)\n",
    "```\n",
    "\n",
    "With this refactoring, the intend is now more clear :\n",
    "- The function is called circle_area, so it's probably used to calculate the area of a circle.\n",
    "- The variable radius is probably used to represent the radius of the circle.\n",
    "- The variable pi is probably used to represent the value of pi.\n",
    "- The variable area is probably used to represent the area of the circle.\n",
    "- The function is probably used to print the area of the circle.\n",
    "\n",
    "We can also improve the readability by adding some comments:\n",
    "```python\n",
    "# This function calculates the area of a circle.\n",
    "def circle_area(radius):\n",
    "    # pi is a constant equal to 3.14\n",
    "    pi = 3.14\n",
    "    # Calculate the area of the circle\n",
    "    area = pi * (radius ** 2)\n",
    "    # Print the area of the circle\n",
    "    print(area)\n",
    "```\n"
   ]
  },
  {
   "cell_type": "code",
   "execution_count": null,
   "metadata": {},
   "outputs": [],
   "source": [
    "def circle_area(radius):\n",
    "    pi = 3.14\n",
    "    area = pi * (radius ** 2)\n",
    "    print(area)\n",
    "\n",
    "circle_area(5)"
   ]
  },
  {
   "attachments": {},
   "cell_type": "markdown",
   "metadata": {},
   "source": [
    "### Study Guide: Functions\n",
    "\n",
    "This study guide provides a quick-reference summary of what you learned in this lesson and serves as a guide for the upcoming practice quiz.  \n",
    "\n",
    "In the Functions segment, you learned how to define and call functions, utilize a function’s parameters, and return data from a function. You also learned how to differentiate and convert between different data types utilizing variables. Plus, you learned a few best practices for writing reusable and readable code. \n",
    "\n",
    "#### Terms\n",
    "- **return value** - the value or variable returned as the end result of a function\n",
    "- **parameter** (argument) -  a value passed into a function for use within the function\n",
    "- **refactoring code** - a process to restructure code without changing functionality\n",
    "\n",
    "#### Knowledge\n",
    "- The purpose of the def() keyword is to define a new function. \n",
    "- Best practices for writing code that is readable and reusable:\n",
    "  - Create a reusable function - Replace duplicate code with one reusable function to make the code easier to read and repurpose.\n",
    "  - Refactor code - Update code so that it is self-documenting and the intent of the code is clear.\n",
    "  - Add comments - Adding comments is part of creating self-documenting code. Using comments allows you to leave notes to yourself and/or other programmers to make the purpose of the code clear.\n",
    "\n",
    "#### Coding skills\n",
    "\n",
    "Skill Group 1\n",
    "- Use a function that accepts multiple parameters\n",
    "- Return a result value from a function "
   ]
  },
  {
   "cell_type": "code",
   "execution_count": 20,
   "metadata": {},
   "outputs": [
    {
     "name": "stdout",
     "output_type": "stream",
     "text": [
      "903\n"
     ]
    }
   ],
   "source": [
    "# This function calculates the number of days in a variable number of \n",
    "# years, months, and days. These variables are provided by the user and\n",
    "# are passed to the function through the function’s parameters.\n",
    "\n",
    "def find_total_days(years, months, days):\n",
    "# Assign a variable to hold the calculations for the number of days in\n",
    "# a year (years*365) plus the number of days in a month (months*30) plus\n",
    "# the number of days provided through the \"days\" parameter variable.\n",
    "    my_days = (years*365) + (months*30) + days\n",
    "# Use the \"return\" keyword to send the result of the \"my_days\"  \n",
    "# calculation to the function call. \n",
    "    return my_days\n",
    " \n",
    "# Function call with user provided parameter values. \n",
    "print(find_total_days(2,5,23))"
   ]
  },
  {
   "cell_type": "code",
   "execution_count": 21,
   "metadata": {},
   "outputs": [
    {
     "name": "stdout",
     "output_type": "stream",
     "text": [
      "The distance in kilometers is 88.0\n",
      "The round-trip in kilometers is 176.0\n"
     ]
    }
   ],
   "source": [
    "# 1) Complete the function to return the result of the conversion\n",
    "def convert_distance(miles):\n",
    "\tkm = miles * 1.6  # approximately 1.6 km in 1 mile\n",
    "\treturn km\n",
    "\n",
    "# Do not indent any of the following lines of code as they are \n",
    "# meant to be located outside of the function above\n",
    "\n",
    "my_trip_miles = 55\n",
    "\n",
    "# 2) Convert my_trip_miles to kilometers by calling the function above\n",
    "my_trip_km = convert_distance(my_trip_miles)\n",
    "\n",
    "# 3) Fill in the blank to print the result of the my_trip_km conversion\n",
    "print(\"The distance in kilometers is \" + str(my_trip_km))\n",
    "\n",
    "# 4) Calculate the round-trip in kilometers by doubling the result of\n",
    "#    my_trip_km. Fill in the blank to print the result.\n",
    "print(\"The round-trip in kilometers is \" + str(2*my_trip_km))"
   ]
  },
  {
   "attachments": {},
   "cell_type": "markdown",
   "metadata": {},
   "source": [
    "## Conditionals\n",
    "\n",
    "### Comparint things"
   ]
  },
  {
   "cell_type": "code",
   "execution_count": 28,
   "metadata": {},
   "outputs": [
    {
     "name": "stdout",
     "output_type": "stream",
     "text": [
      "10 > 1 :  True\n",
      "\"cat\" == \"dog\" : False\n",
      "True\n",
      "1 != 2 :  True\n",
      "1 <= 1 :  True\n"
     ]
    }
   ],
   "source": [
    "print(\"10 > 1 : \", 10 > 1)\n",
    "\n",
    "print('\"cat\" == \"dog\" :' , \"cat\" == \"dog\")\n",
    "print(\"cat\" != \"dog\")\n",
    "\n",
    "print(\"1 != 2 : \", 1 != 2)\n",
    "\n",
    "print(\"1 <= 1 : \", 1 <= 1)"
   ]
  },
  {
   "attachments": {},
   "cell_type": "markdown",
   "metadata": {},
   "source": [
    "#### Comparison Operators\n",
    "\n",
    "Comparison operators are used to compare values. It either returns True or False according to the condition.\n",
    "\n",
    "The following examples demonstrate how to use comparison operators with the data types int (integers, whole numbers) and float (number with a decimal point or fractional value). Comparison operators return Boolean results. As you learned previously, Boolean is a data type that can hold only one of two values: True or False.  \n",
    "\n",
    "- == : equal to operator\n",
    "- != : not equal to operator\n",
    "- < : less than\n",
    "- '>' : greater than\n",
    "- '>=' : greater than or equal to operator\n",
    "- '<=' : less than or equal to operator\n",
    "\n",
    "\n",
    "#### Boolean Operators\n",
    "\n",
    "Boolean operators compare statements and result in boolean values. There are three boolean operators:\n",
    "- and : True if both the operands are true\n",
    "- or : True if either of the operands is true\n",
    "- not : True if operand is false (complements the operand)\n",
    "\n",
    "\n",
    "**PART 1: Equality == and Not Equal To != Operators**\n",
    "In Python, you can use comparison operators to compare values. When a comparison is made, Python returns a Boolean result: True or False. Note that Boolean data types are not string data types (Boolean True is not equal to the string \"True\").  \n",
    "\n",
    "- To check if two values are the same, use the equality operator: == \n",
    "\n",
    "- To check if two values are not the same, use the not equal to operator: != \n",
    "\n",
    "- The print() function can be used to display the results of the comparisons.\n",
    "\n",
    "\n",
    "\n",
    "\n"
   ]
  },
  {
   "cell_type": "code",
   "execution_count": 29,
   "metadata": {},
   "outputs": [
    {
     "name": "stdout",
     "output_type": "stream",
     "text": [
      "True\n",
      "False\n",
      "True\n",
      "False\n"
     ]
    },
    {
     "data": {
      "text/plain": [
       "False"
      ]
     },
     "execution_count": 29,
     "metadata": {},
     "output_type": "execute_result"
    }
   ],
   "source": [
    "\n",
    "print(32 == 30+2)   # The == operator checks if the 2 values are \n",
    "True                # equal to each other. If they are equal, \n",
    "                    # Python returns a True result.\n",
    "\n",
    "\n",
    "print(5+10 == 6+7)  # If the two values are not equal, as in the\n",
    "False               # expression 5+10 == 6+7 (or 15 == 13), Python          \n",
    "                    # returns a False result.\n",
    "\n",
    "\n",
    "print(10-4 != 10+4) # The != operator checks if the 2 values are\n",
    "True                # NOT equal to each other. If true, Python              \n",
    "                    # returns a True result. \n",
    "\n",
    "\n",
    "print(9/3 != 3*1)   # In this last example, 9/3 != 3*1 (or 3 != 3)\n",
    "False               # is false. So, Python returns a False value."
   ]
  },
  {
   "attachments": {},
   "cell_type": "markdown",
   "metadata": {},
   "source": [
    "**The equality == operator versus the equals = operator**\n",
    "\n",
    "It is important to note that the equality == comparison operator performs a different task than the equals = assignment operator. The equals = operator assigns the value on the right side of the equals = to the object (e.g., a variable) on the left side of the equals = operator. \n",
    "\n",
    "Examples:"
   ]
  },
  {
   "cell_type": "code",
   "execution_count": 30,
   "metadata": {},
   "outputs": [
    {
     "name": "stdout",
     "output_type": "stream",
     "text": [
      "15\n",
      "True\n"
     ]
    },
    {
     "data": {
      "text/plain": [
       "True"
      ]
     },
     "execution_count": 30,
     "metadata": {},
     "output_type": "execute_result"
    }
   ],
   "source": [
    "# The = equals assignment operator is used to assign a value to a \n",
    "# variable.\n",
    "\n",
    "my_variable = 3*5           # Assigns a value to my_variable      \n",
    "print(my_variable)          # Printing the variable returns the \n",
    "15                          # value assigned to the variable.\n",
    "\n",
    "\n",
    "                              \n",
    "# The == equality comparison operator checks if the values of the two\n",
    "# expressions on either side of the == operator are equivalent to one \n",
    "# another.\n",
    "      \n",
    "print(my_variable == 3*5)   # Printing the variable returns a Boolean \n",
    "True                        # True or False result. "
   ]
  },
  {
   "attachments": {},
   "cell_type": "markdown",
   "metadata": {},
   "source": [
    "**PART 2: Greater Than > and Less Than < Operators**\n",
    "\n",
    "The comparison operators greater than > and less than < also return a True or False Boolean result after comparing two values.\n",
    "\n",
    "- To check if one value is larger than another value, use the greater than operator: > \n",
    "- To check if one value is smaller than another value, use the less than operator: < \n",
    "\n",
    "Examples:\n",
    "\n"
   ]
  },
  {
   "cell_type": "code",
   "execution_count": 31,
   "metadata": {},
   "outputs": [
    {
     "name": "stdout",
     "output_type": "stream",
     "text": [
      "True\n",
      "False\n",
      "True\n",
      "False\n"
     ]
    },
    {
     "data": {
      "text/plain": [
       "False"
      ]
     },
     "execution_count": 31,
     "metadata": {},
     "output_type": "execute_result"
    }
   ],
   "source": [
    "print(11 > 3*3)         # The > operator checks if the left value is\n",
    "True                    # greater than the right value. If true, it\n",
    "                        # returns a True result.\n",
    "\n",
    "\n",
    "print(4/2 > 8-4)        # If the > operator finds that the left value\n",
    "False                   # is NOT greater than the right value, the\n",
    "                        # comparison will return a False result.\n",
    "\n",
    "\n",
    "print(4/2 < 8-4)        # The < operator checks  if the left value is\n",
    "True                    # less than the right side. If true, the\n",
    "                        # comparison returns a True result.\n",
    "\n",
    "\n",
    "print(11 < 3*3)         # If the < operator finds that the left side is False                   \n",
    "                        # NOT less than the right value, Python returns\n",
    "False                   # a False result."
   ]
  },
  {
   "attachments": {},
   "cell_type": "markdown",
   "metadata": {},
   "source": [
    "**PART 3: Greater Than or Equal to >= and Less Than or Equal to <= Operators**\n",
    "\n",
    "Like the other comparison operators, the greater than or equal to >= and less than or equal to <= operators return a True or False Boolean result when a comparison is made.\n",
    "- To check if one value is larger than or equal to another value, use the greater than or equal to operator: >= \n",
    "- To check if one value is smaller than or equal to another value, use the less than or equal to operator: <= \n",
    "\n",
    "Examples:"
   ]
  },
  {
   "cell_type": "code",
   "execution_count": 32,
   "metadata": {},
   "outputs": [
    {
     "name": "stdout",
     "output_type": "stream",
     "text": [
      "True\n",
      "False\n",
      "True\n",
      "False\n"
     ]
    },
    {
     "data": {
      "text/plain": [
       "False"
      ]
     },
     "execution_count": 32,
     "metadata": {},
     "output_type": "execute_result"
    }
   ],
   "source": [
    "print(12*2 >= 24)   # The >= operator checks if the left value is\n",
    "True                # greater than or equal to the right value. \n",
    "                    # If one of these conditions is true,  \n",
    "                    # Python returns a True result. In this case  \n",
    "                    # the two values are equal. So, the comparison\n",
    "                    # returns a True result.\n",
    "\n",
    "\n",
    "print(18/2 >= 15)   # If the >= comparison determines that the left False\n",
    "False               # value is NOT greater than or equal to the\n",
    "                    # right, it returns a False result.\n",
    "\n",
    "print(12*2 <= 30)   # The <= operator checks if the left value is\n",
    "True                # less than or equal to the right value. In \n",
    "                    # this case, the left value is less than the\n",
    "                    # right value. Again, if one of the two \n",
    "                    # conditions is true, Python returns a True\n",
    "                    # result.\n",
    "\n",
    "\n",
    "print(15 <= 18/2)   # If the <= comparison determines that the left \n",
    "False               # value is NOT less than or equal to the right\n",
    "                    # value, the comparison returns a False result. "
   ]
  },
  {
   "attachments": {},
   "cell_type": "markdown",
   "metadata": {},
   "source": [
    "For additional Python practice, the following links will take you to several popular online interpreters and codepads:\n",
    "\n",
    "- **Welcome to Python** : https://www.python.org/shell/\n",
    "- **Online Python Interpreter**  : https://www.programiz.com/python-programming/online-compiler/\n",
    "- **Create a new Repl** : https://repl.it/languages/python3\n",
    "- **Online Python-3 Compiler** (Interpreter) : https://www.tutorialspoint.com/execute_python3_online.php\n",
    "- **Compile Python 3 Online** : https://www.jdoodle.com/python3-programming-online/\n",
    "- **Your Python Trinket** : https://trinket.io/python3\n",
    "\n",
    "\n",
    "Practice examples:"
   ]
  },
  {
   "cell_type": "code",
   "execution_count": 33,
   "metadata": {},
   "outputs": [
    {
     "name": "stdout",
     "output_type": "stream",
     "text": [
      "True\n",
      "False\n",
      "True\n",
      "False\n",
      "False\n"
     ]
    },
    {
     "data": {
      "text/plain": [
       "False"
      ]
     },
     "execution_count": 33,
     "metadata": {},
     "output_type": "execute_result"
    }
   ],
   "source": [
    "# The == operator can check if two strings are equal to each other. \n",
    "# If they are equal, the Python interpreter returns a True result.\n",
    "print(\"a string\" == \"a string\")\n",
    "True\n",
    "\n",
    "\n",
    "# In this example, the equality == comparison is between \"4 + 5\" and\n",
    "# 4 + 5. Since the left data type is a string and the right data type\n",
    "# is an integer, the two values cannot be equal. So, the comparison\n",
    "# returns a False result.\n",
    "print(\"4 + 5\" == 4 + 5)\n",
    "False\n",
    "\n",
    "\n",
    "# The != operator can check if the two strings are NOT equal to each\n",
    "# other. If they are indeed not equal, then Python returns a True result.\n",
    "print(\"rabbit\" != \"frog\")\n",
    "True\n",
    "\n",
    "\n",
    "# In this example, the variable event_city has been assigned the string \n",
    "# value \"Shanghai\". This variable is compared to a static string, \n",
    "# \"Shanghai\", using the != operator. As, the strings \"Shanghai\" and \n",
    "# \"Shanghai\" are the same, the comparison of \"Shanghai\" != \"Shanghai\" \n",
    "# is false. Accordingly, Python will return a False result.\n",
    "event_city = \"Shanghai\"\n",
    "print(event_city != \"Shanghai\")\n",
    "False\n",
    "\n",
    "# This last example illustrates the result of trying to compare two\n",
    "# items of different data types using the equality == operator. The\n",
    "# two items are not equal, so the comparison returns False.\n",
    "print(\"three\" == 3)\n",
    "False\n"
   ]
  },
  {
   "cell_type": "code",
   "execution_count": 35,
   "metadata": {},
   "outputs": [
    {
     "name": "stdout",
     "output_type": "stream",
     "text": [
      "Is \"my computer\" greater than or equal to \"my chair\"? Result:  True\n",
      "Is \"Spring\" less than or equal to \"Winter\"? Result:  True\n",
      "Is \"pineapple\" less than or equal to \"pineapple\"? Result:  True\n"
     ]
    }
   ],
   "source": [
    "# Use the Unicode chart in Part 2 to determine if the Unicode values of \n",
    "# the first letters of each string are higher, lower, or equal to one\n",
    "# another. \n",
    "\n",
    "\n",
    "var1 = \"my computer\" >= \"my chair\"\n",
    "var2 = \"Spring\" <= \"Winter\"\n",
    "var3 = \"pineapple\" >= \"pineapple\"\n",
    " \n",
    "print(\"Is \\\"my computer\\\" greater than or equal to \\\"my chair\\\"? Result: \", var1)\n",
    "print(\"Is \\\"Spring\\\" less than or equal to \\\"Winter\\\"? Result: \", var2)\n",
    "print(\"Is \\\"pineapple\\\" less than or equal to \\\"pineapple\\\"? Result: \", var3)"
   ]
  },
  {
   "attachments": {},
   "cell_type": "markdown",
   "metadata": {},
   "source": [
    "### Branching with if Statements\n",
    "\n",
    "Branching is the ability of a program to alter its execution sequence. It's also known as conditional execution. Branching is a very powerful tool that allows a program to make decisions and then perform actions based on those decisions. \n",
    "\n",
    "In Python, branching is implemented using the if statement. The if statement is a conditional statement that executes some specified code after checking if its expression is True. The if statement is composed of the if keyword, a condition (also called an expression), and a colon :. The condition is a Boolean expression that evaluates to either True or False. If the condition is True, the code that follows the if statement is executed. If the condition is False, the code that follows the if statement is skipped. The following example demonstrates the syntax of the if statement:\n",
    "\n",
    "```python \n",
    "if condition:\n",
    "    code\n",
    "```\n",
    "\n"
   ]
  },
  {
   "cell_type": "code",
   "execution_count": 38,
   "metadata": {},
   "outputs": [
    {
     "name": "stdout",
     "output_type": "stream",
     "text": [
      "Invalid username. Must be at least 3 characters long.\n"
     ]
    }
   ],
   "source": [
    "def hint_username(username):\n",
    "    if len(username) < 3:\n",
    "        print(\"Invalid username. Must be at least 3 characters long.\")\n",
    "\n",
    "hint_username(\"john\")\n",
    "hint_username(\"ji\")"
   ]
  },
  {
   "attachments": {},
   "cell_type": "markdown",
   "metadata": {},
   "source": [
    "**if Statements Recap**\n",
    "We can use the concept of branching to have our code alter its execution sequence depending on the values of variables. We can use an if statement to evaluate a comparison. We start with the if keyword, followed by our comparison. We end the line with a colon. The body of the if statement is then indented to the right. If the comparison is True, the code inside the if body is executed. If the comparison evaluates to False, then the code block is skipped and will not be run."
   ]
  },
  {
   "attachments": {},
   "cell_type": "markdown",
   "metadata": {},
   "source": [
    "### else Statements\n",
    "\n",
    "The else statement is used to specify the code that should be executed if the condition of the if statement is False. The else statement is composed of the else keyword and a colon :. The code that follows the else statement is indented to the right. The following example demonstrates the syntax of the else statement:\n",
    "\n",
    "```python\n",
    "if condition:\n",
    "    code\n",
    "else:\n",
    "    code\n",
    "```"
   ]
  },
  {
   "cell_type": "code",
   "execution_count": 39,
   "metadata": {},
   "outputs": [
    {
     "name": "stdout",
     "output_type": "stream",
     "text": [
      "Valid username.\n",
      "Invalid username. Must be at least 3 characters long.\n"
     ]
    }
   ],
   "source": [
    "def hint_username(username):\n",
    "    if len(username) < 3:\n",
    "        print(\"Invalid username. Must be at least 3 characters long.\")\n",
    "    else:\n",
    "        print(\"Valid username.\")\n",
    "\n",
    "hint_username(\"john\")\n",
    "hint_username(\"ji\")"
   ]
  },
  {
   "attachments": {},
   "cell_type": "markdown",
   "metadata": {},
   "source": [
    "The else statemement is very usefull but it is not required (we don't always need it). \n",
    "\n",
    "Let's say we want have a function that check if a number is even or odd. We can use the modulo operator % to check if a number is even or odd. The modulo operator returns the remainder of a division operation. If the remainder is 0, the number is even. If the remainder is 1, the number is odd. \n",
    "\n",
    "```python\n",
    "def even_odd(number):\n",
    "    if number % 2 == 0:\n",
    "        return \"even\"\n",
    "    else:\n",
    "        return \"odd\"\n",
    "```\n",
    "\n",
    "```python\n",
    "def even_odd(number):\n",
    "    if number % 2 == 0:\n",
    "        return True\n",
    "    else:\n",
    "        return False\n",
    "```\n",
    "\n",
    "```python\n",
    "def is_even(number):\n",
    "    if number % 2 == 0:\n",
    "        return True\n",
    "    return False\n",
    "```\n",
    "\n",
    "\n",
    "**else Statements and the Modulo Operator**\n",
    "We just covered the if statement, which executes code if an evaluation is true and skips the code if it’s false. But what if we wanted the code to do something different if the evaluation is false? We can do this using the else statement. The else statement follows an if block, and is composed of the keyword else followed by a colon. The body of the else statement is indented to the right, and will be executed if the above if statement doesn’t execute.\n",
    "\n",
    "We also touched on the modulo operator, which is represented by the percent sign: %. This operator performs integer division, but only returns the remainder of this division operation. If we’re dividing 5 by 2, the quotient is 2, and the remainder is 1. Two 2s can go into 5, leaving 1 left over. So 5%2 would return 1. Dividing 10 by 5 would give us a quotient of 2 with no remainder, since 5 can go into 10 twice with nothing left over. In this case, 10%5 would return 0, as there is no remainder.\n"
   ]
  },
  {
   "attachments": {},
   "cell_type": "markdown",
   "metadata": {},
   "source": [
    "### elif Statements \n",
    "\n",
    "The elif statement is used to specify **multiple conditions** in a single if statement. The elif statement is composed of the elif keyword, a condition (also called an expression), and a colon :. The condition is a Boolean expression that evaluates to either True or False. If the condition is True, the code that follows the elif statement is executed. If the condition is False, the code that follows the elif statement is skipped. The following example demonstrates the syntax of the elif statement:\n",
    "\n",
    "```python\n",
    "if condition:\n",
    "    code\n",
    "elif condition:\n",
    "    code\n",
    "elif condition:\n",
    "    code\n",
    "else:\n",
    "    code\n",
    "``` \n",
    "\n",
    "\n",
    "**Complex Branching with elif Statements**\n",
    "\n",
    "Building off of the if and else blocks, which allow us to branch our code depending on the evaluation of one statement, the elif statement allows us even more comparisons to perform more complex branching. Very similar to the if statements, an elif statement starts with the elif keyword, followed by a comparison to be evaluated. This is followed by a colon, and then the code block on the next line, indented to the right. An elif statement must follow an if statement, and will only be evaluated if the if statement was evaluated as false. You can include multiple elif statements to build complex branching in your code to do all kinds of powerful things!\n"
   ]
  },
  {
   "cell_type": "code",
   "execution_count": 40,
   "metadata": {},
   "outputs": [
    {
     "name": "stdout",
     "output_type": "stream",
     "text": [
      "Valid username.\n",
      "Invalid username. Must be at least 3 characters long.\n",
      "Invalid username. Must be at most 15 characters long.\n"
     ]
    }
   ],
   "source": [
    "def hint_username(username):\n",
    "    if len(username) < 3:\n",
    "        print(\"Invalid username. Must be at least 3 characters long.\")\n",
    "    elif len(username) > 15:\n",
    "        print(\"Invalid username. Must be at most 15 characters long.\")\n",
    "    else:\n",
    "        print(\"Valid username.\")    \n",
    "\n",
    "hint_username(\"john\")\n",
    "hint_username(\"ji\")\n",
    "hint_username(\"johnsmitcjohncaretdavid\")"
   ]
  },
  {
   "attachments": {},
   "cell_type": "markdown",
   "metadata": {},
   "source": [
    "### Coding skills\n",
    "\n",
    "#### Skill Group 1\n",
    "\n",
    "- Use a comparison operator with numbers\n",
    "- Use a comparison operator to alphabetize strings"
   ]
  },
  {
   "cell_type": "code",
   "execution_count": 41,
   "metadata": {},
   "outputs": [
    {
     "name": "stdout",
     "output_type": "stream",
     "text": [
      "True\n",
      "False\n"
     ]
    }
   ],
   "source": [
    "# The value of 10*4 (40) is greater than 14+23 (37), therefore this \n",
    "# comparison expression will return the Boolean value of True.\n",
    "\n",
    "\n",
    "print(10*4 > 14+23) # Should print True\n",
    "\n",
    "# The letter \"t\" has a Unicode value of 116 and the letter \"s\" has a\n",
    "# Unicode value of 115. Since 116 is not less than 115, the \n",
    "# comparison of \"tall\" < \"short\" (or 116 < 115) is False. \n",
    "\n",
    "print(\"tall\" < \"short\")  # Should print False"
   ]
  },
  {
   "attachments": {},
   "cell_type": "markdown",
   "metadata": {},
   "source": [
    "#### Skill Group 2\n",
    "\n",
    "- Use a function with the def() keyword\n",
    "- Pass a parameter to the function\n",
    "- Use an if-elif-else statement\n",
    "- Assign strings to variables and concatenate them\n",
    "- Use conditional operators\n",
    "- Return a value"
   ]
  },
  {
   "cell_type": "code",
   "execution_count": 47,
   "metadata": {},
   "outputs": [
    {
     "name": "stdout",
     "output_type": "stream",
     "text": [
      "Requested web page not found on server\n",
      "Server received an unauthenticated request\n",
      "Server request to close unused connection\n",
      "Unknown error code\n",
      "Unknown error code\n"
     ]
    }
   ],
   "source": [
    "# This function accepts one variable as a parameter\n",
    "def translate_error_code(error_code):\n",
    " \n",
    "# The if-elif-else block assesses the value of the variable\n",
    "# passed to the function as a parameter. The if statement uses \n",
    "# the equality operator == to test the value of the variable.\n",
    "# This test returns a Boolean (True/False) result.\n",
    "    if error_code == \"401 Unauthorized\":\n",
    "# If the comparison above returns True, then the indented \n",
    "# line(s) inside the if-statement will run. In this case, the\n",
    "# action is to assign a string to the translation variable.\n",
    "# The remainder of the if-elif-else block will not run.\n",
    "# The Python interpreter will skip to the next line outside of \n",
    "# the if-elif-else block. In this case, the next line is the \n",
    "# return value statement.  \n",
    "        translation = \"Server received an unauthenticated request\"\n",
    " \n",
    "# If the initial if-statement returns a False result, then the\n",
    "# first elif-statement will run a different test on the value\n",
    "# of the variable.\n",
    "    elif error_code == \"404 Not Found\":\n",
    "# If the first elif-statement returns a True result, then the\n",
    "# indented line(s) inside the first elif-statement will run. \n",
    "# After this line, the remainder of the if-elif-else block will\n",
    "# not run. The Python interpreter will skip to the next line\n",
    "# outside of the if-elif-else block. \n",
    "        translation = \"Requested web page not found on server\"\n",
    " \n",
    "# If both the initial if-statement and the first elif-statement \n",
    "# return a False result, then the second elif-statement will\n",
    "# run.\n",
    "    elif error_code == \"408 Request Timeout\":\n",
    "# If the second elif-statement returns a True result, then the\n",
    "# indented line(s) inside the second elif-statement will run. \n",
    "# After this line, the remainder of the if-elif-else block will\n",
    "# not run. The Python interpreter will skip to the next line\n",
    "# outside of the if-elif-else block. \n",
    "        translation = \"Server request to close unused connection\"\n",
    " \n",
    "# If the conditional tests above do not produce a True result\n",
    "# then the else-statement will run. \n",
    "    else:\n",
    "        translation = \"Unknown error code\"\n",
    "# The if-elif-else block ends.\n",
    "\n",
    "# The next line outside of the if-elif-else block will run\n",
    "# after exiting the block. In this case, the next line returns\n",
    "# the output from the if-elif-else block.\n",
    "    return translation\n",
    "\n",
    "# The print() function allows us to display the output of the\n",
    "# function. To call a function in a print statement, the syntax\n",
    "# is print(name_of_function(parameter))\n",
    "\n",
    "# Expected output:\n",
    "# Requested web page not found on server\n",
    "print(translate_error_code(\"404 Not Found\"))\n",
    "print(translate_error_code(\"401 Unauthorized\"))\n",
    "print(translate_error_code(\"408 Request Timeout\"))\n",
    "print(translate_error_code(\"500 Internal Server Error\"))\n",
    "print(translate_error_code(\"503 Service Unavailable\"))"
   ]
  },
  {
   "attachments": {},
   "cell_type": "markdown",
   "metadata": {},
   "source": [
    "#### Skill Group 3\n",
    "- Use an if-elif-else statement with:\n",
    "- comparison operators\n",
    "- logical operators"
   ]
  },
  {
   "cell_type": "code",
   "execution_count": 50,
   "metadata": {},
   "outputs": [
    {
     "name": "stdout",
     "output_type": "stream",
     "text": [
      "The number is less than 32 and greater than 6.\n"
     ]
    }
   ],
   "source": [
    "# Sets value of the \"number\" variable\n",
    "number = 23\n",
    "\n",
    "# The \"number\" variable will first be compared to 5. Since it is \n",
    "# False that \"number\" is not less than or equal to 5, the expression indented \n",
    "# under this line will be ignored. \n",
    "if number <= 5: \n",
    "   print(\"The number is 5 or smaller.\")\n",
    " \n",
    "# Next, the \"number\" variable will be compared to 33. Since it is \n",
    "# False that \"number\" is equal to 33, the expression indented under \n",
    "# this line will be ignored. \n",
    "elif number == 33:\n",
    "   print(\"The number is 33.\")\n",
    " \n",
    "# Then, the \"number\" variable will be compared to 32 and 6. Since it \n",
    "# is True that 25 is less than 32 and greater than 6, the Python \n",
    "# interpreter will print \"The number is less than 32 and/or greater\n",
    "# than 6.\" Then, it will exit the if-elif-else statement and the remainder \n",
    "# of the if-elif-else statement will be ignored.\n",
    "elif number < 32 and number >= 6:\n",
    "   print(\"The number is less than 32 and greater than 6.\")\n",
    " \n",
    "else:\n",
    "   print(\"The number is \" + str(number))\n",
    " \n",
    "# Expected output is: \n",
    "# The number is less than 32 and greater than 6.\n"
   ]
  },
  {
   "attachments": {},
   "cell_type": "markdown",
   "metadata": {},
   "source": [
    "#### Skill Group 4\n",
    "\n",
    "- Use an if statement to calculate a return value\n",
    "- Use conditional operators\n",
    "- Recall the arithmetic operators // and %"
   ]
  },
  {
   "cell_type": "code",
   "execution_count": 57,
   "metadata": {},
   "outputs": [
    {
     "name": "stdout",
     "output_type": "stream",
     "text": [
      "40\n"
     ]
    }
   ],
   "source": [
    "# This function rounds a variable number up to the nearest 10x value\n",
    "def round_up(number):\n",
    "  x = 10\n",
    "# The floor division operator will calculate the integer value of\n",
    "# \"number\" divided by x: 35 // 10 will return the integer 3.\n",
    "  whole_number = number // x\n",
    "# The modulo operator will calculate the remainder value of \"number\"\n",
    "# divided by x: 35 % 10 will return the remainder value 5.\n",
    "  remainder = number % x\n",
    "# If the remainder is greater than 0: \n",
    "  if remainder >= 5: \n",
    "# Return x multiplied by the (whole_number+1) to round up\n",
    "    return x*(whole_number+1)\n",
    "# Else, return x multiplied by the whole_number to round down\n",
    "  return x*whole_number\n",
    " \n",
    "# Calls the function with the parameter value of 35.\n",
    "print(round_up(35)) # Should print 40"
   ]
  },
  {
   "cell_type": "code",
   "execution_count": 56,
   "metadata": {},
   "outputs": [
    {
     "name": "stdout",
     "output_type": "stream",
     "text": [
      "2.0\n",
      "2\n"
     ]
    }
   ],
   "source": [
    "print(10 / 5) # Should print 2.0\n",
    "print(10 // 5) # Should print 2"
   ]
  },
  {
   "cell_type": "code",
   "execution_count": 58,
   "metadata": {},
   "outputs": [
    {
     "name": "stdout",
     "output_type": "stream",
     "text": [
      "4096\n",
      "4096\n",
      "8192\n",
      "8192\n"
     ]
    }
   ],
   "source": [
    "def calculate_storage(filesize):\n",
    "    block_size = 4096\n",
    "    # Use floor division to calculate how many blocks are fully occupied\n",
    "    full_blocks = block_size/filesize\n",
    "    # Use the modulo operator to check whether there's any remainder\n",
    "    partial_block_remainder = block_size % filesize\n",
    "    # Depending on whether there's a remainder or not, return\n",
    "    # the total number of bytes required to allocate enough blocks\n",
    "    # to store your data.\n",
    "    if partial_block_remainder > 0:\n",
    "        return block_size * 2\n",
    "    return block_size\n",
    "\n",
    "print(calculate_storage(1))    # Should be 4096\n",
    "print(calculate_storage(4096)) # Should be 4096\n",
    "print(calculate_storage(4097)) # Should be 8192\n",
    "print(calculate_storage(6000)) # Should be 8192"
   ]
  },
  {
   "cell_type": "code",
   "execution_count": null,
   "metadata": {},
   "outputs": [],
   "source": [
    "def greeting(name):\n",
    "  if name == \"Taylor\":\n",
    "    return \"Welcome back Taylor!\"\n",
    "  else:\n",
    "    return \"Hello there, \" + name\n",
    "\n",
    "print(greeting(\"Taylor\"))\n",
    "print(greeting(\"John\"))"
   ]
  },
  {
   "cell_type": "code",
   "execution_count": 59,
   "metadata": {},
   "outputs": [
    {
     "name": "stdout",
     "output_type": "stream",
     "text": [
      "True\n"
     ]
    }
   ],
   "source": [
    "print(9999+8888 > 100*100)"
   ]
  },
  {
   "attachments": {},
   "cell_type": "markdown",
   "metadata": {},
   "source": [
    "### Study Guide: Week 2 Graded Quiz\n",
    "\n",
    "It is time to prepare for the Week 2 graded quiz. Please review the following items from this week before starting the Week 2 Graded Quiz. If you would like to refresh your memory on these materials, please revisit the Study Guides located before each Practice Quiz in Week 2 : Study Guide: Expressions and Variables, Study Guide: Functions, and Study Guide: Conditionals.  \n",
    "\n",
    "#### Knowledge  \n",
    "- How to assign values to variables and use them in code\n",
    "- How to construct a function and use function parameters\n",
    "- How comparison and logical operators can be used, \n",
    "- How comparison and logical operators behave with different data types\n",
    "- What type of results simple and complex comparisons produce\n",
    "- How to alphabetize strings using comparison operators\n",
    "- What must appear after the if and elif keywords\n",
    "- What the elif keyword does \n",
    "- When an if,  elif, or else-statement will execute\n",
    "- How to use the floor division //  and modulo % operators and why\n",
    "- How to use logical operators with comparison operators to develop complex conditional statements within an if-elif-else block\n",
    "\n",
    "\n",
    "\n",
    "Best practices for coding and their benefits\n",
    "- What “self-documenting code” means\n",
    "\n",
    "\n",
    "There may be a few questions on the quiz that will ask you about either the output of a small block of code or the value of part of the code. Make sure to read the instructions carefully on those questions.\n",
    "\n",
    "\n",
    "### Coding skills\n",
    "\n",
    "#### Skill Group 1\n",
    "- Use a function with the def() keyword\n",
    "- Pass a parameter to the function\n",
    "- Use an if-elif-else block to set specific conditions for a variety of actions\n",
    "- Assign strings to variables \n",
    "- Use comparison operators\n",
    "- Return a value\n",
    "- Call the function in a print statement and pass parameter to the function"
   ]
  },
  {
   "cell_type": "code",
   "execution_count": 60,
   "metadata": {},
   "outputs": [
    {
     "name": "stdout",
     "output_type": "stream",
     "text": [
      "Provide IT Support to employees\n"
     ]
    }
   ],
   "source": [
    "# A function is created with the def() keyword. The parameter\n",
    "# variable \"time_as_string\" is passed to the function through a \n",
    "# call to the function.\n",
    "def task_reminder(time_as_string):\n",
    "\n",
    "    # The following if-elif-else block assigns various strings to\n",
    "    # the variable \"task\" depending on specific conditions. The\n",
    "    # test conditions are set using the == equality comparison \n",
    "    # operator. In this case, the time passed through the \n",
    "    # \"time_as_string\" parameter variable is tested as the \n",
    "    # specific condition. So, if the time  is \"11:30 a.m.\", then \n",
    "    # \"task\" is assigned the value: \"Run TPS report\".\n",
    "    if time_as_string == \"8:00 a.m.\":\n",
    "        task = \"Check overnight backup images\"\n",
    "    elif time_as_string == \"11:30 a.m.\":\n",
    "        task = \"Run TPS report\"\n",
    "    elif time_as_string == \"5:30 p.m.\":\n",
    "        task = \"Reboot servers\"\n",
    "    # The else statement is a catchall for all other values of \n",
    "    # the \"time_as_string\" parameter variable not listed in the\n",
    "    # if-elif block of code.\n",
    "    else:\n",
    "        task = \"Provide IT Support to employees\"\n",
    "\n",
    "    # This line returns the value of \"task\" to the function call.\n",
    "    return task\n",
    "\n",
    "# This line calls the function and passes a parameter  \n",
    "# (\"10:00 a.m.\") to the function.\n",
    "print(task_reminder(\"10:00 a.m.\"))\n",
    "# Should print \"Provide IT Support to employees\"\n"
   ]
  },
  {
   "attachments": {},
   "cell_type": "markdown",
   "metadata": {},
   "source": [
    "#### Skill Group 2\n",
    "\n",
    "- Predict the output of expressions written with Python’s syntax. \n",
    "- Requires an understanding of:\n",
    "\n",
    "  - Arithmetic and logical operators \n",
    "  - How functions return and print values\n",
    "  - How if-elif-else statements work\n",
    "  - Comparison operators"
   ]
  },
  {
   "cell_type": "code",
   "execution_count": 62,
   "metadata": {},
   "outputs": [
    {
     "name": "stdout",
     "output_type": "stream",
     "text": [
      "120\n",
      "-2\n",
      "False\n",
      "This comparison is True\n",
      "0\n"
     ]
    }
   ],
   "source": [
    "# Evaluate the output of this print statement\n",
    "\n",
    "def product(a, b):\n",
    "        return(a*b)\n",
    "\n",
    "print(product(product(2,4), product(3,5)))\n",
    " \n",
    "\n",
    "\n",
    "#################################\n",
    "# Example 2 \n",
    "# Evaluate the output of this print statement\n",
    "def difference(a, b):\n",
    "        return(a-b)\n",
    "\n",
    "def sum(a, b):\n",
    "        return(a+b)\n",
    "\n",
    "print(difference(sum(2,2), sum(3,3)))\n",
    "\n",
    "\n",
    "\n",
    "\n",
    "#################################\n",
    "# Example 3\n",
    "# Evaluate the Boolean output of this comparison\n",
    "\n",
    "print((5 >= 2*4) and (5 <= 4*3))\n",
    "\n",
    "\n",
    "#################################\n",
    "# Example 4 \n",
    "# Evaluate the value of the comparison in the if statement \n",
    "x = 3\n",
    "if x+5 > x**2 or x % 4 != 0:\n",
    "        print(\"This comparison is True\")\n",
    "\n",
    "\n",
    "\n",
    "#################################\n",
    "# Example 5 \n",
    "# Evaluate the output of this if-elif-else statement\n",
    "number = 6\n",
    "if number * 2 < 14:\n",
    "        print(number * 6 % 3)\n",
    "elif number > 7:\n",
    "        print(100 / number)\n",
    "else:\n",
    "        print(7 - number)\n",
    "\n",
    "\n",
    "# Click Run to check your answers. If you are having trouble \n",
    "# calculating the correct answers manually, please review the\n",
    "# Practice Quiz Study Guides, videos, and readings in this Module."
   ]
  },
  {
   "attachments": {},
   "cell_type": "markdown",
   "metadata": {},
   "source": [
    "#### Skill Group 3\n",
    "- Create an if-elif-else statement with: \n",
    "  - a complex conditional statement using both comparison and logical operators\n",
    "  - values assigned to variables    \n",
    "  - arithmetic operators, including the modulo % operator"
   ]
  },
  {
   "cell_type": "code",
   "execution_count": 63,
   "metadata": {},
   "outputs": [
    {
     "name": "stdout",
     "output_type": "stream",
     "text": [
      "0.3333333333333333\n"
     ]
    }
   ],
   "source": [
    "def get_remainder(x, y):\n",
    " \n",
    "  if x == 0 or y == 0 or x ==y:\n",
    "    remainder = 0\n",
    "  else:\n",
    "    remainder = (x % y) / y\n",
    "  return remainder\n",
    "\n",
    "\n",
    "print(get_remainder(10, 3))\n"
   ]
  },
  {
   "attachments": {},
   "cell_type": "markdown",
   "metadata": {},
   "source": [
    "### Reminder: Correct syntax is critical\n",
    "\n",
    "Using precise syntax is critical when writing code in any programming language, including Python. Even a small typo can cause a syntax error and the automated Python-coded quiz grader will mark your code as incorrect. This reflects real life coding errors in the sense that a single error in spelling, case, punctuation, etc. can cause your code to fail. Coding problems caused by imprecise syntax will always be an issue whether you are learning a programming language or you are using programming skills on the job. So, it is critical to start the habit of being precise in your code now. \n",
    "\n",
    "No credit will be given if there are any coding errors on the automated graded quizzes - including minor errors. Fortunately, you have 3 optional retake opportunities on the graded quizzes in this course. Additionally, you have unlimited retakes on practice quizzes and can review the videos and readings as many times as you need to master the concepts in this course.  \n",
    "\n",
    "Now, before starting the graded quiz, please review this list of common syntax errors coders make when writing code.\n",
    "\n",
    "#### Common syntax errors:\n",
    "\n",
    "- Misspellings\n",
    "- Incorrect indentations\n",
    "- Missing or incorrect key characters:\n",
    "\n",
    "  - Parenthetical types - ( curved ), [ square ], { curly }\n",
    "  - Quote types - \"straight-double\" or 'straight-single', “curly-double” or ‘curly-single’\n",
    "  - Block introduction characters, like colons - :\n",
    "  - Data type mismatches\n",
    "  - Missing, incorrectly used, or misplaced Python reserved words\n",
    "  - Using the wrong case (uppercase/lowercase) - Python is a case-sensitive language\n",
    " "
   ]
  },
  {
   "attachments": {},
   "cell_type": "markdown",
   "metadata": {},
   "source": [
    "Question 2\n",
    "In this scenario, two friends are eating dinner at a restaurant. The bill comes in the amount of 47.28 dollars. The friends decide to split the bill evenly between them, after adding 15% tip for the service. Calculate the tip, the total amount to pay, and each friend's share, then output a message saying \"Each person needs to pay: \" followed by the resulting number."
   ]
  },
  {
   "cell_type": "code",
   "execution_count": 65,
   "metadata": {},
   "outputs": [
    {
     "name": "stdout",
     "output_type": "stream",
     "text": [
      "Each person needs to pay 27.186\n"
     ]
    }
   ],
   "source": [
    "bill = 47.28 # Assign \"bill\" variable with bill amount\n",
    "tip = bill * 0.15 # Multiply by stated tip rate \n",
    "total = bill + tip # Sum the \"total\" of the \"bill\" and \"tip\"\n",
    "share = total/2 # Divide \"total\" by number of friends dining\n",
    "print(\"Each person needs to pay \" + str(share)) # Enter the required string and \"share\" \n",
    "# Hint: Remember to convert incompatible data types"
   ]
  },
  {
   "cell_type": "code",
   "execution_count": null,
   "metadata": {},
   "outputs": [],
   "source": []
  }
 ],
 "metadata": {
  "kernelspec": {
   "display_name": "streamlitenv",
   "language": "python",
   "name": "python3"
  },
  "language_info": {
   "codemirror_mode": {
    "name": "ipython",
    "version": 3
   },
   "file_extension": ".py",
   "mimetype": "text/x-python",
   "name": "python",
   "nbconvert_exporter": "python",
   "pygments_lexer": "ipython3",
   "version": "3.8.16"
  },
  "orig_nbformat": 4
 },
 "nbformat": 4,
 "nbformat_minor": 2
}
