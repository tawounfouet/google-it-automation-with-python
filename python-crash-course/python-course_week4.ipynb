{
 "cells": [
  {
   "attachments": {},
   "cell_type": "markdown",
   "metadata": {},
   "source": [
    "# Week 4"
   ]
  },
  {
   "attachments": {},
   "cell_type": "markdown",
   "metadata": {},
   "source": [
    "## Strings, Lists, and Dictionaries \n",
    "\n",
    "In this module you'll dive into more advanced ways to manipulate strings using indexing, slicing, and advanced formatting. You'll also explore the more advanced data types: lists, tuples, and dictionaries. You'll learn to store, reference, and manipulate data in these structures, as well as combine them to store complex data structures.\n",
    "Objectifs d'apprentissage\n",
    "\n",
    "#### Learning Objectives\n",
    "- Manipulate strings using indexing, slicing, and formatting\n",
    "- Use lists and tuples to store, reference, and manipulate data\n",
    "- Leverage dictionaries to store more complex data, reference data by keys, and manipulate data stored\n",
    "- Combine the String, List, and Dictionary data types to construct complex data structures"
   ]
  },
  {
   "attachments": {},
   "cell_type": "markdown",
   "metadata": {},
   "source": [
    "### String Indexing and Slicing\n",
    "\n",
    "String indexing allows you to access individual characters in a string. You can do this by using square brackets and the location, or index, of the character you want to access. \n",
    "\n",
    "- It's important to remember that Python starts indexes at 0. So to access the first character in a string, you would use the `index [0]`. If you try to access an index that’s larger than the length of your string, you’ll get an `IndexError`. This is because you’re trying to access something that doesn't exist! \n",
    "\n",
    "- You can also access indexes from the end of the string going towards the start of the string by using negative values. The `index [-1]` would access the last character of the string, and the `index [-2]`would access the second-to-last character.\n",
    "\n",
    "- You can also access a portion of a string, called a `slice or a substring`. This allows you to access multiple characters of a string. You can do this by creating a range, using a colon as a separator between the start and end of the range, like `[2:5]`. \n",
    "\n",
    "This range is similar to the range() function we saw previously. It includes the first number, but goes to one less than the last number. For example:\n",
    "\n",
    "```python\n",
    ">>> fruit = \"Mangosteen\"\n",
    ">>> fruit[1:4]\n",
    "'ang'\n",
    "```\n",
    "\n",
    "The slice includes the character at index 1, and excludes the character at index 4. You can also easily reference a substring at the start or end of the string by only specifying one end of the range. For example, only giving the end of the range:\n",
    "```python\n",
    ">>> fruit[:5]\n",
    "'Mango'\n",
    "```\n",
    "\n",
    "This gave us the characters from the start of the string through index 4, excluding index 5. On the other hand this example gives is the characters including index 5, through the end of the string:\n",
    "```python\n",
    ">>> frui`[5:]\n",
    "'steen'\n",
    "```\n",
    "\n",
    "You might have noticed t`at if you put both of those results together, you get the original string back!\n",
    "```python\n",
    ">>> fruit[:5] + fruit[5:]\n",
    "'Mangosteen'\n",
    "```\n",
    "\n"
   ]
  },
  {
   "cell_type": "code",
   "execution_count": 10,
   "metadata": {},
   "outputs": [
    {
     "name": "stdout",
     "output_type": "stream",
     "text": [
      "Indexing example :\n",
      "T\n",
      "h\n",
      "\n",
      "Negative index example :\n",
      "s\n",
      "a\n",
      "\n",
      "Slicing example :\n",
      "Th\n",
      "Tho\n",
      "homas\n"
     ]
    }
   ],
   "source": [
    "name = \"Thomas\"\n",
    "\n",
    "# Indexing starts at 0\n",
    "print(\"Indexing example :\")\n",
    "print(name[0])\n",
    "print(name[1])\n",
    "\n",
    "# Negative index\n",
    "print(\"\\nNegative index example :\")\n",
    "print(name[-1])\n",
    "print(name[-2])\n",
    "\n",
    "\n",
    "# Slicing \n",
    "print(\"\\nSlicing example :\")\n",
    "print(name[0:2])\n",
    "print(name[:3])\n",
    "print(name[1:])"
   ]
  },
  {
   "attachments": {},
   "cell_type": "markdown",
   "metadata": {},
   "source": [
    "#### Creating new strings \n",
    "\n",
    "Stringt are immutable, which means that you can't change an existing string. The best you can do is create a new string that is a variation on the original."
   ]
  },
  {
   "cell_type": "code",
   "execution_count": 14,
   "metadata": {},
   "outputs": [
    {
     "name": "stdout",
     "output_type": "stream",
     "text": [
      "A kong string with a silly typo\n",
      "A \n",
      "ong string with a silly typo\n",
      "A long string with a silly typo\n"
     ]
    }
   ],
   "source": [
    "message  = \"A kong string with a silly typo\"\n",
    "\n",
    "new_message = message[0:2] + \"l\" + message[3:]\n",
    "\n",
    "print(message)\n",
    "print(message[0:2])\n",
    "print(message[3:])\n",
    "print(new_message)"
   ]
  },
  {
   "cell_type": "code",
   "execution_count": 15,
   "metadata": {},
   "outputs": [
    {
     "name": "stdout",
     "output_type": "stream",
     "text": [
      "This is a new message\n"
     ]
    }
   ],
   "source": [
    "# We can assign a new value to a string\n",
    "\n",
    "message = \"This is a new message\"\n",
    "print(message)  "
   ]
  },
  {
   "cell_type": "code",
   "execution_count": 17,
   "metadata": {},
   "outputs": [
    {
     "name": "stdout",
     "output_type": "stream",
     "text": [
      "5\n",
      "0\n"
     ]
    }
   ],
   "source": [
    "pets = \"Cats & Dogs\"\n",
    "\n",
    "# Find the index of the first space using the index() method\n",
    "print(pets.index(\"&\"))\n",
    "print(pets.index(\"C\"))"
   ]
  },
  {
   "cell_type": "code",
   "execution_count": 18,
   "metadata": {},
   "outputs": [
    {
     "data": {
      "text/plain": [
       "False"
      ]
     },
     "execution_count": 18,
     "metadata": {},
     "output_type": "execute_result"
    }
   ],
   "source": [
    "\"Dragons\" in pets"
   ]
  },
  {
   "cell_type": "code",
   "execution_count": 19,
   "metadata": {},
   "outputs": [
    {
     "data": {
      "text/plain": [
       "True"
      ]
     },
     "execution_count": 19,
     "metadata": {},
     "output_type": "execute_result"
    }
   ],
   "source": [
    "\"Cats\" in pets"
   ]
  },
  {
   "cell_type": "code",
   "execution_count": 20,
   "metadata": {},
   "outputs": [
    {
     "data": {
      "text/plain": [
       "True"
      ]
     },
     "execution_count": 20,
     "metadata": {},
     "output_type": "execute_result"
    }
   ],
   "source": [
    "\"Dogs\" in pets"
   ]
  },
  {
   "cell_type": "code",
   "execution_count": 21,
   "metadata": {},
   "outputs": [],
   "source": [
    "def replace_domain(email, old_domain, new_domain):\n",
    "    if \"@\" + old_domain in email:\n",
    "        index = email.index(\"@\" + old_domain)\n",
    "        new_email = email[:index] + \"@\" + new_domain\n",
    "        return new_email\n",
    "    return email"
   ]
  },
  {
   "attachments": {},
   "cell_type": "markdown",
   "metadata": {},
   "source": [
    "#### Basic String Methods\n",
    "In Python, strings are immutable. This means that they can't be modified. So if we wanted to fix a typo in a string, we can't simply modify the wrong character. We would have to create a new string with the typo corrected. We can also assign a new value to the variable holding our string.\n",
    "\n",
    "If we aren't sure what the index of our typo is, we can use the string method index to locate it and return the index. Let's imagine we have the string \"lions tigers and bears\" in the variable animals. We can locate the index that contains the letter g using animals.index(\"g\"), which will return the index; in this case 8. We can also use substrings to locate the index where the substring begins. animals.index(\"bears\") would return 17, since that’s the start of the substring. If there’s more than one match for a substring, the index method will return the first match. If we try to locate a substring that doesn't exist in the string, we’ll receive a ValueError explaining that the substring was not found.\n",
    "```python\n",
    "animals = \"lions tigers and bears\"\n",
    "animals.index(\"g\")\n",
    "8\n",
    "animals.index(\"bears\")\n",
    "17\n",
    "```\n",
    "\n",
    "\n",
    "We can avoid a ValueError by first checking if the substring exists in the string. This can be done using the in keyword. We saw this keyword earlier when we covered for loops. In this case, it's a conditional that will be either True or False. If the substring is found in the string, it will be True. If the substring is not found in the string, it will be False. Using our previous variable animals, we can do \"horses\" in animals to check if the substring \"horses\" is found in our variable. In this case, it would evaluate to False, since horses aren’t included in our example string. If we did \"tigers\" in animals, we'd get True, since this substring is contained in our string.\n",
    "```python\n",
    "animals = \"lions tigers and bears\"\n",
    "\"horses\" in animals\n",
    "False\n",
    "\"tigers\" in animals\n",
    "True\n",
    "```\n"
   ]
  },
  {
   "cell_type": "code",
   "execution_count": 22,
   "metadata": {},
   "outputs": [
    {
     "data": {
      "text/plain": [
       "8"
      ]
     },
     "execution_count": 22,
     "metadata": {},
     "output_type": "execute_result"
    }
   ],
   "source": [
    "animals = \"lions tigers and bears\"\n",
    "animals.index(\"g\")\n"
   ]
  },
  {
   "cell_type": "code",
   "execution_count": 28,
   "metadata": {},
   "outputs": [
    {
     "data": {
      "text/plain": [
       "17"
      ]
     },
     "execution_count": 28,
     "metadata": {},
     "output_type": "execute_result"
    }
   ],
   "source": [
    "animals.index(\"bears\")"
   ]
  },
  {
   "attachments": {},
   "cell_type": "markdown",
   "metadata": {},
   "source": [
    "#### More String Methods"
   ]
  },
  {
   "cell_type": "code",
   "execution_count": 31,
   "metadata": {},
   "outputs": [
    {
     "name": "stdout",
     "output_type": "stream",
     "text": [
      "MOUNTAINS\n",
      "mountains\n"
     ]
    }
   ],
   "source": [
    "# Upper and lower case methods\n",
    "print('Mountains'.upper())\n",
    "print('Mountains'.lower())\n"
   ]
  },
  {
   "cell_type": "code",
   "execution_count": 29,
   "metadata": {},
   "outputs": [
    {
     "name": "stdout",
     "output_type": "stream",
     "text": [
      "User said yes\n"
     ]
    }
   ],
   "source": [
    "answer = \"YES\"\n",
    "if answer.lower() == \"yes\":\n",
    "    print(\"User said yes\")"
   ]
  },
  {
   "cell_type": "code",
   "execution_count": 34,
   "metadata": {},
   "outputs": [
    {
     "name": "stdout",
     "output_type": "stream",
     "text": [
      "yes\n",
      " yes\n",
      "yes \n"
     ]
    }
   ],
   "source": [
    "# Strip method - To remove white spaces\n",
    "\n",
    "# strip() method\n",
    "print(\" yes \".strip())\n",
    "\n",
    "# rsrtip() and lstrip() methods\n",
    "print(\" yes \".rstrip())\n",
    "print(\" yes \".lstrip())"
   ]
  },
  {
   "cell_type": "code",
   "execution_count": 37,
   "metadata": {},
   "outputs": [
    {
     "name": "stdout",
     "output_type": "stream",
     "text": [
      "True\n",
      "False\n",
      "False\n"
     ]
    }
   ],
   "source": [
    "# Is numeric method\n",
    "print(\"12345\".isnumeric())\n",
    "print(\"12345abc\".isnumeric())\n",
    "print(\"abc\".isnumeric())\n"
   ]
  },
  {
   "cell_type": "code",
   "execution_count": 39,
   "metadata": {},
   "outputs": [
    {
     "name": "stdout",
     "output_type": "stream",
     "text": [
      "cats,rats,bats\n",
      "My name is Simon\n"
     ]
    }
   ],
   "source": [
    "# Join method\n",
    "print(\",\".join([\"cats\", \"rats\", \"bats\"]))\n",
    "\n",
    "print(\" \".join([\"My\", \"name\", \"is\", \"Simon\"]))"
   ]
  },
  {
   "cell_type": "code",
   "execution_count": 40,
   "metadata": {},
   "outputs": [
    {
     "name": "stdout",
     "output_type": "stream",
     "text": [
      "['My', 'name', 'is', 'Simon']\n"
     ]
    }
   ],
   "source": [
    "# Split method\n",
    "print(\"My name is Simon\".split())\n"
   ]
  },
  {
   "attachments": {},
   "cell_type": "markdown",
   "metadata": {},
   "source": [
    "#### Advanced String Methods\n",
    "\n",
    "We've covered a bunch of String class methods already, so let's keep building on those and run down some more advanced methods.\n",
    "\n",
    "The string method lower will return the string with all characters changed to lowercase. The inverse of this is the upper method, which will return the string all in uppercase. Just like with previous methods, we call these on a string using dot notation, like \"this is a string\".upper(). This would return the string \"THIS IS A STRING\". This can be super handy when checking user input, since someone might type in all lowercase, all uppercase, or even a mixture of cases.\n",
    "\n",
    "You can use the strip method to remove surrounding whitespace from a string. Whitespace includes spaces, tabs, and newline characters. You can also use the methods  lstrip and rstrip to remove whitespace only from the left or the right side of the string, respectively.\n",
    "\n",
    "The method count can be used to return the number of times a substring appears in a string. This can be handy for finding out how many characters appear in a string, or counting the number of times a certain word appears in a sentence or paragraph.\n",
    "\n",
    "If you wanted to check if a string ends with a given substring, you can use the method endswith. This will return True if the substring is found at the end of the string, and False if not.\n",
    "\n",
    "The isnumeric method can check if a string is composed of only numbers. If the string contains only numbers, this method will return True. We can use this to check if a string contains numbers before passing the string to the int() function to convert it to an integer, avoiding an error. Useful!\n",
    "\n",
    "We took a look at string concatenation using the plus sign, earlier. We can also use the join method to concatenate strings. This method is called on a string that will be used to join a list of strings. The method takes a list of strings to be joined as a parameter, and returns a new string composed of each of the strings from our list joined using the initial string. For example, \" \".join([\"This\",\"is\",\"a\",\"sentence\"]) would return the string \"This is a sentence\".\n",
    "\n",
    "The inverse of the join method is the split method. This allows us to split a string into a list of strings. By default, it splits by any whitespace characters. You can also split by any other characters by passing a parameter.\n",
    "\n",
    "\n"
   ]
  },
  {
   "attachments": {},
   "cell_type": "markdown",
   "metadata": {},
   "source": [
    "#### Formatting Strings"
   ]
  },
  {
   "cell_type": "code",
   "execution_count": 44,
   "metadata": {},
   "outputs": [
    {
     "name": "stdout",
     "output_type": "stream",
     "text": [
      "Hello Thomas, your lucky number is 18\n",
      "Your lucky number is 18, Thomas\n"
     ]
    }
   ],
   "source": [
    "# Using format() method\n",
    "name = \"Thomas\"\n",
    "number = len(name) * 3\n",
    "\n",
    "print(\"Hello {}, your lucky number is {}\".format(name, number))\n",
    "\n",
    "# U\n",
    "print(\"Your lucky number is {number}, {name}\".format(name=name, number=len(name)*3))"
   ]
  },
  {
   "cell_type": "code",
   "execution_count": 45,
   "metadata": {},
   "outputs": [],
   "source": [
    "def student_grade(name, grade):\n",
    "    return \"{name} received {grade}% on the exam\".format(name=name, grade=grade)"
   ]
  },
  {
   "cell_type": "code",
   "execution_count": 48,
   "metadata": {},
   "outputs": [
    {
     "name": "stdout",
     "output_type": "stream",
     "text": [
      "7.5 8.175\n",
      "8.18\n",
      "Base price: $7.50. With Tax: $8.18\n"
     ]
    }
   ],
   "source": [
    "price = 7.5\n",
    "with_tax = price * 1.09\n",
    "print(price, with_tax)\n",
    "\n",
    "# Using round() method\n",
    "print(round(with_tax, 2))\n",
    "\n",
    "# Using format() method\n",
    "print(\"Base price: ${:.2f}. With Tax: ${:.2f}\".format(price, with_tax))\n"
   ]
  },
  {
   "cell_type": "code",
   "execution_count": 49,
   "metadata": {},
   "outputs": [
    {
     "name": "stdout",
     "output_type": "stream",
     "text": [
      "  0 F | -17.78 C\n",
      " 10 F | -12.22 C\n",
      " 20 F |  -6.67 C\n",
      " 30 F |  -1.11 C\n",
      " 40 F |   4.44 C\n",
      " 50 F |  10.00 C\n",
      " 60 F |  15.56 C\n",
      " 70 F |  21.11 C\n",
      " 80 F |  26.67 C\n",
      " 90 F |  32.22 C\n",
      "100 F |  37.78 C\n"
     ]
    }
   ],
   "source": [
    "def to_celsius(x):\n",
    "    return (x-32)*5/9\n",
    "\n",
    "for x in range(0,101,10):\n",
    "    print(\"{:>3} F | {:>6.2f} C\".format(x, to_celsius(x)))"
   ]
  },
  {
   "attachments": {},
   "cell_type": "markdown",
   "metadata": {},
   "source": [
    "The format method allows you to format selected parts of a string. This lets you concatenate elements together within a string through positional formatting.\n",
    "\n",
    "- The `:>` is use to align text to the right. \n",
    "- The `:<` is use to align text to the left. \n",
    "- The `:^` is use to center text. \n",
    "- The `:=` is use to align text to the left and adds a sign to positive numbers. \n",
    "- The `:+` is use to add a sign to positive and negative numbers. \n",
    "- The `:-` is use to add a sign to negative numbers. \n",
    "- The `: ` (space) is use to insert a space for positive numbers. \n",
    "- The `:,` is use to add a comma as a thousand separator. \n",
    "- The `:_` is use to add an underscore as a thousand separator. \n",
    "- The `:.3` is use to set the precision of the number to 3 places. \n",
    "- The `:E` is use to present the number in scientific notation with an uppercase E. \n",
    "- The `:e` is use to present the number in scientific notation with a lowercase e. \n",
    "- The `:f` is use to present the number in fixed point notation, default with 6 decimals, but use a period followed by a number to specify the number of decimals. \n",
    "- The `:%` is use to present the number as a percentage with a specified number of decimals.\n",
    "\n",
    "\n",
    "https://www.coursera.org/learn/python-crash-course/supplement/JbXSA/formatting-strings-guide "
   ]
  },
  {
   "cell_type": "code",
   "execution_count": 81,
   "metadata": {},
   "outputs": [
    {
     "name": "stdout",
     "output_type": "stream",
     "text": [
      "The value of x is 12.35\n",
      "The value of x is 12.346\n",
      "-------------------- \n",
      "\n",
      "    1\n",
      "    3\n",
      "    5\n",
      "-------------------- \n",
      "\n",
      "  1  \n",
      "  3  \n",
      "  5  \n",
      "-------------------- \n",
      "\n",
      "1    \n",
      "3    \n",
      "5    \n",
      "-------------------- \n",
      "\n",
      "1%\n",
      "3%\n",
      "5%\n",
      "-------------------- \n",
      "\n"
     ]
    }
   ],
   "source": [
    "x = 12.3456789\n",
    "\n",
    "print(\"The value of x is {:.2f}\".format(x))\n",
    "print(\"The value of x is {:.3f}\".format(x))\n",
    "\n",
    "print(\"-\" * 20, \"\\n\")\n",
    "\n",
    "# Using `<` to align numbers to the left\n",
    "for num in range(1, 6, 2):\n",
    "    print(\"{:>5}\".format(num))\n",
    "\n",
    "print(\"-\" * 20, \"\\n\")\n",
    "\n",
    "# Using `^` to center numbers\n",
    "for num in range(1, 6, 2):\n",
    "    print(\"{:^5}\".format(num))\n",
    "\n",
    "print(\"-\" * 20, \"\\n\")\n",
    "\n",
    "# Using `>` to align numbers to the right\n",
    "for num in range(1, 6, 2):\n",
    "    print(\"{:<5}\".format(num))\n",
    "\n",
    "print(\"-\" * 20, \"\\n\")\n",
    "\n",
    "# Using `%` to format numbers as percentages\n",
    "for num in range(1, 6, 2):\n",
    "    print(\"{:.0%}\".format(num/100))\n",
    "\n",
    "print(\"-\" * 20, \"\\n\")\n"
   ]
  },
  {
   "cell_type": "code",
   "execution_count": 87,
   "metadata": {},
   "outputs": [
    {
     "name": "stdout",
     "output_type": "stream",
     "text": [
      "      1\n",
      "      3\n",
      "      5\n",
      "--------------------\n",
      "   -4\n",
      "   -2\n",
      "    0\n",
      "    2\n",
      "    4\n",
      "--------------------\n",
      "+1\n",
      "+3\n",
      "+5\n"
     ]
    }
   ],
   "source": [
    "# Using `:=` to add sign to positive numbers\n",
    "for num in range(1, 6, 2):\n",
    "    print(\"{:=7}\".format(num))\n",
    "\n",
    "print(\"-\" * 20)\n",
    "\n",
    "# Using `:-` to add sign to both positive and negative numbers\n",
    "for num in range(-4, 6, 2):\n",
    "    print(\"{:-5}\".format(num))\n",
    "\n",
    "print(\"-\" * 20)\n",
    "\n",
    "\n",
    "# Using `:+` to add  sign to positive numbers\n",
    "for num in range(1, 6, 2):\n",
    "    print(\"{:+2}\".format(num))"
   ]
  },
  {
   "cell_type": "code",
   "execution_count": 96,
   "metadata": {},
   "outputs": [
    {
     "name": "stdout",
     "output_type": "stream",
     "text": [
      "1,000\n",
      "2,000\n",
      "3,000\n",
      "4,000\n",
      "5,000\n",
      "--------------------\n",
      " 1000\n",
      " 2000\n",
      " 3000\n",
      " 4000\n",
      " 5000\n",
      "--------------------\n",
      "1_000\n",
      "2_000\n",
      "3_000\n",
      "4_000\n",
      "5_000\n",
      "--------------------\n",
      "1.00\n",
      "3.00\n",
      "5.00\n",
      "--------------------\n",
      "0\n",
      "1\n",
      "10\n",
      "11\n",
      "100\n"
     ]
    }
   ],
   "source": [
    "# Using `:,` to format numbers with a thousands separator\n",
    "for num in range(1000, 6000, 1000):\n",
    "    print(\"{:,}\".format(num))\n",
    "\n",
    "print(\"-\" * 20)\n",
    "\n",
    "# Using `: ` to format numbers with a space separator\n",
    "for num in range(1000, 6000, 1000):\n",
    "    print(\"{: }\".format(num))\n",
    "\n",
    "print(\"-\" * 20)\n",
    "\n",
    "# Using `:_` to format numbers with an underscore separator\n",
    "for num in range(1000, 6000, 1000):\n",
    "    print(\"{:_}\".format(num))\n",
    "\n",
    "print(\"-\" * 20)\n",
    "# Using `:.` to  format numbers with a decimal separator\n",
    "for num in range(1, 6, 2):\n",
    "    print(\"{:.2f}\".format(num))\n",
    "\n",
    "print(\"-\" * 20) \n",
    "\n",
    "# Using `:b` to format numbers as binary\n",
    "for num in range(5):\n",
    "    print(\"{:b}\".format(num))\n",
    "\n"
   ]
  },
  {
   "attachments": {},
   "cell_type": "markdown",
   "metadata": {},
   "source": [
    "#### String Formatting\n",
    "\n",
    "You can use the format method on strings to concatenate and format strings in all kinds of powerful ways. To do this, create a string containing `curly brackets, {}`, as a placeholder, to be replaced. Then call the format method on the string using `.format()` and pass variables as parameters. The variables passed to the method will then be used to replace the curly bracket placeholders. This method automatically handles any conversion between data types for us. \n",
    "\n",
    "If the curly brackets are empty, they’ll be populated with the variables passed in the order in which they're passed. However, you can put certain expressions inside the curly brackets to do even more powerful string formatting operations. You can put the name of a variable into the curly brackets, then use the names in the parameters. This allows for more easily readable code, and for more flexibility with the order of variables.\n",
    "\n",
    "You can also put a formatting expression inside the curly brackets, which lets you alter the way the string is formatted. For example, the formatting expression `{:.2f}` means that you’d format this as a float number, with two digits after the decimal dot. \n",
    "\n",
    "The colon acts as a separator from the field name, if you had specified one. You can also specify text alignment using the greater than operator: `>`. For example, the expressio`{:>3.2f} `would align the text three spaces to the right, as well as specify a float number with two decimal places. String formatting can be very handy for outputting easy-to-read textual output."
   ]
  },
  {
   "attachments": {},
   "cell_type": "markdown",
   "metadata": {},
   "source": [
    "#### String Reference Guide\n",
    "In Python, there are a lot of things you can do with strings. In this guide, you’ll find the most common string operations and string methods.\n",
    "\n",
    "**String operations**\n",
    "- len(string) - Returns the length of the string\n",
    "- for character in string - Iterates over each character in the string\n",
    "- if substring in string - Checks whether the substring is part of the string\n",
    "- string[i] - Accesses the character at index i of the string, starting at zero\n",
    "- string[i:j] - Accesses the substring starting at index i, ending at index j minus 1. If i is omitted, its value defaults to 0. If j is omitted, the value will default to len(string).\n",
    "\n",
    "\n",
    "**String methods**\n",
    "- `string.lower()` - Returns a copy of the string with all lowercase characters\n",
    "- `string.upper()`- Returns a copy of the string with all uppercase characters\n",
    "- `string.lstrip()` - Returns a copy of the string with the left-side whitespace removed\n",
    "- `string.rstrip()` - Returns a copy of the string with the right-side whitespace removed\n",
    "- `string.strip()`- Returns a copy of the string with both the left and right-side whitespace removed\n",
    "- `string.count(substring)` - Returns the number of times substring is present in the string\n",
    "- `string.isnumeric()`- Returns True if there are only numeric characters in the string. If not, returns False.\n",
    "- `string.isalpha()`- Returns True if there are only alphabetic characters in the string. If not, returns False.\n",
    "- `string.split()`- Returns a list of substrings that were separated by whitespace (whitespace can be a space, tab, or new line)\n",
    "- `string.split(delimiter)`- Returns a list of substrings that were separated by whitespace or a delimiter\n",
    "- `string.replace(old, new)`- Returns a new string where all occurrences of old have been replaced by new.\n",
    "- `delimiter.join(list of strings)` - Returns a new string with all the strings joined by the delimiter \n",
    "\n",
    "Check out the official documentation for all available String methods.  \n",
    "\n"
   ]
  },
  {
   "attachments": {},
   "cell_type": "markdown",
   "metadata": {},
   "source": [
    "#### Study Guide: Strings\n",
    "This study guide provides a quick-reference summary of what you learned in this lesson and serves as a guide for the upcoming practice quiz. The string readings in this section are great syntax guides to help you on the Strings Practice Quiz.\n",
    "\n",
    "In the Strings segment, you learned about the parts of a string, string indexing and slicing, creating new strings, string methods and operations, and formatting strings. \n",
    "\n",
    "\n",
    "**Knowledge**\n",
    "\n",
    "String Operations and Methods\n",
    "- `.format() ` String method that can be used to concatenate and format strings. \n",
    "\n",
    "- `{:.2f}`- Within the .format() method, limits a floating point variable to 2 decimal places. The number of decimal places can be customized.\n",
    "\n",
    "- `len(string)`- String operation that returns the length of the string.\n",
    "\n",
    "- `string[x]`- String operation that accesses the character at index [x] of the string, where indexing starts at zero.\n",
    "\n",
    "- `string[x:y]`- String operation that accesses a substring starting at index [x] and ending at index [y-1]. If x is omitted, its value defaults to 0. If y is omitted, the value will default to len(string).\n",
    "\n",
    "- `string.replace(old, new)`- String method that returns a new string where all occurrences of an old substring have been replaced by a new substring.\n",
    "\n",
    "- `string.lower()`- String method that returns a copy of the string with all lowercase characters"
   ]
  },
  {
   "attachments": {},
   "cell_type": "markdown",
   "metadata": {},
   "source": [
    "#### Coding skills\n",
    "\n",
    "**Skill Group 1**\n",
    "- Use a **for loop** to iterate through each letter of a string.\n",
    "- Add a character to the **front** of a string.\n",
    "- Add a character to the **end** of a string.\n",
    "\n",
    "- Use the **.lower()** string method to convert the case (uppercase/lowercase) of the letters within a string variable. This method is often used to eliminate cases as a factor when comparing two strings. For example, all lowercase “cat” is not equal to “Cat” because “Cat” contains an uppercase letter. To be able to compare the two strings to see if they are the same word, you can use the .lower() string method to remove capitalization as a factor in the string comparison."
   ]
  },
  {
   "cell_type": "code",
   "execution_count": 97,
   "metadata": {},
   "outputs": [
    {
     "name": "stdout",
     "output_type": "stream",
     "text": [
      "True\n",
      "False\n",
      "True\n"
     ]
    }
   ],
   "source": [
    "# This function accepts a given string and checks each character of \n",
    "# the string to see if it is a letter or not. If the character is a\n",
    "# letter, that letter is added to the end of the string variable\n",
    "# \"forwards\" and to the beginning of the string variable \"backwards\".\n",
    "def mirrored_string(my_string):\n",
    "\n",
    "    # Two variables are initialized as string data types using empty \n",
    "    # quotes. The variable \"forwards\" will hold the \"my_string\"\n",
    "    # minus any character that is not a letter. The \"backwards\" \n",
    "    # variable will hold the same letters as \"forwards\", but in  \n",
    "    # in reverse order.\n",
    "    forwards = \"\"\n",
    "    backwards = \"\"\n",
    "\n",
    "    # The for loop iterates through each character of the \"my_string\"\n",
    "    for character in my_string:\n",
    "\n",
    "        # The if-statement checks if the character is not a space.\n",
    "        if character.isalpha():\n",
    "\n",
    "            # If True, the body of the loop adds the character to the\n",
    "            # to the end of \"forwards\" and to the front of\n",
    "            # \"backwards\". \n",
    "            forwards += character\n",
    "            backwards = character + backwards\n",
    "\n",
    "        # If False (meaning the character is not a letter), no action\n",
    "        # is needed. This coding approach results prevents any \n",
    "        # non-alphabetical characters from being written to the\n",
    "        # \"forwards\" and \"backwards\" variables. The for loop will \n",
    "        # restart until all characters in \"my_string\" have been\n",
    "        # processed.\n",
    "        \n",
    "    # The final if-statement compares the \"forwards\" and \"backwards\"\n",
    "    # strings to see if the letters are the same both forwards and\n",
    "    # backwards. Since Python is case sensitive, the two strings will \n",
    "    # need to be converted to use the same case for this comparison. \n",
    "    if forwards.lower() == backwards.lower():\n",
    "        return True\n",
    "    return False\n",
    " \n",
    "print(mirrored_string(\"12 Noon\")) # Should be True\n",
    "print(mirrored_string(\"Was it a car or cat I saw\")) # Should be False\n",
    "print(mirrored_string(\"'eve, Madam Eve\")) # Should be True\n"
   ]
  },
  {
   "cell_type": "code",
   "execution_count": 98,
   "metadata": {},
   "outputs": [
    {
     "name": "stdout",
     "output_type": "stream",
     "text": [
      "12 ounces equals 0.75 pounds\n",
      "50.5 ounces equals 3.16 pounds\n",
      "16 ounces equals 1.00 pounds\n"
     ]
    }
   ],
   "source": [
    "# This function converts measurement equivalents. Output is formatted \n",
    "# as, \"x ounces equals y pounds\", with y limited to 2 decimal places. \n",
    "def convert_weight(ounces):\n",
    "\n",
    "    # Conversion formula: 1 pound = 16 ounces\n",
    "    pounds = ounces/16 \n",
    "    \n",
    "    # The result is composed using the .format() method. There are two\n",
    "    # placeholders in the string: the first is for the \"ounces\" \n",
    "    # variable and the second is for the \"pounds\" variable. The second\n",
    "    # placeholder formats the float result of the conversion \n",
    "    # calculation to be limited to 2 decimal places.\n",
    "    result = \"{} ounces equals {:.2f} pounds\".format(ounces,pounds)\n",
    "    return result\n",
    "\n",
    "\n",
    "print(convert_weight(12)) # Should be: 12 ounces equals 0.75 pounds\n",
    "print(convert_weight(50.5)) # Should be: 50.5 ounces equals 3.16 pounds\n",
    "print(convert_weight(16)) # Should be: 16 ounces equals 1.00 pounds"
   ]
  },
  {
   "cell_type": "code",
   "execution_count": 99,
   "metadata": {},
   "outputs": [
    {
     "name": "stdout",
     "output_type": "stream",
     "text": [
      "Iva1985\n",
      "Rod2000\n",
      "Den1991\n"
     ]
    }
   ],
   "source": [
    "# This function generates a username using the first 3 letters of a\n",
    "# user’s last name plus their birth year. \n",
    "def username(last_name, birth_year):\n",
    "    \n",
    "    # The .format() method will use the first 3 letters at index \n",
    "    # positions [0,1,2] of the \"last_name\" variable for the first\n",
    "    # {} placeholder. The second {} placeholder concatenates the user’s\n",
    "    #  \"birth_year\" to that string to form a new string username.\n",
    "    return(\"{}{}\".format(last_name[0:3],birth_year))\n",
    "\n",
    "\n",
    "print(username(\"Ivanov\", \"1985\")) \n",
    "# Should display \"Iva1985\" \n",
    "print(username(\"Rodríguez\", \"2000\")) \n",
    "# Should display \"Rod2000\" \n",
    "print(username(\"Deng\", \"1991\")) \n",
    "# Should display \"Den1991\"\n"
   ]
  },
  {
   "cell_type": "code",
   "execution_count": 101,
   "metadata": {},
   "outputs": [
    {
     "name": "stdout",
     "output_type": "stream",
     "text": [
      "Last year’s annual report will be released in March 2024\n",
      "In April, the CEO will hold a conference\n",
      "The convention is scheduled for June\n"
     ]
    }
   ],
   "source": [
    "# This function checks a given schedule entry for an old date and, if \n",
    "# found, the function replaces it with a new date. \n",
    "\n",
    "def replace_date(schedule, old_date, new_date):\n",
    "    if schedule.endswith(old_date):\n",
    "        p = len(old_date)\n",
    "        new_schedule = schedule[:-p] + schedule[-p:].replace(old_date, new_date)\n",
    "        return new_schedule\n",
    "\n",
    "def replace_date(schedule, old_date, new_date):\n",
    "\n",
    "    # Check if the given \"old_date\" appears at the end of the given \n",
    "    # string variable \"schedule\". \n",
    "    if schedule.endswith(old_date):\n",
    "\n",
    "        # If True, the body of the if-block will run. The variable \"n\" is\n",
    "        # used to hold the slicing index position. The len() function\n",
    "        # is used to measure the length of the string \"new_date\".\n",
    "        p = len(old_date)\n",
    "\n",
    "        # The \"new_schedule\" string holds the updated string with the \n",
    "        # old date replaced by the new date. The schedule[:-p] part of \n",
    "        # the code trims the \"old_date\" substring from \"schedule\" \n",
    "        # starting at the final index position (or right-side) counting\n",
    "        # towards the left the same number of index positions as \n",
    "        # calculated from len(old_date). Then, the code schedule[-p:]\n",
    "        # starts the indexing position at the slot where the first\n",
    "        # character of the \"old_date\" used to be positioned. The \n",
    "        # .replace(old_date, new_date) code inserts the \"new_date\" into\n",
    "        # the position where the \"old_date\" used to exist.  \n",
    "        new_schedule = schedule[:-p] + schedule[-p:].replace(old_date, new_date)\n",
    "\n",
    "        # Returns the schedule with the new date.\n",
    "        return new_schedule\n",
    "        \n",
    "    # If the schedule does not end with the old date, then return the\n",
    "    # original sentence without any modifications.\n",
    "    return schedule\n",
    "\n",
    "\n",
    " \n",
    "print(replace_date(\"Last year’s annual report will be released in March 2023\", \"2023\", \"2024\")) \n",
    "# Should display \"Last year’s annual report will be released in March 2024\"\n",
    "print(replace_date(\"In April, the CEO will hold a conference\", \"April\", \"May\")) \n",
    "# Should display \"In April, the CEO will hold a conference\"\n",
    "print(replace_date(\"The convention is scheduled for October\", \"October\", \"June\")) \n",
    "# Should display \"The convention is scheduled for June\""
   ]
  },
  {
   "attachments": {},
   "cell_type": "markdown",
   "metadata": {},
   "source": [
    "Question 4\n",
    "Fill in the gaps in the nametag function so that it uses the format method to return first_name and the first initial of last_name followed by a period. For example, nametag(\"Jane\", \"Smith\") should return \"Jane S.\"\n",
    "```python\n",
    "def nametag(first_name, last_name):\n",
    "    return(\"___.\".format(___))\n",
    "\n",
    "\n",
    "print(nametag(\"Jane\", \"Smith\")) \n",
    "# Should display \"Jane S.\" \n",
    "print(nametag(\"Francesco\", \"Rinaldi\")) \n",
    "# Should display \"Francesco R.\" \n",
    "print(nametag(\"Jean-Luc\", \"Grand-Pierre\")) \n",
    "# Should display \"Jean-Luc G.\" \n",
    "```\n",
    "\n",
    "#### Solution\n",
    "```python\n",
    "def nametag(first_name, last_name):\n",
    "    return(\"{} {}.\".format(first_name, last_name[0]))\n",
    "```\n",
    "\n",
    "\n",
    "```python\n",
    "def nametag(first_name, last_name):\n",
    "    return(\"{} {}.\".format(first_name, last_name[0]))\n",
    "```"
   ]
  },
  {
   "attachments": {},
   "cell_type": "markdown",
   "metadata": {},
   "source": [
    "The replace_ending function replaces a specified substring at the end of a given sentence with a new substring. If the specified substring does not appear at the end of the given sentence, no action is performed and the original sentence is returned. If there is more than one occurrence of the specified substring in the sentence, only the substring at the end of the sentence is replaced. For example, replace_ending(\"abcabc\", \"abc\", \"xyz\") should return abcxyz, not xyzxyz or xyzabc. The string comparison is case-sensitive, so replace_ending(\"abcabc\", \"ABC\", \"xyz\") should return abcabc (no changes made).  \n",
    "\n",
    "```python\n",
    "def replace_ending(sentence, old, new):\n",
    "    # Check if the old substring is at the end of the sentence \n",
    "    if ___:\n",
    "        # Using i as the slicing index, combine the part\n",
    "        # of the sentence up to the matched string at the \n",
    "        # end with the new string\n",
    "        i = ___\n",
    "        new_sentence = ___\n",
    "        return new_sentence\n",
    "\n",
    "\n",
    "    # Return the original sentence if there is no match \n",
    "    return sentence\n",
    "    \n",
    "print(replace_ending(\"It's raining cats and cats\", \"cats\", \"dogs\")) \n",
    "# Should display \"It's raining cats and dogs\"\n",
    "print(replace_ending(\"She sells seashells by the seashore\", \"seashells\", \"donuts\")) \n",
    "# Should display \"She sells seashells by the seashore\"\n",
    "print(replace_ending(\"The weather is nice in May\", \"may\", \"april\")) \n",
    "# Should display \"The weather is nice in May\"\n",
    "print(replace_ending(\"The weather is nice in May\", \"May\", \"April\")) \n",
    "# Should display \"The weather is nice in April\"\n",
    "```\n",
    "\n",
    "#### Solution\n",
    "```python\n",
    "def replace_ending(sentence, old, new):\n",
    "    # Check if the old string is at the end of the sentence \n",
    "    if sentence.endswith(old):\n",
    "        # Using i as the slicing index, combine the par`\n",
    "        # of the sentence up to the matched string at the \n",
    "        # end with the new string\n",
    "        i = len(old)\n",
    "        new_sentence = sentence[:-i] + new\n",
    "        return new_sentence\n",
    "```"
   ]
  },
  {
   "attachments": {},
   "cell_type": "markdown",
   "metadata": {},
   "source": [
    "Question 1\n",
    "Fill in the blanks to complete the is_palindrome function. This function checks if a given string is a palindrome. A palindrome is a string that contains the same letters in the same order, whether the word is read from left to right or right to left. Examples of palindromes are words like kayak and radar, and phrases like \"Never Odd or Even\". The function should ignore blank spaces and capitalization when checking if the given string is a palindrome. Complete this function to return True if the passed string is a palindrome, False if not.\n",
    "```python\n",
    "def is_palindrome(input_string):\n",
    "    # Two variables are initialized as string date types using empty \n",
    "    # quotes: \"reverse_string\" to hold the \"input_string\" in reverse\n",
    "    # order and \"new_string\" to hold the \"input_string\" minus the \n",
    "    # spaces between words, if any are found.\n",
    "    new_string = \"\"\n",
    "    reverse_string = \"\"\n",
    "\n",
    "    # Complete the for loop to iterate through each letter of the\n",
    "    # \"input_string\"\n",
    "    for ___:\n",
    "\n",
    "        # The if-statement checks if the \"letter\" is not a space.\n",
    "        if letter != \" \":\n",
    "\n",
    "            # If True, add the \"letter\" to the end of \"new_string\" and\n",
    "            # to the front of \"reverse_string\". If False (if a space\n",
    "            # is detected), no action is needed. Exit the if-block.\n",
    "            new_string = ___\n",
    "            reverse_string = ___\n",
    "\n",
    "    # Complete the if-statement to compare the \"new_string\" to the\n",
    "    # \"reverse_string\". Remember that Python is case-sensitive when\n",
    "    # creating the string comparison code. \n",
    "    if ___:\n",
    "\n",
    "        # If True, the \"input_string\" contains a palindrome.\n",
    "        return True\n",
    "\t\t\n",
    "    # Otherwise, return False.\n",
    "    return False\n",
    "\n",
    "\n",
    "print(is_palindrome(\"Never Odd or Even\")) # Should be True\n",
    "print(is_palindrome(\"abc\")) # Should be False\n",
    "print(is_palindrome(\"kayak\")) # Should be True\n",
    "```\n",
    "\n",
    "#### Solution\n",
    "```python\n",
    "def is_palindrome(input_string):\n",
    "    # We'll create two strings, to compare them\n",
    "    new_string = \"\"\n",
    "    reverse_string = \"\"\n",
    "    # Traverse through each letter of the input string\n",
    "    for letter in input_string:\n",
    "        # Add any non-blank letters to the \n",
    "        # end of one string, and to the front\n",
    "        # of the other string. \n",
    "        if letter != \" \":\n",
    "            new_string = new_string + letter\n",
    "            reverse_string = letter + reverse_string\n",
    "    # Compare the strings\n",
    "    if new_string.lower() == reverse_string.lower():\n",
    "        return True\n",
    "    return False\n"
   ]
  },
  {
   "attachments": {},
   "cell_type": "markdown",
   "metadata": {},
   "source": [
    "Using the format method, fill in the gaps in the convert_distance function so that it returns the phrase \"X miles equals Y km\", with Y having only 1 decimal place. For example, convert_distance(12) should return \"12 miles equals 19.2 km\".\n",
    "\n",
    "```python\n",
    "def convert_distance(miles):\n",
    "    km = miles * 1.6 \n",
    "    result = \"{} miles equals {___} km\".___\n",
    "    return result\n",
    "\n",
    "\n",
    "print(convert_distance(12)) # Should be: 12 miles equals 19.2 km\n",
    "print(convert_distance(5.5)) # Should be: 5.5 miles equals 8.8 km\n",
    "print(convert_distance(11)) # Should be: 11 miles equals 17.6 km\n",
    "```\n",
    "\n",
    "#### Solution\n",
    "```python\n",
    "def convert_distance(miles):\n",
    "    km = miles * 1.6 \n",
    "    result = \"{} miles equals {:.1f} km\".format(miles, km)\n",
    "    return result\n",
    "```\n"
   ]
  },
  {
   "cell_type": "markdown",
   "metadata": {},
   "source": []
  }
 ],
 "metadata": {
  "kernelspec": {
   "display_name": "streamlitenv",
   "language": "python",
   "name": "python3"
  },
  "language_info": {
   "codemirror_mode": {
    "name": "ipython",
    "version": 3
   },
   "file_extension": ".py",
   "mimetype": "text/x-python",
   "name": "python",
   "nbconvert_exporter": "python",
   "pygments_lexer": "ipython3",
   "version": "3.8.16"
  },
  "orig_nbformat": 4
 },
 "nbformat": 4,
 "nbformat_minor": 2
}
