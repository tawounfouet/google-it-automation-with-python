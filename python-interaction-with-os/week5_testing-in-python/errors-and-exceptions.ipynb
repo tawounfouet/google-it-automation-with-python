{
 "cells": [
  {
   "cell_type": "code",
   "execution_count": null,
   "metadata": {},
   "outputs": [],
   "source": []
  },
  {
   "cell_type": "code",
   "execution_count": null,
   "metadata": {},
   "outputs": [],
   "source": [
    "def character_frequency(filename):\n",
    "    \"\"\"Counts the frequency of each character in the given file.\"\"\"\n",
    "    # First try to open the file\n",
    "    try:\n",
    "        f = open(filename)\n",
    "    except OSError:\n",
    "        return None\n",
    "\n",
    "    # Now process the file\n",
    "    characters = {}\n",
    "    for line in f:\n",
    "        for char in line:\n",
    "            characters[char] = characters.get(char, 0) + 1\n",
    "    f.close()\n",
    "    return characters"
   ]
  },
  {
   "cell_type": "code",
   "execution_count": null,
   "metadata": {},
   "outputs": [],
   "source": []
  },
  {
   "cell_type": "code",
   "execution_count": null,
   "metadata": {},
   "outputs": [],
   "source": []
  },
  {
   "cell_type": "code",
   "execution_count": 1,
   "metadata": {},
   "outputs": [],
   "source": [
    "def validate_user(username, minlen):\n",
    "    assert type(username) == str, \"username must be a string\"\n",
    "    if minlen < 1:\n",
    "        raise ValueError(\"minlen must be at least 1\")\n",
    "    if len(username) < minlen:\n",
    "        return False\n",
    "    if not username.isalnum():\n",
    "        return False\n",
    "    return True\n",
    "\n"
   ]
  },
  {
   "cell_type": "code",
   "execution_count": 2,
   "metadata": {},
   "outputs": [
    {
     "ename": "ValueError",
     "evalue": "minlen must be at least 1",
     "output_type": "error",
     "traceback": [
      "\u001b[0;31m---------------------------------------------------------------------------\u001b[0m",
      "\u001b[0;31mValueError\u001b[0m                                Traceback (most recent call last)",
      "\u001b[1;32m/Users/awf/Projects/python/google-it-automation-with-python/python-interaction-with-os/week5_testing-in-python/errors-and-exceptions.ipynb Cellule 2\u001b[0m line \u001b[0;36m1\n\u001b[0;32m----> <a href='vscode-notebook-cell:/Users/awf/Projects/python/google-it-automation-with-python/python-interaction-with-os/week5_testing-in-python/errors-and-exceptions.ipynb#W1sZmlsZQ%3D%3D?line=0'>1</a>\u001b[0m validate_user(\u001b[39m\"\u001b[39;49m\u001b[39m\"\u001b[39;49m, \u001b[39m-\u001b[39;49m\u001b[39m1\u001b[39;49m)\n",
      "\u001b[1;32m/Users/awf/Projects/python/google-it-automation-with-python/python-interaction-with-os/week5_testing-in-python/errors-and-exceptions.ipynb Cellule 2\u001b[0m line \u001b[0;36m4\n\u001b[1;32m      <a href='vscode-notebook-cell:/Users/awf/Projects/python/google-it-automation-with-python/python-interaction-with-os/week5_testing-in-python/errors-and-exceptions.ipynb#W1sZmlsZQ%3D%3D?line=1'>2</a>\u001b[0m \u001b[39massert\u001b[39;00m \u001b[39mtype\u001b[39m(username) \u001b[39m==\u001b[39m \u001b[39mstr\u001b[39m, \u001b[39m\"\u001b[39m\u001b[39musername must be a string\u001b[39m\u001b[39m\"\u001b[39m\n\u001b[1;32m      <a href='vscode-notebook-cell:/Users/awf/Projects/python/google-it-automation-with-python/python-interaction-with-os/week5_testing-in-python/errors-and-exceptions.ipynb#W1sZmlsZQ%3D%3D?line=2'>3</a>\u001b[0m \u001b[39mif\u001b[39;00m minlen \u001b[39m<\u001b[39m \u001b[39m1\u001b[39m:\n\u001b[0;32m----> <a href='vscode-notebook-cell:/Users/awf/Projects/python/google-it-automation-with-python/python-interaction-with-os/week5_testing-in-python/errors-and-exceptions.ipynb#W1sZmlsZQ%3D%3D?line=3'>4</a>\u001b[0m     \u001b[39mraise\u001b[39;00m \u001b[39mValueError\u001b[39;00m(\u001b[39m\"\u001b[39m\u001b[39mminlen must be at least 1\u001b[39m\u001b[39m\"\u001b[39m)\n\u001b[1;32m      <a href='vscode-notebook-cell:/Users/awf/Projects/python/google-it-automation-with-python/python-interaction-with-os/week5_testing-in-python/errors-and-exceptions.ipynb#W1sZmlsZQ%3D%3D?line=4'>5</a>\u001b[0m \u001b[39mif\u001b[39;00m \u001b[39mlen\u001b[39m(username) \u001b[39m<\u001b[39m minlen:\n\u001b[1;32m      <a href='vscode-notebook-cell:/Users/awf/Projects/python/google-it-automation-with-python/python-interaction-with-os/week5_testing-in-python/errors-and-exceptions.ipynb#W1sZmlsZQ%3D%3D?line=5'>6</a>\u001b[0m     \u001b[39mreturn\u001b[39;00m \u001b[39mFalse\u001b[39;00m\n",
      "\u001b[0;31mValueError\u001b[0m: minlen must be at least 1"
     ]
    }
   ],
   "source": [
    "validate_user(\"\", -1)"
   ]
  },
  {
   "cell_type": "code",
   "execution_count": 3,
   "metadata": {},
   "outputs": [
    {
     "ename": "AssertionError",
     "evalue": "username must be a string",
     "output_type": "error",
     "traceback": [
      "\u001b[0;31m---------------------------------------------------------------------------\u001b[0m",
      "\u001b[0;31mAssertionError\u001b[0m                            Traceback (most recent call last)",
      "\u001b[1;32m/Users/awf/Projects/python/google-it-automation-with-python/python-interaction-with-os/week5_testing-in-python/errors-and-exceptions.ipynb Cellule 3\u001b[0m line \u001b[0;36m1\n\u001b[0;32m----> <a href='vscode-notebook-cell:/Users/awf/Projects/python/google-it-automation-with-python/python-interaction-with-os/week5_testing-in-python/errors-and-exceptions.ipynb#W2sZmlsZQ%3D%3D?line=0'>1</a>\u001b[0m validate_user(\u001b[39m88\u001b[39;49m, \u001b[39m1\u001b[39;49m)\n",
      "\u001b[1;32m/Users/awf/Projects/python/google-it-automation-with-python/python-interaction-with-os/week5_testing-in-python/errors-and-exceptions.ipynb Cellule 3\u001b[0m line \u001b[0;36m2\n\u001b[1;32m      <a href='vscode-notebook-cell:/Users/awf/Projects/python/google-it-automation-with-python/python-interaction-with-os/week5_testing-in-python/errors-and-exceptions.ipynb#W2sZmlsZQ%3D%3D?line=0'>1</a>\u001b[0m \u001b[39mdef\u001b[39;00m \u001b[39mvalidate_user\u001b[39m(username, minlen):\n\u001b[0;32m----> <a href='vscode-notebook-cell:/Users/awf/Projects/python/google-it-automation-with-python/python-interaction-with-os/week5_testing-in-python/errors-and-exceptions.ipynb#W2sZmlsZQ%3D%3D?line=1'>2</a>\u001b[0m     \u001b[39massert\u001b[39;00m \u001b[39mtype\u001b[39m(username) \u001b[39m==\u001b[39m \u001b[39mstr\u001b[39m, \u001b[39m\"\u001b[39m\u001b[39musername must be a string\u001b[39m\u001b[39m\"\u001b[39m\n\u001b[1;32m      <a href='vscode-notebook-cell:/Users/awf/Projects/python/google-it-automation-with-python/python-interaction-with-os/week5_testing-in-python/errors-and-exceptions.ipynb#W2sZmlsZQ%3D%3D?line=2'>3</a>\u001b[0m     \u001b[39mif\u001b[39;00m minlen \u001b[39m<\u001b[39m \u001b[39m1\u001b[39m:\n\u001b[1;32m      <a href='vscode-notebook-cell:/Users/awf/Projects/python/google-it-automation-with-python/python-interaction-with-os/week5_testing-in-python/errors-and-exceptions.ipynb#W2sZmlsZQ%3D%3D?line=3'>4</a>\u001b[0m         \u001b[39mraise\u001b[39;00m \u001b[39mValueError\u001b[39;00m(\u001b[39m\"\u001b[39m\u001b[39mminlen must be at least 1\u001b[39m\u001b[39m\"\u001b[39m)\n",
      "\u001b[0;31mAssertionError\u001b[0m: username must be a string"
     ]
    }
   ],
   "source": [
    "validate_user(88, 1)"
   ]
  },
  {
   "cell_type": "code",
   "execution_count": 4,
   "metadata": {},
   "outputs": [
    {
     "ename": "AssertionError",
     "evalue": "username must be a string",
     "output_type": "error",
     "traceback": [
      "\u001b[0;31m---------------------------------------------------------------------------\u001b[0m",
      "\u001b[0;31mAssertionError\u001b[0m                            Traceback (most recent call last)",
      "\u001b[1;32m/Users/awf/Projects/python/google-it-automation-with-python/python-interaction-with-os/week5_testing-in-python/errors-and-exceptions.ipynb Cellule 4\u001b[0m line \u001b[0;36m1\n\u001b[0;32m----> <a href='vscode-notebook-cell:/Users/awf/Projects/python/google-it-automation-with-python/python-interaction-with-os/week5_testing-in-python/errors-and-exceptions.ipynb#W3sZmlsZQ%3D%3D?line=0'>1</a>\u001b[0m validate_user([], \u001b[39m1\u001b[39;49m)\n",
      "\u001b[1;32m/Users/awf/Projects/python/google-it-automation-with-python/python-interaction-with-os/week5_testing-in-python/errors-and-exceptions.ipynb Cellule 4\u001b[0m line \u001b[0;36m2\n\u001b[1;32m      <a href='vscode-notebook-cell:/Users/awf/Projects/python/google-it-automation-with-python/python-interaction-with-os/week5_testing-in-python/errors-and-exceptions.ipynb#W3sZmlsZQ%3D%3D?line=0'>1</a>\u001b[0m \u001b[39mdef\u001b[39;00m \u001b[39mvalidate_user\u001b[39m(username, minlen):\n\u001b[0;32m----> <a href='vscode-notebook-cell:/Users/awf/Projects/python/google-it-automation-with-python/python-interaction-with-os/week5_testing-in-python/errors-and-exceptions.ipynb#W3sZmlsZQ%3D%3D?line=1'>2</a>\u001b[0m     \u001b[39massert\u001b[39;00m \u001b[39mtype\u001b[39m(username) \u001b[39m==\u001b[39m \u001b[39mstr\u001b[39m, \u001b[39m\"\u001b[39m\u001b[39musername must be a string\u001b[39m\u001b[39m\"\u001b[39m\n\u001b[1;32m      <a href='vscode-notebook-cell:/Users/awf/Projects/python/google-it-automation-with-python/python-interaction-with-os/week5_testing-in-python/errors-and-exceptions.ipynb#W3sZmlsZQ%3D%3D?line=2'>3</a>\u001b[0m     \u001b[39mif\u001b[39;00m minlen \u001b[39m<\u001b[39m \u001b[39m1\u001b[39m:\n\u001b[1;32m      <a href='vscode-notebook-cell:/Users/awf/Projects/python/google-it-automation-with-python/python-interaction-with-os/week5_testing-in-python/errors-and-exceptions.ipynb#W3sZmlsZQ%3D%3D?line=3'>4</a>\u001b[0m         \u001b[39mraise\u001b[39;00m \u001b[39mValueError\u001b[39;00m(\u001b[39m\"\u001b[39m\u001b[39mminlen must be at least 1\u001b[39m\u001b[39m\"\u001b[39m)\n",
      "\u001b[0;31mAssertionError\u001b[0m: username must be a string"
     ]
    }
   ],
   "source": [
    "validate_user([], 1)"
   ]
  },
  {
   "cell_type": "code",
   "execution_count": 5,
   "metadata": {},
   "outputs": [
    {
     "data": {
      "text/plain": [
       "False"
      ]
     },
     "execution_count": 5,
     "metadata": {},
     "output_type": "execute_result"
    }
   ],
   "source": [
    "validate_user(\"blue.kale\", 3)"
   ]
  },
  {
   "cell_type": "code",
   "execution_count": 6,
   "metadata": {},
   "outputs": [
    {
     "data": {
      "text/plain": [
       "True"
      ]
     },
     "execution_count": 6,
     "metadata": {},
     "output_type": "execute_result"
    }
   ],
   "source": [
    "validate_user(\"blue\", 3)"
   ]
  },
  {
   "cell_type": "code",
   "execution_count": 8,
   "metadata": {},
   "outputs": [
    {
     "data": {
      "text/plain": [
       "True"
      ]
     },
     "execution_count": 8,
     "metadata": {},
     "output_type": "execute_result"
    }
   ],
   "source": [
    "validate_user(\"myser\", 1)"
   ]
  },
  {
   "cell_type": "code",
   "execution_count": null,
   "metadata": {},
   "outputs": [],
   "source": [
    "# testing our function with pytest\n",
    "\n",
    "# Path: test_validate_user.py\n",
    "\n",
    "import pytest\n",
    "\n",
    "# from validate_user import validate_user\n",
    "\n",
    "class TestValidateUser(unittest.TestCase):\n",
    "    def test_valid(self):\n",
    "        self.assertEqual(validate_user(\"validuser\", 3), True)\n",
    "    \n",
    "    def test_too_short(self):\n",
    "        self.assertEqual(validate_user(\"inv\", 5), False)\n",
    "    \n",
    "    def test_invalid_characters(self):\n",
    "        self.assertEqual(validate_user(\"invalid_user\", 1), False)\n",
    "    \n",
    "    def test_invalid_minlen(self):\n",
    "        self.assertRaises(ValueError, validate_user, \"user\", -1)"
   ]
  }
 ],
 "metadata": {
  "kernelspec": {
   "display_name": "base",
   "language": "python",
   "name": "python3"
  },
  "language_info": {
   "codemirror_mode": {
    "name": "ipython",
    "version": 3
   },
   "file_extension": ".py",
   "mimetype": "text/x-python",
   "name": "python",
   "nbconvert_exporter": "python",
   "pygments_lexer": "ipython3",
   "version": "3.10.9"
  },
  "orig_nbformat": 4
 },
 "nbformat": 4,
 "nbformat_minor": 2
}
