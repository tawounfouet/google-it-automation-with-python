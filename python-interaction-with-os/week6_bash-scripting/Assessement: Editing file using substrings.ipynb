{
 "cells": [
  {
   "attachments": {},
   "cell_type": "markdown",
   "metadata": {},
   "source": [
    "## Editing Files using Substrings\n",
    "\n",
    "### Introduction\n",
    "\n",
    "In this lab, you'll change the username of your coworker Jane Doe from \"jane\" to \"jdoe\" in compliance with company's naming policy. The username change has already been done. However, some files that were named with Jane's previous username \"jane\" haven't been updated yet. To help with this, you'll write a bash script and a Python script that will take care of the necessary rename operations.\n",
    "\n",
    "### What you'll do\n",
    "Practice using the cat, grep, and cut commands for file operations\n",
    "Use > and >> commands to redirect I/O stream\n",
    "Replace a substring using Python\n",
    "Run bash commands in Python\n",
    "\n",
    "### Accessing the virtual machine\n",
    "Please find one of the three relevant options below based on your device's operating system.\n",
    "\n",
    "Note: Working with Qwiklabs may be similar to the work you'd perform as an IT Support Specialist; you'll be interfacing with a cutting-edge technology that requires multiple steps to access, and perhaps healthy doses of patience and persistence(!). You'll also be using SSH to enter the labs -- a critical skill in IT Support that you’ll be able to practice through the labs."
   ]
  },
  {
   "cell_type": "markdown",
   "metadata": {},
   "source": []
  }
 ],
 "metadata": {
  "language_info": {
   "name": "python"
  },
  "orig_nbformat": 4
 },
 "nbformat": 4,
 "nbformat_minor": 2
}
