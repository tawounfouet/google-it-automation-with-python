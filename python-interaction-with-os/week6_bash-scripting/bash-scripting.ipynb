{
 "cells": [
  {
   "cell_type": "code",
   "execution_count": null,
   "metadata": {},
   "outputs": [],
   "source": []
  },
  {
   "cell_type": "markdown",
   "metadata": {},
   "source": [
    "#  Bash Scripting\n",
    "In this module, you’ll be exposed to what the Linux OS has to offer and you'll learn about Bash scripting. We’ll go over basic Linux commands and explore the many processes Linux has to offer, including a key concept called redirection. We’ll then deep dive into creating bash scripts using variables and globs. Finally, we’ll learn about advanced bash concepts and develop an understanding of when to use bash versus Python.\n",
    "\n",
    "## Learning Objectives\n",
    "- Use basic Linux commands to work with files and directories\n",
    "- Create bash scripts and execute them\n",
    "- Execute scripts using variables and globs to influence the output of these scripts\n",
    "- Utilize while and for loops in bash scripts\n",
    "- Describe when it’s necessary to use Bash scripts over Python scripts"
   ]
  },
  {
   "cell_type": "markdown",
   "metadata": {},
   "source": [
    "#### Basic Linux Commands\n",
    "\n",
    "- `ls` - list directory contents\n",
    "- `cd` - change directory\n",
    "- `pwd` - print name of current/working directory\n",
    "- `mkdir` - make directories\n",
    "- `touch` - change file timestamps\n",
    "  \n",
    "- `cp` - copy files and directories\n",
    "- `mv` - move (rename) files\n",
    "- `rm` - remove files or directories\n",
    "\n",
    "\n",
    "- `cat` - concatenate files and print on the standard output\n",
    "-`less` - opposite of more\n",
    "- `head` - output the first part of files\n",
    "- `tail` - output the last part of files\n",
    "- `grep` - print lines matching a pattern\n",
    "\n",
    "- `echo` - display a line of text | print messages to the screen\n",
    "- `cat` - concatenate files and print on the standard output | show the contents of a file\n",
    "  \n",
    "\n",
    "- `man` - an interface to the on-line reference manuals\n",
    "\n",
    "- `chmod` - change file mode bits\n",
    "- `chown` - change file owner and group\n",
    "- `sudo` - execute a command as another user\n",
    "- `su` - change user ID or become superuser\n",
    "- `apt-get` - command-line tool for handling packages\n",
    "- `apt-cache` - query the APT cache\n",
    "- `apt` - command-line interface for APT\n",
    "- `dpkg` - package manager for Debian\n",
    "- `wget` - The non-interactive network downloader\n",
    "- `curl` - transfer a URL\n",
    "- `tar` - an archiving utility\n",
    "- `zip` - package and compress (archive) files\n",
    "- `unzip` - list, test and extract compressed files in a ZIP archive\n",
    "\n",
    "#### Redirection\n",
    "\n",
    "- `>` - redirect output\n",
    "- `>>` - append output\n",
    "- `<` - redirect input\n",
    "- `|` - pipe\n",
    "- `2>` - redirect error\n",
    "- `&>` - redirect output and error\n",
    "- `&` - run in background\n",
    "- `&&` - run if previous command succeeded\n",
    "- `||` - run if previous command failed\n",
    "- `;` - run regardless of previous command\n",
    "- `()` - run in subshell\n",
    "- `;` - run regardless of previous command\n",
    "- `()` - run in subshell\n"
   ]
  },
  {
   "cell_type": "markdown",
   "metadata": {},
   "source": []
  }
 ],
 "metadata": {
  "language_info": {
   "name": "python"
  },
  "orig_nbformat": 4
 },
 "nbformat": 4,
 "nbformat_minor": 2
}
