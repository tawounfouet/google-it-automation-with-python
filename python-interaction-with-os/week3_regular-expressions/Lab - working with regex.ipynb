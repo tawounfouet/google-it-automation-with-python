{
 "cells": [
  {
   "cell_type": "code",
   "execution_count": null,
   "metadata": {},
   "outputs": [],
   "source": [
    "\n",
    "\n"
   ]
  },
  {
   "cell_type": "markdown",
   "metadata": {},
   "source": [
    "```bash\n",
    "\n",
    "chmod 600 ~/Downloads/qwikLABS-XXXXX.pem\n",
    "\n",
    "\n",
    "ip : 34.136.139.74\n",
    "\n",
    "username : student-03-1aaf46716c9e\n",
    "\n",
    "chmod 600 qwiklabs-L83033648.pem\n",
    "\n",
    "ssh -i qwiklabs-L83033648.pem student-03-1aaf46716c9e@\n",
    "\n",
    "ssh -i ~/Downloads/qwikLABS-XXXXX.pem username@External Ip Address\n",
    "\n",
    "# ssh -i qwiklabs-L83033648.pem student-03-1aaf46716c9e@34.136.139.74\n",
    "\n",
    "cd data\n",
    "\n",
    "sudo chmod 777 script.py\n",
    "```"
   ]
  },
  {
   "cell_type": "markdown",
   "metadata": {},
   "source": [
    "## Identify the old domain\n",
    "In this section, we will write the body of the function named contains_domain. This function uses regex to identify the domain of the user email addresses in the user_emails.csv file.\n",
    "\n",
    "The function takes address and domain as parameters, and its primary objective is to check whether an email address belongs to the old domain(abc.edu).\n",
    "\n",
    "To do this, we will use a regular expression stored in the variable named domain_pattern. This variable will now match email addresses of a particular domain. If the old domain is found, then the function returns true."
   ]
  },
  {
   "cell_type": "code",
   "execution_count": 1,
   "metadata": {},
   "outputs": [],
   "source": [
    "import csv\n",
    "import re\n",
    "\n",
    "\n",
    "def contains_domain(address, domain):\n",
    "  \"\"\"Returns True if the email address contains the given domain,\n",
    "    in the domain position, false if not.\"\"\"\n",
    "  domain_pattern = r'[\\w\\.-]+@'+domain+'$'\n",
    "  if re.match(domain_pattern, address):\n",
    "    return True\n",
    "  return False"
   ]
  },
  {
   "cell_type": "markdown",
   "metadata": {},
   "source": [
    "## Replace the domain name\n",
    "In this section, we will replace the old domain name with the new one. The second function defined in the script.py file is replace_domain.\n",
    "\n",
    "The replace_domain function takes in one email address at a time, as well as the email's old domain name and its new domain name. This function's primary objective is to replace the email addresses containing the old domain name with new domain name.\n",
    "\n",
    "In order to replace the domain name, we will use the regular expression module and make a pattern that identifies sub-strings containing the old domain name within email addresses. We will then store this pattern in a variable called old_domain_pattern. Next, we will use substitution function sub() from re module to replace the old domain name with the new one and return the updated email address.\n",
    "\n"
   ]
  },
  {
   "cell_type": "code",
   "execution_count": 2,
   "metadata": {},
   "outputs": [],
   "source": [
    "def replace_domain(address, old_domain, new_domain):\n",
    "  \"\"\"Replaces the old domain with the new domain in\n",
    "    the received address.\"\"\"\n",
    "  old_domain_pattern = r'' + old_domain + '$'\n",
    "  address = re.sub(old_domain_pattern, new_domain, address)\n",
    "  \n",
    "  return address\n"
   ]
  },
  {
   "cell_type": "markdown",
   "metadata": {},
   "source": [
    "### Write a CSV file with replaced domain from main\n",
    "In this section, we're going to call the above defined functions: contains_domain() and replace_domain from the main(). This will allow us to find the old domain email address, replace it with the newer one, and write the updated list to a CSV file in the data directory.\n",
    "\n",
    "In the previous sections, you might have seen variables named old_domain and new_domain, which are passed as parameters to the functions. Let's declare them here within main()."
   ]
  },
  {
   "cell_type": "code",
   "execution_count": 4,
   "metadata": {},
   "outputs": [],
   "source": [
    "def main():\n",
    "  \"\"\"Processes the list of emails, replacing any instances of the\n",
    "    old domain with the new domain.\"\"\"\n",
    "  old_domain, new_domain = 'abc.edu', 'xyz.edu'\n",
    "  csv_file_location = '/home/student-03-1aaf46716c9e/data/user_emails.csv'\n",
    "  report_file = '/home/student-03-1aaf46716c9e/data' + '/updated_user_emails.csv'\n",
    "  user_email_list = []\n",
    "  old_domain_email_list = []\n",
    "  new_domain_email_list = []\n",
    "  \n",
    "  with open(csv_file_location, 'r') as f:\n",
    "    user_data_list = list(csv.reader(f))\n",
    "    user_email_list = [data[1].strip() for data in user_data_list[1:]]\n",
    "    \n",
    "    for email_address in user_email_list:\n",
    "        if contains_domain(email_address, old_domain):\n",
    "            old_domain_email_list.append(email_address)\n",
    "            replaced_email = replace_domain(email_address, old_domain, new_domain)\n",
    "            new_domain_email_list.append(replaced_email)\n",
    "    \n",
    "        email_key = ' ' + 'Email Address'\n",
    "        email_index = user_data_list[0].index(email_key)\n",
    "    \n",
    "        for user in user_data_list[1:]:\n",
    "            for old_domain, new_domain in zip(old_domain_email_list, new_domain_email_list):\n",
    "                if user[email_index] == ' ' + old_domain:\n",
    "                    user[email_index] = ' ' + new_domain\n",
    "    f.close()\n",
    "    \n",
    "    with open(report_file, 'w+') as output_file:\n",
    "        writer = csv.writer(output_file)\n",
    "        writer.writerows(user_data_list)\n",
    "        output_file.close()\n",
    "  \n",
    "#main()"
   ]
  },
  {
   "cell_type": "code",
   "execution_count": null,
   "metadata": {},
   "outputs": [],
   "source": []
  }
 ],
 "metadata": {
  "kernelspec": {
   "display_name": "base",
   "language": "python",
   "name": "python3"
  },
  "language_info": {
   "codemirror_mode": {
    "name": "ipython",
    "version": 3
   },
   "file_extension": ".py",
   "mimetype": "text/x-python",
   "name": "python",
   "nbconvert_exporter": "python",
   "pygments_lexer": "ipython3",
   "version": "3.10.9"
  },
  "orig_nbformat": 4
 },
 "nbformat": 4,
 "nbformat_minor": 2
}
