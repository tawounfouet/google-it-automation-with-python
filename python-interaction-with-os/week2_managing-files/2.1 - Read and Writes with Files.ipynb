{
 "cells": [
  {
   "attachments": {},
   "cell_type": "markdown",
   "metadata": {},
   "source": [
    "## Read and Writes with Files\n",
    "\n",
    "### Reading files - Methods readline() and read()\n",
    "\n",
    "Both methods read from the current position. \n",
    "\n",
    "- The `readline()`method reads one line, \n",
    "- while `read()` reads until the end of the file."
   ]
  },
  {
   "cell_type": "code",
   "execution_count": 1,
   "metadata": {},
   "outputs": [],
   "source": [
    "!touch spider.txt"
   ]
  },
  {
   "cell_type": "code",
   "execution_count": null,
   "metadata": {},
   "outputs": [],
   "source": [
    "# Open file from wcd\n",
    "\n",
    "file = open(\"spider.txt\")"
   ]
  },
  {
   "cell_type": "code",
   "execution_count": 7,
   "metadata": {},
   "outputs": [
    {
     "name": "stdout",
     "output_type": "stream",
     "text": [
      "hello I am a spider\n",
      "\n"
     ]
    }
   ],
   "source": [
    "file = open(\"spider.txt\", \"r\")\n",
    "\n",
    "print(file.readline())"
   ]
  },
  {
   "cell_type": "code",
   "execution_count": 8,
   "metadata": {},
   "outputs": [
    {
     "name": "stdout",
     "output_type": "stream",
     "text": [
      "new line 2\n",
      "\n"
     ]
    }
   ],
   "source": [
    "print(file.readline())"
   ]
  },
  {
   "cell_type": "code",
   "execution_count": 9,
   "metadata": {},
   "outputs": [
    {
     "name": "stdout",
     "output_type": "stream",
     "text": [
      "line 3\n",
      "line 4\n",
      "line 5\n",
      " \n"
     ]
    }
   ],
   "source": [
    "print(file.read())"
   ]
  },
  {
   "cell_type": "code",
   "execution_count": 10,
   "metadata": {},
   "outputs": [
    {
     "name": "stdout",
     "output_type": "stream",
     "text": [
      "hello I am a spider\n",
      "new line 2\n",
      "line 3\n",
      "line 4\n",
      "line 5\n",
      " \n"
     ]
    }
   ],
   "source": [
    "file = open(\"spider.txt\", \"r\")\n",
    "\n",
    "print(file.read())"
   ]
  },
  {
   "cell_type": "code",
   "execution_count": 11,
   "metadata": {},
   "outputs": [
    {
     "name": "stdout",
     "output_type": "stream",
     "text": [
      "hello I am a spider\n",
      "new line 2\n",
      "line 3\n",
      "line 4\n",
      "line 5\n",
      " \n"
     ]
    }
   ],
   "source": [
    "file = open(\"spider.txt\", \"r\")\n",
    "\n",
    "print(file.read())\n",
    "\n",
    "file.close()"
   ]
  },
  {
   "cell_type": "code",
   "execution_count": 12,
   "metadata": {},
   "outputs": [
    {
     "name": "stdout",
     "output_type": "stream",
     "text": [
      "hello I am a spider\n",
      "\n"
     ]
    }
   ],
   "source": [
    "with open(\"spider.txt\", \"r\") as file:\n",
    "    print(file.readline())"
   ]
  },
  {
   "attachments": {},
   "cell_type": "markdown",
   "metadata": {},
   "source": [
    "### Itirating through Files"
   ]
  },
  {
   "cell_type": "code",
   "execution_count": 13,
   "metadata": {},
   "outputs": [
    {
     "name": "stdout",
     "output_type": "stream",
     "text": [
      "HELLO I AM A SPIDER\n",
      "\n",
      "NEW LINE 2\n",
      "\n",
      "LINE 3\n",
      "\n",
      "LINE 4\n",
      "\n",
      "LINE 5\n",
      "\n",
      " \n"
     ]
    }
   ],
   "source": [
    "with open(\"spider.txt\", \"r\") as file:\n",
    "    for line in file:\n",
    "        print(line.upper())"
   ]
  },
  {
   "cell_type": "code",
   "execution_count": 14,
   "metadata": {},
   "outputs": [
    {
     "name": "stdout",
     "output_type": "stream",
     "text": [
      "HELLO I AM A SPIDER\n",
      "NEW LINE 2\n",
      "LINE 3\n",
      "LINE 4\n",
      "LINE 5\n",
      "\n"
     ]
    }
   ],
   "source": [
    "with open(\"spider.txt\", \"r\") as file:\n",
    "    for line in file:\n",
    "        print(line.strip().upper())"
   ]
  },
  {
   "cell_type": "code",
   "execution_count": 17,
   "metadata": {},
   "outputs": [
    {
     "name": "stdout",
     "output_type": "stream",
     "text": [
      "[' ', 'hello I am a spider\\n', 'line 3\\n', 'line 4\\n', 'line 5\\n', 'new line 2\\n']\n"
     ]
    }
   ],
   "source": [
    "file = open(\"spider.txt\", \"r\") # read only mode\n",
    "lines = file.readlines()\n",
    "file.close()\n",
    "\n",
    "lines.sort()\n",
    "print(lines)"
   ]
  },
  {
   "attachments": {},
   "cell_type": "markdown",
   "metadata": {},
   "source": [
    "### Writing in files"
   ]
  },
  {
   "cell_type": "code",
   "execution_count": 18,
   "metadata": {},
   "outputs": [],
   "source": [
    "#  When using write mode, the old contents get deleted as soon as the file is opened.\n",
    "\n",
    "with open(\"novel.txt\", \"w\") as file: # w = write only mode\n",
    "    file.write(\"It was a dark and stormy night\")"
   ]
  },
  {
   "attachments": {},
   "cell_type": "markdown",
   "metadata": {},
   "source": [
    "## Reading and Writing Files Cheat-Sheet\n",
    "Check out the following link for more information:\n",
    "\n",
    "https://docs.python.org/3/library/functions.html#open\n",
    "\n",
    "Terminé\n",
    "\n",
    "\n",
    "### Character Meaning\n",
    "\n",
    "- 'r' : open for reading (default)\n",
    "- 'w' : open for writing, truncating the file first\n",
    "- 'x' : open for exclusive creation, failing if the file already exists\n",
    "- 'a' : open for writing, appending to the end of file if it exists\n",
    "- 'b' : binary mode\n",
    "- 't' : text mode (default)\n",
    "- '+' : open for updating (reading and writing)\n",
    "\n"
   ]
  },
  {
   "cell_type": "code",
   "execution_count": null,
   "metadata": {},
   "outputs": [],
   "source": []
  }
 ],
 "metadata": {
  "kernelspec": {
   "display_name": "base",
   "language": "python",
   "name": "python3"
  },
  "language_info": {
   "codemirror_mode": {
    "name": "ipython",
    "version": 3
   },
   "file_extension": ".py",
   "mimetype": "text/x-python",
   "name": "python",
   "nbconvert_exporter": "python",
   "pygments_lexer": "ipython3",
   "version": "3.10.9"
  },
  "orig_nbformat": 4
 },
 "nbformat": 4,
 "nbformat_minor": 2
}
