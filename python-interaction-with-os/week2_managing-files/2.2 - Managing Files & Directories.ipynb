{
 "cells": [
  {
   "cell_type": "code",
   "execution_count": null,
   "metadata": {},
   "outputs": [],
   "source": []
  },
  {
   "attachments": {},
   "cell_type": "markdown",
   "metadata": {},
   "source": [
    "1. The create_python_script function creates a new python script in the current working directory, adds the line of comments to it declared  by the 'comments' variable, and returns the size of the new file. Fill in the gaps to create a script called \"program.py\".\n",
    "```python\n",
    "import os\n",
    "\n",
    "def create_python_script(filename):\n",
    "  comments = \"# Start of a new Python program\"\n",
    "  with ___:\n",
    "    filesize = ___\n",
    "  return(filesize)\n",
    "\n",
    "print(create_python_script(\"program.py\"))\n",
    "```\n",
    "\n",
    "### Solution:\n",
    "```python\n",
    "import os\n",
    "\n",
    "def create_python_script(filename):\n",
    "  comments = \"# Start of a new Python program\"\n",
    "  with open(filename, \"w\") as file:\n",
    "    filesize = file.write(comments)\n",
    "  return(filesize)\n",
    "\n",
    "print(create_python_script(\"program.py\"))\n",
    "\n",
    "\n",
    "### Old solution:\n",
    "```python\n",
    "import os\n",
    "\n",
    "def create_python_script(filename):\n",
    "    comments = \"# Start of a new Python program\"\n",
    "    with open(filename, \"w\") as file:\n",
    "        file.write(comments)  # Fix the typo and include 'comments' variable\n",
    "        filesize = os.path.getsize(filename)\n",
    "    return filesize\n",
    "\n",
    "print(create_python_script(\"program.py\"))\n",
    "```\n",
    "\n"
   ]
  },
  {
   "attachments": {},
   "cell_type": "markdown",
   "metadata": {},
   "source": [
    "2. The new_directory function creates a new directory inside the current working directory, then creates a new empty file inside the new directory, and returns the list of files in that directory. Fill in the gaps to create a file \"script.py\" in the directory \"PythonPrograms\". \n",
    "```python\n",
    "import os\n",
    "\n",
    "def new_directory(directory, filename):\n",
    "  # Before creating a new directory, check to see if it already exists\n",
    "  if os.path.isdir(directory) == False:\n",
    "    ___\n",
    "\n",
    "  # Create the new file inside of the new directory\n",
    "  os.chdir(___)\n",
    "  with open (___) as file:\n",
    "    pass\n",
    "\n",
    "  # Return the list of files in the new directory\n",
    "  return ___\n",
    "\n",
    "print(new_directory(\"PythonPrograms\", \"script.py\"))\n",
    "```\n",
    "`\n",
    "Solution:\n",
    "```python\n",
    "import os\n",
    "\n",
    "def new_directory(directory, filename):\n",
    "  # Before creating a new directory, check to see if it already exists\n",
    "  if os.path.isdir(directory) == False:\n",
    "    os.mkdir(directory)\n",
    "\n",
    "  # Create the new file inside of the new directory\n",
    "  os.chdir(directory)\n",
    "  with open (filename, \"w\") as file:\n",
    "    pass\n",
    "\n",
    "  # Return the list of files in the new directory\n",
    "  return os.listdir()\n",
    "\n",
    "print(new_directory(\"PythonPrograms\", \"script.py\"))\n"
   ]
  },
  {
   "attachments": {},
   "cell_type": "markdown",
   "metadata": {},
   "source": [
    "4. The file_date function creates a new file in the current working directory, checks the date that the file was modified, and returns just the date portion of the timestamp in the format of yyyy-mm-dd. Fill in the gaps to create a file called \"newfile.txt\" and check the date that it was modified.\n",
    "```python\n",
    "import os\n",
    "import datetime\n",
    "\n",
    "def file_date(filename):\n",
    "  # Create the file in the current directory\n",
    "  ___\n",
    "  timestamp = ___\n",
    "  # Convert the timestamp into a readable format, then into a strin`\n",
    "  ___\n",
    "  # Return just the date portion \n",
    "  # Hint: how many characters are in “yyyy-mm-dd”? \n",
    "  return (\"{___}\".format(___))\n",
    "\n",
    "print(file_date(\"newfile.txt\")) \n",
    "# Should be today's date in the format of yyyy-mm-dd\n",
    "```\n",
    "\n",
    "Solution:\n",
    "```python\n",
    "import os\n",
    "import datetime\n",
    "\n",
    "def file_date(filename):\n",
    "  # Create the file in the current directory\n",
    "  with open(filename, \"w\") as file:\n",
    "    pass\n",
    "  timestamp = os.path.getmtime(filename)\n",
    "  # Convert the timestamp into a readable format, then into a string\n",
    "  date = datetime.datetime.fromtimestamp(timestamp)\n",
    "  # Return just the date portion \n",
    "  # Hint: how many characters are in “yyyy-mm-dd”? \n",
    "  return (\"{:%Y-%m-%d}\".format(date))\n"
   ]
  },
  {
   "cell_type": "markdown",
   "metadata": {},
   "source": []
  },
  {
   "attachments": {},
   "cell_type": "markdown",
   "metadata": {},
   "source": [
    "5. The parent_directory function returns the name of the directory that's located just above the current working directory. Remember that '..' is a relative path alias that means \"go up to the parent directory\". Fill in the gaps to complete this function.\n",
    "```python\n",
    "import os\n",
    "def parent_directory():\n",
    "  # Create a relative path to the parent \n",
    "  # of the current working directory \n",
    "  relative_parent = os.path.join(___, ___)\n",
    "\n",
    "  # Return the absolute path of the parent directory\n",
    "  return ___\n",
    "\n",
    "print(parent_directory())\n",
    "```\n",
    "\n",
    "```python\n",
    "import os\n",
    "\n",
    "def parent_directory():\n",
    "    # Create a relative path to the parent\n",
    "    # of the current working directory\n",
    "    relative_parent = os.path.join(os.getcwd(), '..')\n",
    "\n",
    "    # Return the absolute path of the parent directory\n",
    "    return os.path.abspath(relative_parent)\n",
    "\n",
    "print(parent_directory())\n",
    "```"
   ]
  },
  {
   "cell_type": "code",
   "execution_count": 6,
   "metadata": {},
   "outputs": [
    {
     "name": "stdout",
     "output_type": "stream",
     "text": [
      "/Users/awf/Projects/python/google-it-automation-with-python/python-interaction-with-os/data/employees.csv\n"
     ]
    }
   ],
   "source": [
    "import os\n",
    "\n",
    "def parent_directory():\n",
    "    # Create a relative path to the parent\n",
    "    # of the current working directory\n",
    "    relative_parent = os.path.join(os.getcwd(), '..')\n",
    "\n",
    "    # Return the absolute path of the parent directory\n",
    "    return os.path.abspath(relative_parent)\n",
    "\n",
    "dir = parent_directory()+\"/data/employees.csv\"\n",
    "# print(parent_directory())\n",
    "print(dir)"
   ]
  },
  {
   "cell_type": "code",
   "execution_count": 3,
   "metadata": {},
   "outputs": [
    {
     "ename": "NameError",
     "evalue": "name 'relative_parent' is not defined",
     "output_type": "error",
     "traceback": [
      "\u001b[0;31m---------------------------------------------------------------------------\u001b[0m",
      "\u001b[0;31mNameError\u001b[0m                                 Traceback (most recent call last)",
      "Cell \u001b[0;32mIn[3], line 1\u001b[0m\n\u001b[0;32m----> 1\u001b[0m os\u001b[39m.\u001b[39mpath\u001b[39m.\u001b[39mabspath(relative_parent)\n",
      "\u001b[0;31mNameError\u001b[0m: name 'relative_parent' is not defined"
     ]
    }
   ],
   "source": [
    "os.path.abspath(relative_parent)"
   ]
  },
  {
   "cell_type": "code",
   "execution_count": null,
   "metadata": {},
   "outputs": [],
   "source": []
  }
 ],
 "metadata": {
  "kernelspec": {
   "display_name": "base",
   "language": "python",
   "name": "python3"
  },
  "language_info": {
   "codemirror_mode": {
    "name": "ipython",
    "version": 3
   },
   "file_extension": ".py",
   "mimetype": "text/x-python",
   "name": "python",
   "nbconvert_exporter": "python",
   "pygments_lexer": "ipython3",
   "version": "3.10.9"
  },
  "orig_nbformat": 4
 },
 "nbformat": 4,
 "nbformat_minor": 2
}
