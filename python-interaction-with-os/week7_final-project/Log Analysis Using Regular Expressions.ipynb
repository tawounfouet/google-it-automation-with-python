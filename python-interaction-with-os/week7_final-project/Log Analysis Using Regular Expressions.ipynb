{
 "cells": [
  {
   "cell_type": "markdown",
   "metadata": {},
   "source": [
    "## Introduction\n",
    "\n",
    "Imagine your company uses a server that runs a service called ticky, an internal ticketing system. The service logs events to syslog, both when it runs successfully and when it encounters errors.\n",
    "\n",
    "The service's developers need your help getting some information from those logs so that they can better understand how their software is used and how to improve it. So, for this lab, you'll write some automation scripts that will process the system log and generate reports based on the information extracted from the log files.\n",
    "\n",
    "What you'll do\n",
    "Use regex to parse a log file\n",
    "Append and modify values in a dictionary\n",
    "Write to a file in CSV format\n",
    "Move files to the appropriate directory for use with the CSV->HTML converter"
   ]
  },
  {
   "cell_type": "markdown",
   "metadata": {},
   "source": [
    "```bash\n",
    "ip : 34.82.23.153\n",
    "username : student-03-00b41e060a5d\n",
    "\n",
    "qwiklabs-L83148684.pem\n",
    "\n",
    "chmod 600 qwiklabs-L83148684.pem\n",
    "\n",
    "ssh -i qwiklabs-L83148684.pem student-03-00b41e060a5d@34.82.23.153"
   ]
  },
  {
   "cell_type": "markdown",
   "metadata": {},
   "source": [
    "#### Exercise - 1\n",
    "We'll be working with a log file named syslog.log, which contains logs related to ticky.\n",
    "\n",
    "You can view this file using:\n",
    "```bash\n",
    "cat syslog.log\n",
    "```\n",
    "\n",
    "When the service runs correctly, it logs an INFO message to syslog. It then states what it did and states the username and ticket number related to the event. If the service encounters a problem, it logs an ERROR message to syslog. This error message indicates what was wrong and states the username that triggered the action that caused the problem.\n",
    "\n",
    "In this section, we'll search and view different types of error messages. The error messages for ticky details the problems with the file with a timestamp for when each problem occurred.\n",
    "\n",
    "These are a few kinds of listed error:\n",
    "\n",
    "Timeout while retrieving information\n",
    "The ticket was modified while updating\n",
    "Connection to DB failed\n",
    "Tried to add information to a closed ticket\n",
    "Permission denied while closing ticket\n",
    "Ticket doesn't exist\n",
    "To grep all the logs from ticky, use the following command:\n",
    "\n",
    "```bash\n",
    "grep ticky syslog.log\n",
    "```\n",
    "\n",
    "In order to search all the ERROR logs, use the following command:    \n",
    "```bash\n",
    "grep ERROR syslog.log\n",
    "```\n",
    "\n",
    "To enlist all the ERROR messages of specific kind use the below syntax.\n",
    "\n",
    "Syntax: grep ERROR [message] [file-name]\n",
    "    \n",
    "```bash\n",
    "grep ERROR \"Connection to DB failed\" syslog.log\n",
    "\n",
    "grep \"ERROR Tried to add information to closed ticket\" syslog.log\n",
    "```\n",
    "\n",
    "Let's now write a few regular expressions using a python3 interpreter.\n",
    "\n",
    "We can also grep the ERROR/INFO messages in a pythonic way using a regular expression. Let's now write a few regular expressions using a python3 interpreter.\n",
    "\n",
    "Open Python shell using the command below:\n",
    "\n",
    "```bash\n",
    "python3\n",
    "````"
   ]
  },
  {
   "cell_type": "code",
   "execution_count": 1,
   "metadata": {},
   "outputs": [
    {
     "name": "stdout",
     "output_type": "stream",
     "text": [
      "username\n"
     ]
    }
   ],
   "source": [
    "import re\n",
    "line = \"May 27 11:45:40 ubuntu.local ticky: INFO: Created ticket [#1234] (username)\"\n",
    "\n",
    "# Extracting the username\n",
    "user_pattern = r\"\\((\\w+)\\)$\"\n",
    "user = re.search(user_pattern, line)\n",
    "print(user[1])"
   ]
  },
  {
   "cell_type": "code",
   "execution_count": 2,
   "metadata": {},
   "outputs": [
    {
     "data": {
      "text/plain": [
       "<re.Match object; span=(29, 57), match='ticky: INFO: Created ticket '>"
      ]
     },
     "execution_count": 2,
     "metadata": {},
     "output_type": "execute_result"
    }
   ],
   "source": [
    "import re\n",
    "line = \"May 27 11:45:40 ubuntu.local ticky: INFO: Created ticket [#1234] (username)\"\n",
    "re.search(r\"ticky: INFO: ([\\w ]*) \", line)\n"
   ]
  },
  {
   "cell_type": "code",
   "execution_count": 4,
   "metadata": {},
   "outputs": [
    {
     "data": {
      "text/plain": [
       "<re.Match object; span=(29, 65), match='ticky: ERROR: Error creating ticket '>"
      ]
     },
     "execution_count": 4,
     "metadata": {},
     "output_type": "execute_result"
    }
   ],
   "source": [
    "line = \"May 27 11:45:40 ubuntu.local ticky: ERROR: Error creating ticket [#1234] (username)\"\n",
    "#re.search(r\"ticky: ([\\w ]*) \", line)\n",
    "re.search(r\"ticky: ERROR: ([\\w ]*) \", line)"
   ]
  },
  {
   "cell_type": "markdown",
   "metadata": {},
   "source": [
    "## Exercise - 2\n",
    "Now, use the Python interactive shell to create a dictionary.\n"
   ]
  },
  {
   "cell_type": "code",
   "execution_count": 5,
   "metadata": {},
   "outputs": [
    {
     "data": {
      "text/plain": [
       "[('apples', 5), ('bananas', 7), ('oranges', 3), ('pears', 2)]"
      ]
     },
     "execution_count": 5,
     "metadata": {},
     "output_type": "execute_result"
    }
   ],
   "source": [
    "fruit = {\"oranges\": 3, \"apples\": 5, \"bananas\": 7, \"pears\": 2}\n",
    "\n",
    "sorted(fruit.items())"
   ]
  },
  {
   "cell_type": "markdown",
   "metadata": {},
   "source": [
    "We'll now sort the dictionary using the item's key. For this use the operator module.\n",
    "\n",
    "Pass the function itemgetter() as an argument to the sorted() function. Since the second element of tuple needs to be sorted, pass the argument 0 to the itemgetter function of the operator module."
   ]
  },
  {
   "cell_type": "code",
   "execution_count": 6,
   "metadata": {},
   "outputs": [
    {
     "data": {
      "text/plain": [
       "[('apples', 5), ('bananas', 7), ('oranges', 3), ('pears', 2)]"
      ]
     },
     "execution_count": 6,
     "metadata": {},
     "output_type": "execute_result"
    }
   ],
   "source": [
    "import operator\n",
    "\n",
    "sorted(fruit.items(), key=operator.itemgetter(0))"
   ]
  },
  {
   "cell_type": "markdown",
   "metadata": {},
   "source": [
    "To sort a dictionary based on its values, pass the argument 1 to the itemgetter function of the operator module."
   ]
  },
  {
   "cell_type": "code",
   "execution_count": 7,
   "metadata": {},
   "outputs": [
    {
     "data": {
      "text/plain": [
       "[('pears', 2), ('oranges', 3), ('apples', 5), ('bananas', 7)]"
      ]
     },
     "execution_count": 7,
     "metadata": {},
     "output_type": "execute_result"
    }
   ],
   "source": [
    "sorted(fruit.items(), key=operator.itemgetter(1))"
   ]
  },
  {
   "cell_type": "markdown",
   "metadata": {},
   "source": [
    "Finally, you can also reverse the order of the sort using the reverse parameter. This parameter takes in a boolean argument.\n",
    "\n",
    "To sort the fruit object from most to least occurrence, we pass the argument reverse=True."
   ]
  },
  {
   "cell_type": "code",
   "execution_count": 8,
   "metadata": {},
   "outputs": [
    {
     "data": {
      "text/plain": [
       "[('bananas', 7), ('apples', 5), ('oranges', 3), ('pears', 2)]"
      ]
     },
     "execution_count": 8,
     "metadata": {},
     "output_type": "execute_result"
    }
   ],
   "source": [
    "sorted(fruit.items(), key = operator.itemgetter(1), reverse=True)"
   ]
  },
  {
   "cell_type": "code",
   "execution_count": null,
   "metadata": {},
   "outputs": [],
   "source": []
  },
  {
   "cell_type": "markdown",
   "metadata": {},
   "source": [
    "You can see the fruit object is now sorted from the most to the least number of occurrences."
   ]
  },
  {
   "cell_type": "markdown",
   "metadata": {},
   "source": [
    "### Exercise - 3\n",
    "We'll now work with a file named csv_to_html.py. This file converts the data in a CSV file into an HTML file that contains a table with the data. Let's practice this with an example file.\n",
    "\n",
    "Create a new CSV file.\n",
    "```bash\n",
    "nano user_emails.csv\n",
    "```\n",
    "\n",
    "```csv\n",
    "Full Name, Email Address\n",
    "Blossom Gill, blossom@abc.edu\n",
    "Hayes Delgado, nonummy@utnisia.com\n",
    "Petra Jones, ac@abc.edu\n",
    "Oleg Noel, noel@liberomauris.ca\n",
    "Ahmed Miller, ahmed.miller@nequenonquam.co.uk\n",
    "Macaulay Douglas, mdouglas@abc.edu\n",
    "Aurora Grant, enim.non@abc.edu\n",
    "Madison Mcintosh, mcintosh@nisiaenean.net\n",
    "Montana Powell, montanap@semmagna.org\n",
    "Rogan Robinson, rr.robinson@abc.edu\n",
    "Simon Rivera, sri@abc.edu\n",
    "Benedict Pacheco, bpacheco@abc.edu\n",
    "Maisie Hendrix, mai.hendrix@abc.edu\n",
    "Xaviera Gould, xlg@utnisia.net\n",
    "Oren Rollins, oren@semmagna.com\n",
    "Flavia Santiago, flavia@utnisia.net\n",
    "Jackson Owens, jackowens@abc.edu\n",
    "Britanni Humphrey, britanni@ut.net\n",
    "Kirk Nixon, kirknixon@abc.edu\n",
    "Bree Campbell, breee@utnisia.net\n",
    "```\n",
    "\n",
    "Give executable permission to the script file csv_to_html.py.\n",
    "```bash\n",
    "chmod +x csv_to_html.py\n",
    "```"
   ]
  },
  {
   "cell_type": "code",
   "execution_count": null,
   "metadata": {},
   "outputs": [],
   "source": [
    "#!/usr/bin/env python3\n",
    "import sys\n",
    "import csv\n",
    "import os\n",
    "\n",
    "def process_csv(csv_file):\n",
    "    \"\"\"Turn the contents of the CSV file into a list of lists\"\"\"\n",
    "    print(\"Processing {}\".format(csv_file))\n",
    "    with open(csv_file,\"r\") as datafile:\n",
    "        data = list(csv.reader(datafile))\n",
    "    return data\n",
    "    \n",
    "def data_to_html(title, data):\n",
    "    \"\"\"Turns a list of lists into an HTML table\"\"\"\n",
    "\n",
    "    # HTML Headers\n",
    "    html_content = \"\"\"\n",
    "<html>\n",
    "<head>\n",
    "<style>\n",
    "table {\n",
    "  width: 25%;\n",
    "  font-family: arial, sans-serif;\n",
    "  border-collapse: collapse;\n",
    "}\n",
    "\n",
    "tr:nth-child(odd) {\n",
    "  background-color: #dddddd;\n",
    "}\n",
    "\n",
    "td, th {\n",
    "  border: 1px solid #dddddd;\n",
    "  text-align: left;\n",
    "  padding: 8px;\n",
    "}\n",
    "</style>\n",
    "</head>\n",
    "<body>\n",
    "\"\"\"\n",
    "\n",
    "\n",
    "    # Add the header part with the given title\n",
    "    html_content += \"<h2>{}</h2><table>\".format(title)\n",
    "\n",
    "    # Add each row in data as a row in the table\n",
    "    # The first line is special and gets treated separately\n",
    "    for i, row in enumerate(data):\n",
    "        html_content += \"<tr>\"\n",
    "        for column in row:\n",
    "            if i == 0:\n",
    "                html_content += \"<th>{}</th>\".format(column)\n",
    "            else:\n",
    "                html_content += \"<td>{}</td>\".format(column)\n",
    "        html_content += \"</tr>\"\n",
    "\n",
    "    html_content += \"\"\"</tr></table></body></html>\"\"\"\n",
    "    return html_content\n",
    "\n",
    "\n",
    "def write_html_file(html_string, html_file):\n",
    "\n",
    "    # Making a note of whether the html file we're writing exists or not\n",
    "    if os.path.exists(html_file):\n",
    "        print(\"{} already exists. Overwriting...\".format(html_file))\n",
    "\n",
    "    with open(html_file,'w') as htmlfile:\n",
    "        htmlfile.write(html_string)\n",
    "    print(\"Table succesfully written to {}\".format(html_file))\n",
    "\n",
    "def main():\n",
    "    \"\"\"Verifies the arguments and then calls the processing function\"\"\"\n",
    "    # Check that command-line arguments are included\n",
    "    if len(sys.argv) < 3:\n",
    "        print(\"ERROR: Missing command-line argument!\")\n",
    "        print(\"Exiting program...\")\n",
    "        sys.exit(1)\n",
    "    \n",
    "    # Open the files\n",
    "    csv_file = sys.argv[1]\n",
    "    html_file = sys.argv[2]\n",
    "    \n",
    "    # Check that file extensions are included\n",
    "    if \".csv\" not in csv_file:\n",
    "        print('Missing \".csv\" file extension from first command-line argument!')\n",
    "        print(\"Exiting program...\")\n",
    "        sys.exit(1)\n",
    "    \n",
    "    if \".html\" not in html_file:\n",
    "        print('Missing \".html\" file extension from second command-line argument!')\n",
    "        print(\"Exiting program...\")\n",
    "        sys.exit(1)\n",
    "    \n",
    "    # Check that the csv file exists\n",
    "    if not os.path.exists(csv_file):\n",
    "        print(\"{} does not exist\".format(csv_file))\n",
    "        print(\"Exiting program...\")\n",
    "        sys.exit(1)\n",
    "\n",
    "    # Process the data and turn it into an HTML\n",
    "    data = process_csv(csv_file)\n",
    "    title = os.path.splitext(os.path.basename(csv_file))[0].replace(\"_\", \" \").title()\n",
    "    html_string = data_to_html(title, data)\n",
    "    write_html_file(html_string, html_file)\n",
    "\n",
    "if __name__ == \"__main__\":\n",
    "    main()"
   ]
  },
  {
   "cell_type": "markdown",
   "metadata": {},
   "source": [
    "To visualize the data in the user_emails.csv file, you have to generate a webpage that'll be served by the webserver running on the machine.\n",
    "\n",
    "The script csv_to_html.py takes in two arguments, the CSV file, and location that would host the HTML page generated. Give write permission to the directory that would host that HTML page:\n",
    "\n",
    "```bash\n",
    "sudo chmod  o+w /var/www/html\n",
    "```\n",
    "\n",
    "Next, run the script csv_to_html.py script by passing two arguments: user_emails.csv file and the path /var/www/html/. Also, append a name to the path with an HTML extension. This should be the name that you want the HTML file to be created with.\n",
    "\n",
    "```bash\n",
    "#./csv_to_html.py user_emails.csv /var/www/html/<html-filename>.html\n",
    "./csv_to_html.py user_emails.csv /var/www/html/emails.html\n",
    "```\n",
    "\n",
    "-bash: ./csv_to_html.py: Permission denied\n",
    "\n",
    "```bash\n",
    "sudo ./csv_to_html.py user_emails.csv /var/www/html/emails.html\n",
    "\n",
    "cat /var/www/html/emails.html\n",
    "```\n",
    "\n",
    "Navigate to the /var/www/html directory. Here, you'll find an HTML file created with the filename you passed to the above script.\n",
    "    \n",
    "```bash\n",
    "ls /var/www/html\n",
    "cd /var/www/html"
   ]
  },
  {
   "cell_type": "markdown",
   "metadata": {},
   "source": [
    "### Generate reports\n",
    "\n",
    "Now, we're going to practice creating a script, named ticky_check.py, that generates two different reports from this internal ticketing system log file i.e., syslog.log. This script will create the following reports:\n",
    "\n",
    "- **The ranking of errors** generated by the system: A list of all the error messages logged and how many times each error was found, sorted by the most common error to the least common error. This report doesn't take into account the users involved.\n",
    "\n",
    "- **The user usage statistics**  for the service: A list of all users that have used the system, including how many info messages and how many error messages they've generated. This report is sorted by username.\n",
    "To create these reports write a python script named ticky_check.py. Use nano editor for this.\n",
    "\n",
    "```bash\n",
    "nano ticky_check.py\n",
    "```\n",
    "\n",
    "Here's your challenge: Write a script to generate two different reports based on the ranking of errors generated by the system and the user usage statistics for the service. You'll write the script on your own, but we'll guide you throughout.\n",
    "\n",
    "First, import all the Python modules that you'll use in this Python script. After importing the necessary modules, initialize two dictionaries: one for the number of different error messages and another to count the number of entries for each user (splitting between INFO and ERROR).\n",
    "\n",
    "Now, parse through each log entry in the syslog.log file by iterating over the file.\n",
    "\n",
    "For each log entry, you'll have to first check if it matches the INFO or ERROR message formats. You should use regular expressions for this. When you get a successful match, add one to the corresponding value in the per_user dictionary. If you get an ERROR message, add one to the corresponding entry in the error dictionary by using proper data structure.\n",
    "\n",
    "After you've processed the log entries from the syslog.log file, you need to sort both the per_user and error dictionary before creating CSV report files.\n",
    "\n",
    "Keep in mind that:\n",
    "\n",
    "The error dictionary should be sorted by the number of errors from most common to least common.\n",
    "The user dictionary should be sorted by username.\n",
    "Insert column names as (\"Error\", \"Count\") at the zero index position of the sorted error dictionary. And insert column names as (\"Username\", \"INFO\", \"ERROR\") at the zero index position of the sorted per_user dictionary.\n",
    "\n",
    "Here's your challenge: Write a script to generate two different reports based on the ranking of errors generated by the system and the user usage statistics for the service. You'll write the script on your own, but we'll guide you throughout.\n",
    "\n",
    "First, import all the Python modules that you'll use in this Python script. After importing the necessary modules, initialize two dictionaries: one for the number of different error messages and another to count the number of entries for each user (splitting between INFO and ERROR).\n",
    "\n",
    "Now, parse through each log entry in the syslog.log file by iterating over the file.\n",
    "\n",
    "For each log entry, you'll have to first check if it matches the INFO or ERROR message formats. You should use regular expressions for this. When you get a successful match, add one to the corresponding value in the per_user dictionary. If you get an ERROR message, add one to the corresponding entry in the error dictionary by using proper data structure.\n",
    "\n",
    "After you've processed the log entries from the syslog.log file, you need to sort both the per_user and error dictionary before creating CSV report files.\n",
    "\n",
    "Keep in mind that:\n",
    "\n",
    "The error dictionary should be sorted by the number of errors from most common to least common.\n",
    "The user dictionary should be sorted by username.\n",
    "Insert column names as (\"Error\", \"Count\") at the zero index position of the sorted error dictionary. And insert column names as (\"Username\", \"INFO\", \"ERROR\") at the zero index position of the sorted per_user dictionary.\n",
    "\n",
    "\n",
    "\n",
    "```python\n",
    "#!/usr/bin/env python3\n",
    "\n",
    "import re\n",
    "import operator\n",
    "import csv\n",
    "\n",
    "per_user = {}\n",
    "error = {}\n",
    "\n",
    "with open(\"syslog.log\") as file:\n",
    "    for log in file.readlines():\n",
    "        username = re.search(r\"\\((.*)\\)\", log).group(1)\n",
    "        log_type = re.search(r\"(INFO|ERROR)\", log).group(1)\n",
    "        if username not in per_user:\n",
    "            per_user[username] = {\"INFO\": 0, \"ERROR\": 0}\n",
    "        per_user[username][log_type] += 1\n",
    "        if log_type == \"ERROR\":\n",
    "            error_msg = re.search(r\"ERROR (.*) \", log).group(1)\n",
    "            if error_msg not in error:\n",
    "                error[error_msg] = 0\n",
    "            error[error_msg] += 1\n",
    "\n",
    "sorted_per_user = sorted(per_user.items(), key=operator.itemgetter(0))\n",
    "sorted_error = sorted(error.items(), key=operator.itemgetter(1), reverse=True)\n",
    "\n",
    "with open(\"error_message.csv\", \"w\") as error_file:\n",
    "    writer = csv.writer(error_file)\n",
    "    writer.writerow([\"Error\", \"Count\"])\n",
    "    writer.writerows(sorted_error)\n",
    "\n",
    "with open(\"user_statistics.csv\", \"w\") as user_file:\n",
    "    writer = csv.writer(user_file)\n",
    "    writer.writerow([\"Username\", \"INFO\", \"ERROR\"])\n",
    "    for item in sorted_per_user:\n",
    "        writer.writerow([item[0], item[1][\"INFO\"], item[1][\"ERROR\"]])\n",
    "```\n",
    "\n",
    "```bash\n",
    "chmod +x ticky_check.py\n",
    "```\n",
    "\n",
    "```bash\n",
    "./ticky_check.py\n",
    "```\n",
    "\n",
    "```bash\n",
    "cat error_message.csv\n",
    "cat user_statistics.csv\n",
    "```\n",
    "\n",
    "```bash\n",
    "python3 ./csv_to_html.py error_message.csv /var/www/html/error_message.html\n",
    "python3 ./csv_to_html.py user_statistics.csv /var/www/html/user_statistics.html\n",
    "```\n",
    "\n",
    "```bash\n",
    "cat /var/www/html/error_message.html\n",
    "cat /var/www/html/user_statistics.html\n",
    "```\n",
    "\n",
    "```bash\n",
    "sudo chmod  o+w /var/www/html\n",
    "```\n",
    "\n",
    "\n"
   ]
  },
  {
   "cell_type": "markdown",
   "metadata": {},
   "source": [
    "\n",
    "```python\n",
    "\n",
    "error = sorted(error.items(), key=operator.itemgetter(1), reverse=True)\n",
    "per_user = sorted(per_user.items(), key=operator.itemgetter(0))\n",
    "\n",
    "error.insert(0, (\"Error\", \"Count\"))\n",
    "per_user.insert(0, (\"Username\", \"INFO\", \"ERROR\"))\n"
   ]
  }
 ],
 "metadata": {
  "kernelspec": {
   "display_name": "base",
   "language": "python",
   "name": "python3"
  },
  "language_info": {
   "codemirror_mode": {
    "name": "ipython",
    "version": 3
   },
   "file_extension": ".py",
   "mimetype": "text/x-python",
   "name": "python",
   "nbconvert_exporter": "python",
   "pygments_lexer": "ipython3",
   "version": "3.10.9"
  },
  "orig_nbformat": 4
 },
 "nbformat": 4,
 "nbformat_minor": 2
}
