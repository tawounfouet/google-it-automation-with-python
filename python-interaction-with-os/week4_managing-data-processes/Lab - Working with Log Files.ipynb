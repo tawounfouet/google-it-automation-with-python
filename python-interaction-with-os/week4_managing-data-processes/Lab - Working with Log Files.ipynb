{
 "cells": [
  {
   "cell_type": "code",
   "execution_count": null,
   "metadata": {},
   "outputs": [],
   "source": [
    "\n",
    "\n",
    "# ssh -i qwiklabs-L83033648.pem student-03-1aaf46716c9e@34.136.139.74"
   ]
  },
  {
   "cell_type": "markdown",
   "metadata": {},
   "source": [
    "```bash\n",
    "\n",
    "qwiklabs-L83062782.pem\n",
    "ip : 34.125.235.142\n",
    "username : student-03-a70b5a597a09\n",
    "\n",
    "chmod 600 qwiklabs-L83062782.pem\n",
    "\n",
    "ssh -i qwiklabs-L83062782.pem student-03-a70b5a597a09@34.125.235.142 \n",
    "\n",
    "```\n",
    "\n",
    "###  View log file\n",
    "```bash\n",
    "# Viewing log file\n",
    "cat ~/data/fishy.log\n",
    "\n",
    "\n",
    "```\n",
    "\n",
    "\n",
    "### Find an error\n",
    "In this lab, we'll search for the CRON error that failed to start. To do this, we'll use a python script to search log files for a particular type of ERROR log. In this case, we'll search for a CRON error within the fishy.log file that failed to start by narrowing our search to \"CRON ERROR Failed to start\".\n",
    "\n",
    "To get started, let's create a python script named find_error.py within scripts directory using nano editor.\n",
    "    \n",
    "```bash\n",
    "nano ~/scripts/find_error.py\n",
    "\n",
    "```python\n",
    "#!/usr/bin/env python3\n",
    "\n",
    "import sys\n",
    "import os\n",
    "import re\n",
    "\n",
    "import sys\n",
    "import os\n",
    "import re\n",
    "\n",
    "\n",
    "def error_search(log_file):\n",
    "  error = input(\"What is the error? \")\n",
    "  returned_errors = []\n",
    "  with open(log_file, mode='r', encoding='UTF-8') as file:\n",
    "    for log in  file.readlines():\n",
    "      error_patterns = [\"error\"]\n",
    "      for i in range(len(error.split(' '))):\n",
    "        error_patterns.append(r\"{}\".format(error.split(' ')[i].lower()))\n",
    "      if all(re.search(error_pattern, log.lower()) for error_pattern in error_patterns):\n",
    "        returned_errors.append(log)\n",
    "    file.close()\n",
    "  return returned_errors\n",
    "```\n",
    "\n",
    "### Create an output file\n",
    "Let's define another function file_output that takes returned_errors, returned by a previous function, as a formal parameter. This function will create an output file named error_found.log within the same directory where the python script is located. If the file already exists, it will overwrite the existing file.\n",
    "\n",
    "```python\n",
    "def file_output(returned_errors):\n",
    "  with open(os.path.expanduser('~') + '/data/errors_found.log', 'w') as file:\n",
    "    for error in returned_errors:\n",
    "      file.write(error)\n",
    "    file.close()\n",
    "\n",
    "```\n",
    "\n",
    "### Function call\n",
    "Now, let's call the functions and run the script.\n",
    "\n",
    "Define the main function and call both functions that we defined in the earlier sections.\n",
    "\n",
    "The variable log_file takes in the path to the log file passed as a parameter. In our case, the file is fishy.log. Call the first function i.e., error_search() and pass the variable log_file to the function. This function will search and return a list of errors that would be stored in the variable returned_errors. Call the second function file_output and pass the variable returned_errors as a parameter.\n",
    "\n",
    "sys.exit(0) is used to exit from Python, the optional argument passed can be an integer giving the exit status (defaulting to zero), or another type of object. If it is an integer, zero is considered \"successful termination\" and any nonzero value is considered an \"abnormal termination\" by shells.\n",
    "\n",
    "```python\n",
    "if __name__ == \"__main__\":\n",
    "  log_file = sys.argv[1]\n",
    "  returned_errors = error_search(log_file)\n",
    "  file_output(returned_errors)\n",
    "  sys.exit(0)\n",
    "\n",
    "```\n",
    "\n",
    "### Run the script\n",
    "```bash\n",
    "\n",
    "# Make the script executable before running it\n",
    "sudo chmod +x find_error.py\n",
    "\n",
    "# Now, run the file by passing the path to fishy.log as a parameter to the script.\n",
    "./find_error.py ~/data/fishy.log\n",
    "\n",
    "# This script will now prompt for the type of error to be searched. Continue by entering the following type of error:\n",
    "CRON ERROR Failed to start\n",
    "\n",
    "# The script will now create a file named errors_found.log within the same directory where the python script is located. This file will contain all the errors that were found in the log file.\n",
    "```\n",
    "\n",
    "###  View the output file\n",
    "```bash\n",
    "# View the output file\n",
    "cat ~/data/errors_found.log\n",
    "\n",
    "```\n"
   ]
  },
  {
   "cell_type": "code",
   "execution_count": 1,
   "metadata": {},
   "outputs": [
    {
     "data": {
      "text/plain": [
       "'/Users/awf'"
      ]
     },
     "execution_count": 1,
     "metadata": {},
     "output_type": "execute_result"
    }
   ],
   "source": [
    "import os\n",
    "\n",
    "# expanduser() method : return the home directory of the user in the system\n",
    "os.path.expanduser('~')"
   ]
  },
  {
   "cell_type": "code",
   "execution_count": null,
   "metadata": {},
   "outputs": [],
   "source": []
  }
 ],
 "metadata": {
  "kernelspec": {
   "display_name": "base",
   "language": "python",
   "name": "python3"
  },
  "language_info": {
   "codemirror_mode": {
    "name": "ipython",
    "version": 3
   },
   "file_extension": ".py",
   "mimetype": "text/x-python",
   "name": "python",
   "nbconvert_exporter": "python",
   "pygments_lexer": "ipython3",
   "version": "3.10.9"
  },
  "orig_nbformat": 4
 },
 "nbformat": 4,
 "nbformat_minor": 2
}
