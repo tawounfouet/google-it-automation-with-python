{
 "cells": [
  {
   "cell_type": "code",
   "execution_count": null,
   "metadata": {},
   "outputs": [],
   "source": []
  },
  {
   "cell_type": "markdown",
   "metadata": {},
   "source": [
    "### Filtering Log Files with Regular Expressions"
   ]
  },
  {
   "cell_type": "code",
   "execution_count": 1,
   "metadata": {},
   "outputs": [
    {
     "name": "stdout",
     "output_type": "stream",
     "text": [
      "cat: syslog: No such file or directory\n"
     ]
    }
   ],
   "source": [
    "!cat syslog"
   ]
  },
  {
   "cell_type": "code",
   "execution_count": 3,
   "metadata": {},
   "outputs": [
    {
     "data": {
      "text/plain": [
       "<re.Match object; span=(42, 61), match='USER (naughty_user)'>"
      ]
     },
     "execution_count": 3,
     "metadata": {},
     "output_type": "execute_result"
    }
   ],
   "source": [
    "import re\n",
    "\n",
    "pattern = r'USER \\((\\w+)\\)$'\n",
    "\n",
    "# Explanation of the pattern:\n",
    "    ## USER: matches the characters USER literally (case sensitive)\n",
    "    ## \\( : matches the character ( literally (case sensitive)\n",
    "    ## \\w+ : matches any word character (equal to [a-zA-Z0-9_])\n",
    "    ## + Quantifier — Matches between one and unlimited times, as many times as possible, giving back as needed (greedy)\n",
    "    ## \\) : matches the character ) literally (case sensitive)\n",
    "    ## ( ) : Capturing Group\n",
    "    ## $ : asserts position at the end of a line\n",
    "\n",
    "line = \"Jul 6 14:01:23 computer.name CRON[29440]: USER (naughty_user)\"\n",
    "\n",
    "result = re.search(pattern, line)\n",
    "result\n"
   ]
  },
  {
   "cell_type": "code",
   "execution_count": null,
   "metadata": {},
   "outputs": [],
   "source": []
  },
  {
   "cell_type": "markdown",
   "metadata": {},
   "source": [
    "### Making sense out of the Data"
   ]
  },
  {
   "cell_type": "code",
   "execution_count": 5,
   "metadata": {},
   "outputs": [
    {
     "name": "stdout",
     "output_type": "stream",
     "text": [
      "{'good_user': 1}\n"
     ]
    }
   ],
   "source": [
    "usernames = {}\n",
    "name = \"good_user\"\n",
    "\n",
    "usernames[name] = usernames.get(name, 0) + 1\n",
    "print(usernames)"
   ]
  },
  {
   "cell_type": "code",
   "execution_count": 6,
   "metadata": {},
   "outputs": [
    {
     "name": "stdout",
     "output_type": "stream",
     "text": [
      "{'good_user': 2}\n"
     ]
    }
   ],
   "source": [
    "usernames[name] = usernames.get(name, 0) + 1\n",
    "print(usernames)"
   ]
  },
  {
   "cell_type": "markdown",
   "metadata": {},
   "source": [
    "Generate syslog file on Macos\n",
    "```bash\n",
    "$ syslog -k Sender kernel -k Message C -k Time > syslog.log\n",
    "\n",
    "# NOTE:  Most system logs have moved to a new logging system.  See log(1) for more information.\n",
    "\n",
    "# correct command\n",
    "$ log show --predicate 'process == \"kernel\"' --info --last 1h > syslog.log\n",
    "```\n",
    "\n",
    "\n",
    "```\n",
    "\"Jul 6 14:01:01 computer.name CRON[29440]: USER (naughty_user)\"\n",
    "\"Jul 6 14:01:10 computer.name CRON[29440]: USER (naughty_user) FAILED to authorize user with PAM (Authentication service cannot retrieve authentication info)\"\n",
    "\"Jul 6 14:01:12 computer.name CRON[29438]: USER (awful_user)\"\n",
    "\"Jul 6 14:01:20 computer.name CRON[29438]: USER (naughty_user) FAILED to authorize user with PAM (Authentication service cannot retrieve authentication info)\"\n",
    "\"Jul 6 14:01:30 computer.name CRON[29438]: USER (awful_user) FAILED to authorize user with PAM (Authentication service cannot retrieve authentication info)\"\n",
    "\"Jul 6 14:02:23 computer.name CRON[29438]: USER (thomas) FAILED to authorize user with PAM (Authentication service cannot retrieve authentication info)\"\n",
    "\"Jul 6 14:02:50 computer.name CRON[29440]: USER (thomas) FAILED to authorize user with PAM (Authentication service cannot retrieve authentication info)\"\n",
    "\n"
   ]
  }
 ],
 "metadata": {
  "kernelspec": {
   "display_name": "base",
   "language": "python",
   "name": "python3"
  },
  "language_info": {
   "codemirror_mode": {
    "name": "ipython",
    "version": 3
   },
   "file_extension": ".py",
   "mimetype": "text/x-python",
   "name": "python",
   "nbconvert_exporter": "python",
   "pygments_lexer": "ipython3",
   "version": "3.10.9"
  },
  "orig_nbformat": 4
 },
 "nbformat": 4,
 "nbformat_minor": 2
}
