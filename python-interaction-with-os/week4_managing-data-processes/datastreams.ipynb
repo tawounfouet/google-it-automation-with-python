{
 "cells": [
  {
   "cell_type": "code",
   "execution_count": null,
   "metadata": {},
   "outputs": [],
   "source": []
  },
  {
   "cell_type": "markdown",
   "metadata": {},
   "source": [
    "### Strandard Streams\n",
    "\n",
    "#### I/O Streams\n",
    "\n",
    "Standard Streams are connected to the terminal by default.\n",
    "\n",
    "Most computers have three standard streams by default:\n",
    "* Standard Input (`stdind`) : The stream that data is read from\n",
    "* Standard Output (`stdout`) : The stream that data is written to\n",
    "* Standard Error (`stderr`) : The stream that error messages are written to\n"
   ]
  },
  {
   "cell_type": "code",
   "execution_count": null,
   "metadata": {},
   "outputs": [],
   "source": [
    "# I/O Streams\n",
    "\n"
   ]
  },
  {
   "cell_type": "code",
   "execution_count": null,
   "metadata": {},
   "outputs": [],
   "source": []
  },
  {
   "cell_type": "code",
   "execution_count": null,
   "metadata": {},
   "outputs": [],
   "source": []
  },
  {
   "cell_type": "markdown",
   "metadata": {},
   "source": [
    "### Environnement Variables"
   ]
  },
  {
   "cell_type": "code",
   "execution_count": 1,
   "metadata": {},
   "outputs": [
    {
     "name": "stdout",
     "output_type": "stream",
     "text": [
      "COMMAND_MODE=unix2003\n",
      "HOME=/Users/awf\n",
      "LESS=-R\n",
      "LOGNAME=awf\n",
      "LSCOLORS=Gxfxcxdxbxegedabagacad\n",
      "LS_COLORS=di=1;36:ln=35:so=32:pi=33:ex=31:bd=34;46:cd=34;43:su=30;41:sg=30;46:tw=30;42:ow=30;43\n",
      "LaunchInstanceID=7DA96238-1833-4F1A-A2F0-66D861CD3537\n",
      "MallocNanoZone=0\n",
      "OLDPWD=/Users/awf/Projects/python/google-it-automation-with-python/python-interaction-with-os/week4_managing-data-processes\n",
      "ORIGINAL_XDG_CURRENT_DESKTOP=undefined\n",
      "PAGER=cat\n",
      "PATH=/Users/awf/miniconda3/bin:/Users/awf/miniconda3/condabin:/Users/awf/anaconda3/bin:/Users/awf/.pyenv/shims:/Library/Frameworks/Python.framework/Versions/3.8/bin:/Library/Frameworks/Python.framework/Versions/3.10/bin:/Library/Frameworks/Python.framework/Versions/3.9/bin:/usr/local/bin:/System/Cryptexes/App/usr/bin:/usr/bin:/bin:/usr/sbin:/sbin:/usr/local/share/dotnet:~/.dotnet/tools:/Library/Frameworks/Mono.framework/Versions/Current/Commands:/Applications/Postgres.app/Contents/Versions/latest/bin:/var/run/com.apple.security.cryptexd/codex.system/bootstrap/usr/local/bin:/var/run/com.apple.security.cryptexd/codex.system/bootstrap/usr/bin:/var/run/com.apple.security.cryptexd/codex.system/bootstrap/usr/appleinternal/bin\n",
      "PWD=/Users/awf/Projects/python/google-it-automation-with-python/python-interaction-with-os/week4_managing-data-processes\n",
      "PYENV_SHELL=zsh\n",
      "SECURITYSESSIONID=186a3\n",
      "SHELL=/bin/zsh\n",
      "SHLVL=2\n",
      "SSH_AUTH_SOCK=/private/tmp/com.apple.launchd.f8gYKdUG2t/Listeners\n",
      "TMPDIR=/var/folders/8y/dhqjv_h574s900xmlg8w791r0000gn/T/\n",
      "USER=awf\n",
      "VSCODE_AMD_ENTRYPOINT=vs/workbench/api/node/extensionHostProcess\n",
      "VSCODE_CODE_CACHE_PATH=/Users/awf/Library/Application Support/Code/CachedData/abd2f3db4bdb28f9e95536dfa84d8479f1eb312d\n",
      "VSCODE_CRASH_REPORTER_PROCESS_TYPE=extensionHost\n",
      "VSCODE_CWD=/\n",
      "VSCODE_HANDLES_UNCAUGHT_ERRORS=true\n",
      "VSCODE_IPC_HOOK=/Users/awf/Library/Application Support/Code/1.82-main.sock\n",
      "VSCODE_NLS_CONFIG={\"locale\":\"fr\",\"osLocale\":\"fr-fr\",\"availableLanguages\":{\"*\":\"fr\"},\"_languagePackId\":\"aa3fba1efbce50013ff53826d3770fe2.fr\",\"_translationsConfigFile\":\"/Users/awf/Library/Application Support/Code/clp/aa3fba1efbce50013ff53826d3770fe2.fr/tcf.json\",\"_cacheRoot\":\"/Users/awf/Library/Application Support/Code/clp/aa3fba1efbce50013ff53826d3770fe2.fr\",\"_resolvedLanguagePackCoreLocation\":\"/Users/awf/Library/Application Support/Code/clp/aa3fba1efbce50013ff53826d3770fe2.fr/abd2f3db4bdb28f9e95536dfa84d8479f1eb312d\",\"_corruptedFile\":\"/Users/awf/Library/Application Support/Code/clp/aa3fba1efbce50013ff53826d3770fe2.fr/corrupted.info\",\"_languagePackSupport\":true}\n",
      "VSCODE_PID=488\n",
      "XPC_FLAGS=0x0\n",
      "XPC_SERVICE_NAME=0\n",
      "ZSH=/Users/awf/.oh-my-zsh\n",
      "__CFBundleIdentifier=com.microsoft.VSCode\n",
      "__CF_USER_TEXT_ENCODING=0x1F5:0x0:0x1\n",
      "ELECTRON_RUN_AS_NODE=1\n",
      "CONDA_SHLVL=1\n",
      "CONDA_PROMPT_MODIFIER=(base) \n",
      "PYTHONUNBUFFERED=1\n",
      "PYTHONIOENCODING=utf-8\n",
      "CONDA_EXE=/Users/awf/miniconda3/bin/conda\n",
      "_CE_CONDA=\n",
      "CONDA_ROOT=/Users/awf/miniconda3\n",
      "CONDA_PREFIX=/Users/awf/miniconda3\n",
      "_CE_M=\n",
      "CONDA_PYTHON_EXE=/Users/awf/miniconda3/bin/python\n",
      "LC_CTYPE=UTF-8\n",
      "CONDA_DEFAULT_ENV=base\n",
      "PYDEVD_IPYTHON_COMPATIBLE_DEBUGGING=1\n",
      "PYDEVD_USE_FRAME_EVAL=NO\n",
      "TERM=xterm-color\n",
      "CLICOLOR=1\n",
      "FORCE_COLOR=1\n",
      "CLICOLOR_FORCE=1\n",
      "GIT_PAGER=cat\n",
      "MPLBACKEND=module://matplotlib_inline.backend_inline\n",
      "_=/usr/bin/env\n"
     ]
    }
   ],
   "source": [
    "!env"
   ]
  },
  {
   "cell_type": "code",
   "execution_count": 2,
   "metadata": {},
   "outputs": [
    {
     "name": "stdout",
     "output_type": "stream",
     "text": [
      "/Users/awf/miniconda3/bin:/Users/awf/miniconda3/condabin:/Users/awf/anaconda3/bin:/Users/awf/.pyenv/shims:/Library/Frameworks/Python.framework/Versions/3.8/bin:/Library/Frameworks/Python.framework/Versions/3.10/bin:/Library/Frameworks/Python.framework/Versions/3.9/bin:/usr/local/bin:/System/Cryptexes/App/usr/bin:/usr/bin:/bin:/usr/sbin:/sbin:/usr/local/share/dotnet:~/.dotnet/tools:/Library/Frameworks/Mono.framework/Versions/Current/Commands:/Applications/Postgres.app/Contents/Versions/latest/bin:/var/run/com.apple.security.cryptexd/codex.system/bootstrap/usr/local/bin:/var/run/com.apple.security.cryptexd/codex.system/bootstrap/usr/bin:/var/run/com.apple.security.cryptexd/codex.system/bootstrap/usr/appleinternal/bin\n"
     ]
    }
   ],
   "source": [
    "!echo $PATH"
   ]
  },
  {
   "cell_type": "code",
   "execution_count": 14,
   "metadata": {},
   "outputs": [
    {
     "data": {
      "text/plain": [
       "'No Environment Variable Found'"
      ]
     },
     "execution_count": 14,
     "metadata": {},
     "output_type": "execute_result"
    }
   ],
   "source": [
    "import os \n",
    "\n",
    "#os.environ['PATH'] = os.environ['PATH'] + ':/usr/local/bin'\n",
    "\n",
    "#print(\"HOME: \" + os.environ['HOME'])\n",
    "#os.environ['HOME']\n",
    "os.environ.get('HOME')\n",
    "os.environ.get('SHELL')\n",
    "os.environ.get('PATH')\n",
    "os.environ.get('FRUIT')\n",
    "os.environ.get('FRUIT', \"No Environment Variable Found\")"
   ]
  },
  {
   "cell_type": "code",
   "execution_count": 13,
   "metadata": {},
   "outputs": [
    {
     "name": "stdout",
     "output_type": "stream",
     "text": [
      "HOME: /Users/awf\n",
      "SHELL: /bin/zsh\n",
      "FRUIT:  \n"
     ]
    }
   ],
   "source": [
    "# The get() method allows us to specify a default value to return if the environment variable is not found.\n",
    "\n",
    "print(\"HOME: \" + os.environ.get('HOME', \" \"))\n",
    "print(\"SHELL: \" + os.environ.get('SHELL', \" \"))\n",
    "print(\"FRUIT: \" + os.environ.get('FRUIT', \" \"))"
   ]
  },
  {
   "cell_type": "code",
   "execution_count": 15,
   "metadata": {},
   "outputs": [],
   "source": [
    "# add a new environment variable \n",
    "os.environ['FRUIT'] = 'Pineapple'"
   ]
  },
  {
   "cell_type": "code",
   "execution_count": 16,
   "metadata": {},
   "outputs": [
    {
     "name": "stdout",
     "output_type": "stream",
     "text": [
      "FRUIT: Pineapple\n"
     ]
    }
   ],
   "source": [
    "print(\"FRUIT: \" + os.environ.get('FRUIT', \" \"))"
   ]
  },
  {
   "cell_type": "markdown",
   "metadata": {},
   "source": []
  },
  {
   "cell_type": "markdown",
   "metadata": {},
   "source": [
    "### Commands Lines Arguments\n",
    "\n"
   ]
  },
  {
   "cell_type": "code",
   "execution_count": 17,
   "metadata": {},
   "outputs": [
    {
     "name": "stdout",
     "output_type": "stream",
     "text": [
      "['/Users/awf/miniconda3/lib/python3.10/site-packages/ipykernel_launcher.py', '--ip=127.0.0.1', '--stdin=9003', '--control=9001', '--hb=9000', '--Session.signature_scheme=\"hmac-sha256\"', '--Session.key=b\"4f73931d-d92e-4fef-ae5d-ec5f51a2b203\"', '--shell=9002', '--transport=\"tcp\"', '--iopub=9004', '--f=/Users/awf/Library/Jupyter/runtime/kernel-v2-924sew3GI03kTdk.json']\n"
     ]
    }
   ],
   "source": [
    "import sys\n",
    "print(sys.argv)"
   ]
  },
  {
   "cell_type": "code",
   "execution_count": 19,
   "metadata": {},
   "outputs": [
    {
     "name": "stdout",
     "output_type": "stream",
     "text": [
      "       5       5      52 parameters.py\n"
     ]
    }
   ],
   "source": [
    "#!wc -l /etc/passwd\n",
    "\n",
    "!wc parameters.py"
   ]
  },
  {
   "cell_type": "code",
   "execution_count": 21,
   "metadata": {},
   "outputs": [
    {
     "name": "stdout",
     "output_type": "stream",
     "text": [
      "0\n"
     ]
    }
   ],
   "source": [
    "# Exit status of : \n",
    "    ## - 0 : means success\n",
    "    ## - 1 : means failure\n",
    "    ## - 2 : means that the command was used incorrectly\n",
    "\n",
    "!echo $? "
   ]
  },
  {
   "cell_type": "code",
   "execution_count": null,
   "metadata": {},
   "outputs": [],
   "source": [
    "# creating a new file\n",
    "\n",
    "import os\n",
    "import sys\n",
    "\n",
    "filename = sys.argv[1]\n",
    "\n",
    "if not os.path.exists(filename):\n",
    "    with open(filename, 'w') as f:\n",
    "        f.write('New file created\\n')\n",
    "else:\n",
    "    print('Error, the file {} already exists!'.format(filename))\n",
    "    sys.exit(1)"
   ]
  }
 ],
 "metadata": {
  "kernelspec": {
   "display_name": "base",
   "language": "python",
   "name": "python3"
  },
  "language_info": {
   "codemirror_mode": {
    "name": "ipython",
    "version": 3
   },
   "file_extension": ".py",
   "mimetype": "text/x-python",
   "name": "python",
   "nbconvert_exporter": "python",
   "pygments_lexer": "ipython3",
   "version": "3.10.9"
  },
  "orig_nbformat": 4
 },
 "nbformat": 4,
 "nbformat_minor": 2
}
